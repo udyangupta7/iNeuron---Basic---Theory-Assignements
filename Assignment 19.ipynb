{
 "cells": [
  {
   "cell_type": "markdown",
   "id": "e01a8248",
   "metadata": {},
   "source": [
    "#### Q1: Make a class called Thing with no contents and print it. Then, create an object called example from this class and also print it. Are the printed values the same or different?\n",
    "\n",
    "#### A1:"
   ]
  },
  {
   "cell_type": "code",
   "execution_count": 8,
   "id": "faa4a033",
   "metadata": {},
   "outputs": [],
   "source": [
    "class Things:\n",
    "    def __init__(self):\n",
    "        pass"
   ]
  },
  {
   "cell_type": "code",
   "execution_count": 13,
   "id": "3543473f",
   "metadata": {},
   "outputs": [
    {
     "name": "stdout",
     "output_type": "stream",
     "text": [
      "printing the example object!\n"
     ]
    }
   ],
   "source": [
    "class Things:\n",
    "    def __init__(self):\n",
    "        pass\n",
    "    def example(self):\n",
    "        print(\"printing the example object!\")\n",
    "things = Things()\n",
    "things.example()"
   ]
  },
  {
   "cell_type": "markdown",
   "id": "6897d147",
   "metadata": {},
   "source": [
    "#### Q2: Create a new class called Thing2 and add the value 'abc' to the letters class attribute. Letters should be printed.\n",
    "\n",
    "#### A2:"
   ]
  },
  {
   "cell_type": "code",
   "execution_count": 18,
   "id": "66fc5653",
   "metadata": {},
   "outputs": [
    {
     "name": "stdout",
     "output_type": "stream",
     "text": [
      "abc\n"
     ]
    }
   ],
   "source": [
    "class Letters:\n",
    "    def __init__(self):\n",
    "        pass\n",
    "    def example(self):\n",
    "        print(\"printing the Letters class!\")\n",
    "class Things2(Letters):\n",
    "    def __init__(self):\n",
    "        pass\n",
    "    def letters(self):\n",
    "        print(\"abc\")\n",
    "things = Things2()\n",
    "things.letters()"
   ]
  },
  {
   "cell_type": "markdown",
   "id": "957b9a5c",
   "metadata": {},
   "source": [
    "#### Q3: Make yet another class called, of-course, Thing3. This time, assign the value 'xyz' to an instance (object) attribute called letters. Print letters. Do you need to make an object from the class to do this?\n",
    "\n",
    "#### A3:"
   ]
  },
  {
   "cell_type": "code",
   "execution_count": 26,
   "id": "2b277c6e",
   "metadata": {},
   "outputs": [
    {
     "name": "stdout",
     "output_type": "stream",
     "text": [
      "xyz\n"
     ]
    }
   ],
   "source": [
    "class Things3:\n",
    "    def __init__(self,letters):\n",
    "        self.letters = letters\n",
    "    def printing(letters):\n",
    "        print(\"xyz\")\n",
    "things3  = Things3('Hello')\n",
    "things3.printing()"
   ]
  },
  {
   "cell_type": "markdown",
   "id": "97c77026",
   "metadata": {},
   "source": [
    "#### Q4: Create an Element class with the instance attributes name, symbol, and number. Create a class object with the values 'Hydrogen,' 'H,' and 1.\n",
    "\n",
    "#### A4:"
   ]
  },
  {
   "cell_type": "code",
   "execution_count": 55,
   "id": "0d90e86a",
   "metadata": {},
   "outputs": [
    {
     "name": "stdout",
     "output_type": "stream",
     "text": [
      "Hydrogen H 1\n"
     ]
    }
   ],
   "source": [
    "class Element:\n",
    "    def __init__(self,name,symbol,number):\n",
    "        self.name = name\n",
    "        self.symbol = symbol\n",
    "        self.number = number\n",
    "    def printing(self,name,symbol,number):\n",
    "        print(name,symbol,number)\n",
    "ele = Element('Hydrogen','H',1)\n",
    "ele.printing('Hydrogen','H',1)"
   ]
  },
  {
   "cell_type": "markdown",
   "id": "59b2d079",
   "metadata": {},
   "source": [
    "#### Q5: Make a dictionary with these keys and values: 'name': 'Hydrogen', 'symbol': 'H', 'number': 1. Then, create an object called hydrogen from class Element using this dictionary.\n",
    "\n",
    "#### A5:"
   ]
  },
  {
   "cell_type": "code",
   "execution_count": 29,
   "id": "ec07f0a1",
   "metadata": {},
   "outputs": [
    {
     "name": "stdout",
     "output_type": "stream",
     "text": [
      "Hydrogen H 1\n"
     ]
    }
   ],
   "source": [
    "class Element(object):\n",
    "    def __init__(self, my_dict):\n",
    "        for key in my_dict:\n",
    "            setattr(self, key, my_dict[key])\n",
    "    def element_class():\n",
    "        my_dict = {'name': 'Hydrogen', \n",
    "               'symbol': 'H', \n",
    "               'number': 1}\n",
    "hydrogen = Element(my_dict)\n",
    "print(hydrogen.name, hydrogen.symbol, hydrogen.number)"
   ]
  },
  {
   "cell_type": "markdown",
   "id": "3c5850b7",
   "metadata": {},
   "source": [
    "#### Q6: For the Element class, define a method called dump() that prints the values of the object’s attributes (name, symbol, and number). Create the hydrogen object from this new definition and use dump() to print its attributes.\n",
    "\n",
    "\n",
    "#### A6:"
   ]
  },
  {
   "cell_type": "code",
   "execution_count": 39,
   "id": "9f1f9b38",
   "metadata": {},
   "outputs": [
    {
     "name": "stdout",
     "output_type": "stream",
     "text": [
      "Hydrogen H 1\n"
     ]
    }
   ],
   "source": [
    "class Element(object):\n",
    "    def __init__(self, my_dict):\n",
    "        for key in my_dict:\n",
    "            setattr(self, key, my_dict[key])\n",
    "    def dump():\n",
    "        my_dict = {'name': 'Hydrogen', \n",
    "               'symbol': 'H', \n",
    "               'number': 1}\n",
    "hydrogen = Element(my_dict)\n",
    "print(hydrogen.name,hydrogen.symbol,hydrogen.number)"
   ]
  },
  {
   "cell_type": "markdown",
   "id": "85a0ed6e",
   "metadata": {},
   "source": [
    "#### Q7: Call print(hydrogen). In the definition of Element, change the name of method dump to __str__, create a new hydrogen object, and call print(hydrogen) again.\n",
    "\n",
    "\n",
    "\n",
    "#### A7:"
   ]
  },
  {
   "cell_type": "code",
   "execution_count": 40,
   "id": "540c3265",
   "metadata": {},
   "outputs": [
    {
     "name": "stdout",
     "output_type": "stream",
     "text": [
      "Hydrogen H 1\n"
     ]
    }
   ],
   "source": [
    "class Element(object):\n",
    "    def __init__(self, my_dict):\n",
    "        for key in my_dict:\n",
    "            setattr(self, key, my_dict[key])\n",
    "    def strr():\n",
    "        my_dict = {'name': 'Hydrogen', \n",
    "               'symbol': 'H', \n",
    "               'number': 1}\n",
    "hydrogen = Element(my_dict)\n",
    "print(hydrogen.name,hydrogen.symbol,hydrogen.number)"
   ]
  },
  {
   "cell_type": "markdown",
   "id": "ebceed70",
   "metadata": {},
   "source": [
    "#### Q8: Modify Element to make the attributes name, symbol, and number private. Define a getter property for each to return its value.\n",
    "\n",
    "#### A8:"
   ]
  },
  {
   "cell_type": "code",
   "execution_count": 65,
   "id": "1d0a698f",
   "metadata": {},
   "outputs": [
    {
     "name": "stdout",
     "output_type": "stream",
     "text": [
      "Hydrogen H 1\n"
     ]
    }
   ],
   "source": [
    "class Element(object):\n",
    "    def __init__(self, my_dict):\n",
    "        for key in my_dict:\n",
    "            setattr(self, key, my_dict[key])\n",
    "    def strr():\n",
    "        my_dict = {'name': 'Hydrogen', \n",
    "               'symbol': 'H', \n",
    "               'number': 1}\n",
    "hydrogen = Element(my_dict)\n",
    "print(hydrogen.name,hydrogen.symbol,hydrogen.number)"
   ]
  },
  {
   "cell_type": "markdown",
   "id": "520e9942",
   "metadata": {},
   "source": [
    "#### Q9: Define three classes: Bear, Rabbit, and Octothorpe. For each, define only one method: eats(). This should return 'berries' (Bear), 'clover' (Rabbit), or 'campers' (Octothorpe). Create one object from each and print what it eats.\n",
    "\n",
    "#### A9:"
   ]
  },
  {
   "cell_type": "code",
   "execution_count": 79,
   "id": "d1d058b6",
   "metadata": {},
   "outputs": [
    {
     "name": "stdout",
     "output_type": "stream",
     "text": [
      "berries , clover & campers\n"
     ]
    }
   ],
   "source": [
    "class Bear:\n",
    "    def eats(self):\n",
    "        return \"berries\"\n",
    "class Rabbit:\n",
    "    def eats(self):\n",
    "        return \"clover\"\n",
    "class Octothorpe:\n",
    "    def eats(self):\n",
    "        return \"campers\"\n",
    "b,r,o = Bear(),Rabbit(),Octothorpe()\n",
    "print(b.eats(),\",\",r.eats(),\"&\",o.eats())"
   ]
  },
  {
   "cell_type": "markdown",
   "id": "ba060a36",
   "metadata": {},
   "source": [
    "#### Q10: Define these classes: Laser, Claw, and SmartPhone. Each has only one method: does(). This returns 'disintegrate' (Laser), 'crush' (Claw), or 'ring' (SmartPhone). Then, define the class Robot that has one instance (object) of each of these. Define a does() method for the Robot that prints what its component objects do.\n",
    "\n",
    "#### A10:"
   ]
  },
  {
   "cell_type": "code",
   "execution_count": 77,
   "id": "399ee852",
   "metadata": {},
   "outputs": [
    {
     "name": "stdout",
     "output_type": "stream",
     "text": [
      "I have many attachments: My laser, to disintegrate My claw, to crush My smartphone, to ring.\n"
     ]
    }
   ],
   "source": [
    "class Laser: \n",
    "    def does(self): \n",
    "        return 'disintegrate'  \n",
    "    \n",
    "class Claw:  \n",
    "    def does(self): \n",
    "        return 'crush' \n",
    "class SmartPhone: \n",
    "    def does(self):  \n",
    "        return 'ring' \n",
    "class Robot: \n",
    "    def __init__(self): \n",
    "        self.laser = Laser() \n",
    "        self.claw = Claw() \n",
    "        self.smartphone = SmartPhone() \n",
    "    def does(self): \n",
    "        return '''I have many attachments: My laser, to %s My claw, to %s My smartphone, to %s.''' % (self.laser.does(),self.claw.does(),self.smartphone.does()) \n",
    "robbie = Robot() \n",
    "print(robbie.does())"
   ]
  }
 ],
 "metadata": {
  "kernelspec": {
   "display_name": "Python 3",
   "language": "python",
   "name": "python3"
  },
  "language_info": {
   "codemirror_mode": {
    "name": "ipython",
    "version": 3
   },
   "file_extension": ".py",
   "mimetype": "text/x-python",
   "name": "python",
   "nbconvert_exporter": "python",
   "pygments_lexer": "ipython3",
   "version": "3.8.8"
  }
 },
 "nbformat": 4,
 "nbformat_minor": 5
}
