{
 "cells": [
  {
   "cell_type": "markdown",
   "metadata": {},
   "source": [
    "## Assignment 7:\n",
    "\n",
    "### Q1: What is the name of the feature responsible for generating Regex objects?\n",
    "\n",
    "### A1:"
   ]
  },
  {
   "cell_type": "markdown",
   "metadata": {},
   "source": [
    "Module Regular Expressions(RE) specifies a set of strings(pattern) that matches it. the compile function is responsible for generating regex objects. \n",
    "\n",
    "Function compile( ):\n",
    "\n",
    "Regular expressions are compiled into pattern objects, which have methods for various operations such as searching for pattern matches or performing string substitutions. "
   ]
  },
  {
   "cell_type": "code",
   "execution_count": 1,
   "metadata": {},
   "outputs": [
    {
     "ename": "SyntaxError",
     "evalue": "invalid syntax (<ipython-input-1-85c432d835a7>, line 1)",
     "output_type": "error",
     "traceback": [
      "\u001b[0;36m  File \u001b[0;32m\"<ipython-input-1-85c432d835a7>\"\u001b[0;36m, line \u001b[0;32m1\u001b[0m\n\u001b[0;31m    Yudi Udyanimport re\u001b[0m\n\u001b[0m         ^\u001b[0m\n\u001b[0;31mSyntaxError\u001b[0m\u001b[0;31m:\u001b[0m invalid syntax\n"
     ]
    }
   ],
   "source": [
    "Yudi Udyanimport re\n",
    "p = re.compile('[a-e]')  \n",
    "print(p.findall(\"Ahoye!, said Mr. Gibenson Stark\"))"
   ]
  },
  {
   "cell_type": "markdown",
   "metadata": {},
   "source": [
    "Explaining the Output: \n",
    "\n",
    "First occurrence is ‘e’ in “Ahoye” and not ‘A’, as it is case sensitive. \n",
    "\n",
    "Next occurrence is ‘a’ in “said”, then ‘d’ in “said”, followed by ‘b’ and ‘e’ in “Gibenson”, the Last ‘a’ matches with “Stark”.\n",
    "\n",
    "The metacharacter backslash ‘\\’ has a very important role as it signals various sequences. If the backslash is to be used without its special meaning as metacharacter, use’\\\\’"
   ]
  },
  {
   "cell_type": "markdown",
   "metadata": {},
   "source": [
    "### Q2. Why do raw strings often appear in Regex objects?\n",
    "\n",
    "### A2:"
   ]
  },
  {
   "cell_type": "markdown",
   "metadata": {},
   "source": [
    "In Python, Escape Characters are always preceded by a backslash ( \\ ). This is useful for formatting but what if we want to use a backslash in string?\n",
    "\n",
    "An exmample for this can be following:"
   ]
  },
  {
   "cell_type": "code",
   "execution_count": 12,
   "metadata": {},
   "outputs": [
    {
     "name": "stdout",
     "output_type": "stream",
     "text": [
      "Backslash: \\\n",
      "New Line char: \\n\n"
     ]
    }
   ],
   "source": [
    "print('Backslash: \\\\')\n",
    "print('New Line char: \\\\n')"
   ]
  },
  {
   "cell_type": "markdown",
   "metadata": {},
   "source": [
    "As observed above, the code can get hard to read and it also creates confusion since coders can very easily forget to add backslashes and that will lead to errors. But now there is an alternative for this. We can use a raw string which will treat a backslash literally by simply putting an “r” or “R” in front of the string.\n",
    "\n",
    "Ex:"
   ]
  },
  {
   "cell_type": "code",
   "execution_count": 16,
   "metadata": {},
   "outputs": [
    {
     "name": "stdout",
     "output_type": "stream",
     "text": [
      "Backslash: \\\\\n",
      "New Line char: \\\\n\n"
     ]
    }
   ],
   "source": [
    "print(r'Backslash: \\\\')\n",
    "print(r'New Line char: \\\\n')"
   ]
  },
  {
   "cell_type": "markdown",
   "metadata": {},
   "source": [
    "However, not all the raw strings are valid. A raw string that contains only a single backslash is not valid. Similarly, raw strings with an odd number of ending backslash are also not valid.\n",
    "\n",
    "Ex of an invalid raw string (will return an EOL error):"
   ]
  },
  {
   "cell_type": "code",
   "execution_count": 21,
   "metadata": {},
   "outputs": [
    {
     "ename": "SyntaxError",
     "evalue": "EOL while scanning string literal (<ipython-input-21-c1eaed7a41b5>, line 1)",
     "output_type": "error",
     "traceback": [
      "\u001b[0;36m  File \u001b[0;32m\"<ipython-input-21-c1eaed7a41b5>\"\u001b[0;36m, line \u001b[0;32m1\u001b[0m\n\u001b[0;31m    print(r 'xyz\\\\\\')\u001b[0m\n\u001b[0m                     ^\u001b[0m\n\u001b[0;31mSyntaxError\u001b[0m\u001b[0;31m:\u001b[0m EOL while scanning string literal\n"
     ]
    }
   ],
   "source": [
    "print(r 'xyz\\\\\\')"
   ]
  },
  {
   "cell_type": "markdown",
   "metadata": {},
   "source": [
    "The best use of raw strings are done with Regular Expressions (REGEX). Regex often uses backslash ( \\ ) to indicate special characters and it gets messy without a raw string. Regular Expressions usually contain a lot of backslashes(\\). When using Python’s “re” module , regular expressions are represented as strings. So, like all strings with a lot of backslashes, they are more readable when written in raw literal form."
   ]
  },
  {
   "cell_type": "markdown",
   "metadata": {},
   "source": [
    "### 3. What is the return value of the search( ) method?\n",
    "\n",
    "### A3:"
   ]
  },
  {
   "cell_type": "markdown",
   "metadata": {},
   "source": [
    "\n",
    "The find( ) method returns the index of the first occurence of a substring in the given string (case-sensitive). If the substring is not found it returns -1.\n",
    "\n",
    "Syntax:\n",
    "\n",
    "str.find(substr, start, end)\n",
    "\n",
    "The parameters, as specified above are:\n",
    "\n",
    "substr: (Required) The substring whose index has to be found.\n",
    "\n",
    "start: (Optional) The starting index position from where the searching should start in the string. Default is 0.\n",
    "\n",
    "end: (Optional) The ending index position untill the searching should happen. Default is end of the string.\n",
    "\n",
    "Return Value:\n",
    "\n",
    "Returns an integer value indicating an index of the first occurence of the specified substring.\n",
    "\n",
    "The following examples demonstrates find() method.\n",
    "\n"
   ]
  },
  {
   "cell_type": "code",
   "execution_count": 30,
   "metadata": {},
   "outputs": [
    {
     "name": "stdout",
     "output_type": "stream",
     "text": [
      "Index of 'H':  0\n",
      "Index of 'World':  -1\n",
      "Index of 'h':  -1\n",
      "Index of 'e':  1\n",
      "Index of 'World':  6\n"
     ]
    }
   ],
   "source": [
    "greet='Hello World!'\n",
    "print(\"Index of 'H': \", greet.find('H'))\n",
    "print(\"Index of 'World': \", greet.find('z')) \n",
    "print(\"Index of 'h': \", greet.find('h')) # case sensitive\n",
    "print(\"Index of 'e': \", greet.find('e'))\n",
    "print(\"Index of 'World': \", greet.find('World'))"
   ]
  },
  {
   "cell_type": "markdown",
   "metadata": {},
   "source": [
    "### Q4: From a Match item, how do you get the actual strings that match the pattern?\n",
    "\n",
    "### A4:"
   ]
  },
  {
   "cell_type": "markdown",
   "metadata": {},
   "source": [
    "From a match item, we get the actual strings matching the patterns using regex:\n",
    "\n",
    "You may be familiar with searching for text by pressing ctrl-F and typing in the words you’re looking for. Regular expressions go one step further: They allow you to specify a pattern of text to search for.\n",
    "\n",
    "Following regex example is used in Python to match a string of three numbers, a hyphen, three more numbers, another hyphen, and four numbers."
   ]
  },
  {
   "cell_type": "code",
   "execution_count": 37,
   "metadata": {},
   "outputs": [
    {
     "name": "stdout",
     "output_type": "stream",
     "text": [
      "\\d\\d\\d-\\d\\d\\d-\\d\\d\\d\\d\n"
     ]
    }
   ],
   "source": [
    "print('\\d\\d\\d-\\d\\d\\d-\\d\\d\\d\\d')"
   ]
  },
  {
   "cell_type": "markdown",
   "metadata": {},
   "source": [
    "Regular expressions can be much more sophisticated. For example, adding a 3 in curly brackets ({3}) after a pattern is like asking to match the given pattern three times. So it becomes slightly shorter than regex.\n",
    "\n",
    "Ex:"
   ]
  },
  {
   "cell_type": "code",
   "execution_count": 38,
   "metadata": {},
   "outputs": [
    {
     "name": "stdout",
     "output_type": "stream",
     "text": [
      "\\d.{3}-\\d.{3}-\\d.{4}\n"
     ]
    }
   ],
   "source": [
    "print('\\d.{3}-\\d.{3}-\\d.{4}')"
   ]
  },
  {
   "cell_type": "markdown",
   "metadata": {},
   "source": [
    "### Q5: In the regex which created from the r'(\\d\\d\\d)-(\\d\\d\\d-\\d\\d\\d\\d)', what does group zero cover? Group 2? Group 1?\n",
    "\n",
    "### A5:"
   ]
  },
  {
   "cell_type": "markdown",
   "metadata": {},
   "source": [
    "group(0) can be be explained by comparing it with group(1), group(2), group(3), ... group(n). \n",
    "\n",
    "Group 0 locates the whole match expression and then to determine more matching locations, paranthesis are used. \n",
    "\n",
    "Group 1 means the first paranthesis pair locates matching expression 1.\n",
    "\n",
    "Group 2 says the second next paranthesis pair locates the match expression 2, and so on keeps on going until the nth group. In each case, the opening bracket determines the next paranthesis pair by using the furthest closing bracket to form a paranthesis pair. \n",
    "\n",
    "So, we can say that Group 0 is the entire match, group 1 covers the first set of parentheses, and group 2 covers the second set of parentheses.\n",
    "\n",
    "Here is an example below, to clarify any confusions:"
   ]
  },
  {
   "cell_type": "code",
   "execution_count": 3,
   "metadata": {},
   "outputs": [
    {
     "name": "stdout",
     "output_type": "stream",
     "text": [
      "def\n",
      "de\n",
      "e\n",
      "e\n"
     ]
    },
    {
     "ename": "IndexError",
     "evalue": "no such group",
     "output_type": "error",
     "traceback": [
      "\u001b[0;31m---------------------------------------------------------------------------\u001b[0m",
      "\u001b[0;31mIndexError\u001b[0m                                Traceback (most recent call last)",
      "\u001b[0;32m<ipython-input-3-c288c2c0ba99>\u001b[0m in \u001b[0;36m<module>\u001b[0;34m\u001b[0m\n\u001b[1;32m      5\u001b[0m \u001b[0mprint\u001b[0m\u001b[0;34m(\u001b[0m\u001b[0mm\u001b[0m\u001b[0;34m.\u001b[0m\u001b[0mgroup\u001b[0m\u001b[0;34m(\u001b[0m\u001b[0;36m2\u001b[0m\u001b[0;34m)\u001b[0m\u001b[0;34m)\u001b[0m\u001b[0;34m\u001b[0m\u001b[0;34m\u001b[0m\u001b[0m\n\u001b[1;32m      6\u001b[0m \u001b[0mprint\u001b[0m\u001b[0;34m(\u001b[0m\u001b[0mm\u001b[0m\u001b[0;34m.\u001b[0m\u001b[0mgroup\u001b[0m\u001b[0;34m(\u001b[0m\u001b[0;36m2\u001b[0m\u001b[0;34m)\u001b[0m\u001b[0;34m)\u001b[0m\u001b[0;34m\u001b[0m\u001b[0;34m\u001b[0m\u001b[0m\n\u001b[0;32m----> 7\u001b[0;31m \u001b[0mprint\u001b[0m\u001b[0;34m(\u001b[0m\u001b[0mm\u001b[0m\u001b[0;34m.\u001b[0m\u001b[0mgroup\u001b[0m\u001b[0;34m(\u001b[0m\u001b[0;36m3\u001b[0m\u001b[0;34m)\u001b[0m\u001b[0;34m)\u001b[0m \u001b[0;31m# will return an error\u001b[0m\u001b[0;34m\u001b[0m\u001b[0;34m\u001b[0m\u001b[0m\n\u001b[0m",
      "\u001b[0;31mIndexError\u001b[0m: no such group"
     ]
    }
   ],
   "source": [
    "import re\n",
    "m = re.search('(?<=abc)(d(e))f', 'abcdef')\n",
    "print(m.group(0))\n",
    "print(m.group(1))\n",
    "print(m.group(2))\n",
    "print(m.group(2))\n",
    "print(m.group(3)) # will return an error"
   ]
  },
  {
   "cell_type": "markdown",
   "metadata": {},
   "source": [
    "### Q6: In standard expression syntax, parentheses and intervals have distinct meanings. How can you tell a regex that you want it to fit real parentheses and periods?\n",
    "\n",
    "### A6: "
   ]
  },
  {
   "cell_type": "code",
   "execution_count": null,
   "metadata": {},
   "outputs": [],
   "source": []
  },
  {
   "cell_type": "markdown",
   "metadata": {},
   "source": [
    "### Q7: The findall() method returns a string list or a list of string tuples. What causes it to return one of the two options?\n",
    "\n",
    "### A7:"
   ]
  },
  {
   "cell_type": "markdown",
   "metadata": {},
   "source": [
    "The re.findall without using \" ( ) \" inside the pattern will return a list of strings when you search something similar to the one shown below:\n",
    "So the below output will be a list of strings."
   ]
  },
  {
   "cell_type": "code",
   "execution_count": 24,
   "metadata": {},
   "outputs": [
    {
     "data": {
      "text/plain": [
       "['B', 'a', 'n', 'g', 'a', 'l', 'o', 'r', 'e', 'I', 'n', 'd', 'i', 'a']"
      ]
     },
     "execution_count": 24,
     "metadata": {},
     "output_type": "execute_result"
    }
   ],
   "source": [
    "a=\"Bangalore, India\"\n",
    "re.findall(\"[\\w][\\n]*\",a)"
   ]
  },
  {
   "cell_type": "markdown",
   "metadata": {},
   "source": [
    "When you enclose your pattern within \" ( ) \", it will return you the output as a list of tuples. The member of each tuple is a string, as observed below:"
   ]
  },
  {
   "cell_type": "code",
   "execution_count": 25,
   "metadata": {},
   "outputs": [
    {
     "data": {
      "text/plain": [
       "[('New', ' Delhi')]"
      ]
     },
     "execution_count": 25,
     "metadata": {},
     "output_type": "execute_result"
    }
   ],
   "source": [
    "a=\"New Delhi, India\"\n",
    "re.findall(\"(New)( Delhi)\",a)"
   ]
  },
  {
   "cell_type": "markdown",
   "metadata": {},
   "source": [
    "### Q8: In standard expressions, what does the | character mean?\n",
    "\n",
    "### A8:"
   ]
  },
  {
   "cell_type": "markdown",
   "metadata": {},
   "source": [
    "The  |  character compares values where atleast one value will be matched.\n",
    "\n",
    "Ex:"
   ]
  },
  {
   "cell_type": "code",
   "execution_count": 37,
   "metadata": {},
   "outputs": [
    {
     "name": "stdout",
     "output_type": "stream",
     "text": [
      "The word(s) present in the text is- ['falls']\n",
      "Yes, there is at least one match in - The rain in Spain falls mainly in the plain!\n"
     ]
    }
   ],
   "source": [
    "import re\n",
    "text = \"The rain in Spain falls mainly in the plain!\"\n",
    "findall = re.findall(\"falls|stays|hello|this\", text)\n",
    "print(\"The word(s) present in the text is-\",findall)\n",
    "if findall:\n",
    "    print(\"Yes, there is at least one match in -\",text)\n",
    "else:\n",
    "    print(\"No matches are found in -\",text)"
   ]
  },
  {
   "cell_type": "markdown",
   "metadata": {},
   "source": [
    "### Q9: In regular expressions, what does the character stand for?\n",
    "\n",
    "### A9:"
   ]
  },
  {
   "cell_type": "markdown",
   "metadata": {},
   "source": [
    "INCOMPLETE QUESTION"
   ]
  },
  {
   "cell_type": "markdown",
   "metadata": {},
   "source": [
    "### Q10: In regular expressions, what is the difference between the + and * characters?\n",
    "\n",
    "### A10:"
   ]
  },
  {
   "cell_type": "markdown",
   "metadata": {},
   "source": [
    "Both, + and * metacharacters hold special meanings.\n",
    "\n",
    "The ' + ' metacharacter means one or more occurrences in a string. It is denoted using ' aix + '.\n",
    "\n",
    "The ' * ' metacharacter means zero or more occurrences in a string. It is denoted using ' aix * '.\n",
    "\n",
    "Examples:\n",
    "\n",
    "1. The + metacharacter:"
   ]
  },
  {
   "cell_type": "code",
   "execution_count": 41,
   "metadata": {},
   "outputs": [
    {
     "name": "stdout",
     "output_type": "stream",
     "text": [
      "[]\n",
      "No matches found.\n"
     ]
    }
   ],
   "source": [
    "import re\n",
    "text = \"The rain in Spain falls mainly in the plain!\"\n",
    "x = re.findall(\"aix+\", text)\n",
    "print(x)\n",
    "if x:\n",
    "    print(\"Yes, there is at least one match.\")\n",
    "else:\n",
    "    print(\"No matches found.\")"
   ]
  },
  {
   "cell_type": "markdown",
   "metadata": {},
   "source": [
    "2. The * metacharacter:"
   ]
  },
  {
   "cell_type": "code",
   "execution_count": 42,
   "metadata": {},
   "outputs": [
    {
     "name": "stdout",
     "output_type": "stream",
     "text": [
      "['ai', 'ai', 'ai', 'ai']\n",
      "Yes, there is at least one match!\n"
     ]
    }
   ],
   "source": [
    "import re\n",
    "txt = \"The rain in Spain falls mainly in the plain!\"\n",
    "x = re.findall(\"aix*\", txt)\n",
    "print(x)\n",
    "if x:\n",
    "    print(\"Yes, there is at least one match.\")\n",
    "else:\n",
    "    print(\"No matches found.\")"
   ]
  },
  {
   "cell_type": "markdown",
   "metadata": {},
   "source": [
    "### Q11: What is the difference between {4} and {4,5} in regular expression?\n",
    "\n",
    "### A11:\n",
    "\n",
    "It denotes an exact count of 4 digits, the same as \\d\\d\\d\\d.\n",
    "\n",
    "The example below looks for a 4-digit number:"
   ]
  },
  {
   "cell_type": "code",
   "execution_count": 39,
   "metadata": {},
   "outputs": [
    {
     "name": "stdout",
     "output_type": "stream",
     "text": [
      "The string is: aaaa aaaa aaaa aaaa a aa aa a a a a a aa aa aa aaaaaaaa aaaa aaaa \n",
      "\n",
      "The word is repeated exactly 8 times in the string.\n"
     ]
    }
   ],
   "source": [
    "import re\n",
    "string = \"aaaa aaaa aaaa aaaa a aa aa a a a a a aa aa aa aaaaaaaa aaaa aaaa\"\n",
    "x = re.findall(\"a{4}\", string)\n",
    "rep =0\n",
    "for i in x:\n",
    "    rep+=1\n",
    "print(\"The string is:\",string,\"\\n\")\n",
    "print(\"The word is repeated exactly\",rep,\"times in the string.\")"
   ]
  },
  {
   "cell_type": "markdown",
   "metadata": {},
   "source": [
    "We can add \\b to exclude longer numbers: \\b\\d{5}\\b.\n",
    "\n",
    "The range: {3,5}, match 3-5 times\n",
    "To find numbers from 3 to 5 digits we can put the limits into curly braces: \\d{3,5}"
   ]
  },
  {
   "cell_type": "code",
   "execution_count": 45,
   "metadata": {},
   "outputs": [
    {
     "name": "stdout",
     "output_type": "stream",
     "text": [
      "The string is: aa aaa aa a aaaa aaaa aaaaaa aaaaaa aa aa aaa aaaaaaa aa a aaa aa aaaaaa aaaaaaa aaaa aaaa aaaa aaa \n",
      "\n",
      "Words ranging between 3 - 5 are repeated 14 times in the string.\n"
     ]
    }
   ],
   "source": [
    "import re\n",
    "string = \"aa aaa aa a aaaa aaaa aaaaaa aaaaaa aa aa aaa aaaaaaa aa a aaa aa aaaaaa aaaaaaa aaaa aaaa aaaa aaa\"\n",
    "x = re.findall(\"a{3,5}\", string)\n",
    "rep =0\n",
    "for i in x:\n",
    "    rep+=1\n",
    "print(\"The string is:\",string,\"\\n\")\n",
    "print(\"Words ranging between 3 - 5 are repeated\",rep,\"times in the string.\")"
   ]
  },
  {
   "cell_type": "markdown",
   "metadata": {},
   "source": [
    "### Q12: What do you mean by the \\d, \\w, and \\s shorthand character classes signify in regular expressions?\n",
    "\n",
    "### A12:\n",
    "\n",
    "1. \\d: It returns a match where the string contains numbers between 0 and 9.\n",
    "\n",
    "\n",
    "2. \\w: It returns a match where the string contains any word characters from a (small) to Z (capital), digits from 0-9, and the underscore character( _ ).\t\n",
    "\n",
    "\n",
    "3. \\s: It returns a match where the string contains a white space character. "
   ]
  },
  {
   "cell_type": "code",
   "execution_count": 33,
   "metadata": {},
   "outputs": [
    {
     "name": "stdout",
     "output_type": "stream",
     "text": [
      "['9', '9', '9', '9', '1', '4', '1', '3', '0', '4']\n"
     ]
    }
   ],
   "source": [
    "# \\d Example:\n",
    "\n",
    "import re\n",
    "string = \"My phone is: 9999141304\"\n",
    "x = re.findall(\"\\d\", string)\n",
    "print(x)"
   ]
  },
  {
   "cell_type": "code",
   "execution_count": 34,
   "metadata": {},
   "outputs": [
    {
     "name": "stdout",
     "output_type": "stream",
     "text": [
      "['S', 'h', 'e', 's', 'c', 'r', 'e', 'a', 'm', 'e', 'd', 'I', 't', 's', 'M', 'o', 'n', 'i', 'c', 'a', 's', 'S', 'h', 'e', 's', 'o', 'u', 't', 't', 'o', 'd', 'a', 'y']\n"
     ]
    }
   ],
   "source": [
    "# \\w Example:\n",
    "\n",
    "import re\n",
    "string = \"She screamed - It's Monica's. She's out today!!!\"\n",
    "x = re.findall(\"\\w\", string)\n",
    "print(x)"
   ]
  },
  {
   "cell_type": "code",
   "execution_count": 35,
   "metadata": {},
   "outputs": [
    {
     "name": "stdout",
     "output_type": "stream",
     "text": [
      "Enter a string: What do you mean by the \\d, \\w, and \\s shorthand character classes signify in regular expressions?\n",
      "\n",
      "\n",
      "There are 16 whitespaces in the string.\n"
     ]
    }
   ],
   "source": [
    "# \\d Example:\n",
    "\n",
    "import re\n",
    "string = str(input(\"Enter a string: \"))\n",
    "print(\"\\n\")\n",
    "x = re.findall(\"\\s\", string)\n",
    "rep =0\n",
    "for i in x:\n",
    "    rep+=1\n",
    "print(\"There are\",rep,\"whitespaces in the string.\")"
   ]
  },
  {
   "cell_type": "markdown",
   "metadata": {},
   "source": [
    "### Q13: What do means by \\D, \\W, and \\S shorthand character classes signify in regular expressions?\n",
    "\n",
    "### A13: \n",
    "\n",
    "1. \\D: It returns a match where the string DOES NOT contain digits.\n",
    "\n",
    "\n",
    "2. \\W: It returns a match where the string DOES NOT contain any word characters.\n",
    "\n",
    "\n",
    "3. \\S: It returns a match where the string DOES NOT contain a white space character.\n",
    "\n",
    "They are the exact opposite of \\d,\\w and \\s."
   ]
  },
  {
   "cell_type": "code",
   "execution_count": 38,
   "metadata": {},
   "outputs": [
    {
     "name": "stdout",
     "output_type": "stream",
     "text": [
      "['M', 'y', ' ', 'p', 'h', 'o', 'n', 'e', ' ', 'i', 's', ':', ' ']\n"
     ]
    }
   ],
   "source": [
    "# \\d Example:\n",
    "\n",
    "import re\n",
    "string = \"My phone is: 9999141304\"\n",
    "x = re.findall(\"\\D\", string)\n",
    "print(x)"
   ]
  },
  {
   "cell_type": "code",
   "execution_count": 39,
   "metadata": {},
   "outputs": [
    {
     "name": "stdout",
     "output_type": "stream",
     "text": [
      "[' ', ' ', '-', ' ', \"'\", ' ', \"'\", '.', ' ', \"'\", ' ', ' ', '!', '!', '!']\n"
     ]
    }
   ],
   "source": [
    "# \\w Example:\n",
    "\n",
    "import re\n",
    "string = \"She screamed - It's Monica's. She's out today!!!\"\n",
    "x = re.findall(\"\\W\", string)\n",
    "print(x)"
   ]
  },
  {
   "cell_type": "code",
   "execution_count": 43,
   "metadata": {},
   "outputs": [
    {
     "name": "stdout",
     "output_type": "stream",
     "text": [
      "Enter a string: What do means by \\D, \\W, and \\S shorthand character classes signify in regular expressions?\n",
      "\n",
      "\n",
      "There are 77 non-whitespaces in the string.\n"
     ]
    }
   ],
   "source": [
    "# \\d Example:\n",
    "\n",
    "import re\n",
    "string = str(input(\"Enter a string: \"))\n",
    "print(\"\\n\")\n",
    "x = re.findall(\"\\S\", string)\n",
    "rep =0\n",
    "for i in x:\n",
    "    rep+=1\n",
    "print(\"There are\",rep,\"non-whitespaces in the string.\")"
   ]
  },
  {
   "cell_type": "markdown",
   "metadata": {},
   "source": [
    "### Q14: What is the difference between *? and .?\n",
    "\n",
    "### A14:\n",
    "\n",
    "1. The '*' : It looks for zero or more occurrences. It checks if the string contains \"ai\" followed by 0 or more \"x\" characters.\n",
    "    \n",
    "    \n",
    "2. The '.' : any character (except newline character). It searches for a sequence that starts with \"he\", followed by two (any) characters, and an \"o\"."
   ]
  },
  {
   "cell_type": "code",
   "execution_count": 48,
   "metadata": {},
   "outputs": [
    {
     "name": "stdout",
     "output_type": "stream",
     "text": [
      "['ai', 'ai', 'ai', 'ai']\n",
      "There is at least one match.\n"
     ]
    }
   ],
   "source": [
    "# The * :\n",
    "\n",
    "import re\n",
    "txt = \"The rain in Spain falls mainly in the plain!\"\n",
    "x = re.findall(\"aix*\", txt)\n",
    "print(x)\n",
    "if x:\n",
    "    print(\"There is at least one match.\")\n",
    "else:\n",
    "    print(\"No matches found.\")"
   ]
  },
  {
   "cell_type": "code",
   "execution_count": 49,
   "metadata": {},
   "outputs": [
    {
     "name": "stdout",
     "output_type": "stream",
     "text": [
      "['hello']\n",
      "There is at least one match.\n"
     ]
    }
   ],
   "source": [
    "# The . :\n",
    "\n",
    "import re\n",
    "txt = \"hello world\"\n",
    "x = re.findall(\"he..o\", txt)\n",
    "print(x)\n",
    "if x:\n",
    "    print(\"There is at least one match.\")\n",
    "else:\n",
    "    print(\"No matches found.\")"
   ]
  },
  {
   "cell_type": "markdown",
   "metadata": {},
   "source": [
    "### Q15: What is the syntax for matching both numbers and lowercase letters with a character class?\n",
    "\n",
    "### A15:\n",
    "\n"
   ]
  },
  {
   "cell_type": "code",
   "execution_count": 4,
   "metadata": {},
   "outputs": [
    {
     "name": "stdout",
     "output_type": "stream",
     "text": [
      "['i', 'n', 'e', 'w', 'o', 'r', 'k', 'c', 'a', 'n', 'b', 'e', 'c', 'o', 'n', 't', 'a', 'c', 't', 'e', 'd', 'a', 't']\n"
     ]
    }
   ],
   "source": [
    "import re\n",
    "\n",
    "txt = \"THE PLAZA in New York can be contacted at +1-888-850-0909\"\n",
    "x = re.findall(\"[a-z]\", txt)\n",
    "print(x)"
   ]
  },
  {
   "cell_type": "markdown",
   "metadata": {},
   "source": [
    "### Q16: What is the procedure for making a normal expression in regax case insensitive?\n",
    "\n",
    "### A16:\n"
   ]
  },
  {
   "cell_type": "code",
   "execution_count": 25,
   "metadata": {},
   "outputs": [
    {
     "data": {
      "text/plain": [
       "['TEXT', 'text', 'Text']"
      ]
     },
     "execution_count": 25,
     "metadata": {},
     "output_type": "execute_result"
    }
   ],
   "source": [
    "import re\n",
    "\n",
    "string = 'UPPER TEXT, lower text, Mixed Text'\n",
    "re.findall('text', string, flags=re.IGNORECASE)"
   ]
  },
  {
   "cell_type": "markdown",
   "metadata": {},
   "source": [
    "IGNORECASE allows for case-insensitive matching of the Regular Expression with the given string i.e. expressions like [A-Z] will match lowercase letters, too. Generally, It’s passed as an optional argument to re.compile()."
   ]
  },
  {
   "cell_type": "code",
   "execution_count": 22,
   "metadata": {},
   "outputs": [
    {
     "data": {
      "text/plain": [
       "['Test', 'TEST', 'test']"
      ]
     },
     "execution_count": 22,
     "metadata": {},
     "output_type": "execute_result"
    }
   ],
   "source": [
    "import re\n",
    "s = 'This is one Test, another TEST, and yet another test.'\n",
    "re.findall('(?i)test', s)"
   ]
  },
  {
   "cell_type": "markdown",
   "metadata": {},
   "source": [
    "' ?i ' is used when we want to math a string wihtout considering the case sensitivity. "
   ]
  },
  {
   "cell_type": "code",
   "execution_count": 41,
   "metadata": {},
   "outputs": [
    {
     "name": "stdout",
     "output_type": "stream",
     "text": [
      "Valid\n",
      "Invalid\n",
      "Valid\n",
      "Valid\n"
     ]
    }
   ],
   "source": [
    "import re\n",
    "\n",
    "def validating_name(name):\n",
    "    regex_name = re.compile(r'^(Mr\\.|Mrs\\.|Ms\\.) ([a-z]+)( [a-z]+)*( [a-z]+)*$', re.IGNORECASE)\n",
    "    res = regex_name.search(name)\n",
    "    if res : print(\"Valid\")\n",
    "    else : print(\"Invalid\")\n",
    "validating_name('Mr. Albus Severus Potter')\n",
    "validating_name('Lily and Mr. Harry Potter')\n",
    "validating_name('Mr. Cedric')\n",
    "validating_name('Mr. sirius black')"
   ]
  },
  {
   "cell_type": "markdown",
   "metadata": {},
   "source": [
    "using a function in the code above where we are using IGNORECASE flag, the first character of First, Second, and Last name may or may not be capital."
   ]
  },
  {
   "cell_type": "markdown",
   "metadata": {},
   "source": [
    "### Q17: What does the . character normally match? What does it match if re.DOTALL is passed as 2nd argument in re.compile()?\n",
    "\n",
    "### A17:"
   ]
  },
  {
   "cell_type": "markdown",
   "metadata": {},
   "source": [
    "the .(dot) character normally matches any character (except any newline character).\n",
    "\n",
    "Ex:"
   ]
  },
  {
   "cell_type": "code",
   "execution_count": 54,
   "metadata": {},
   "outputs": [
    {
     "name": "stdout",
     "output_type": "stream",
     "text": [
      "['hello']\n"
     ]
    }
   ],
   "source": [
    "import re\n",
    "\n",
    "string = \"hello world\"\n",
    "x = re.findall(\"h...o\", string)\n",
    "print(x)"
   ]
  },
  {
   "cell_type": "markdown",
   "metadata": {},
   "source": [
    "The ‘.’ special character in Python matches with any character excluding the new line, but using DOTALL flag in python we can extend its functionality.\n",
    "\n",
    "With the help of DOTALL flag the ‘.’ character can match any character including newline.\n",
    "\n",
    "While working on real-life projects there may arise scenarios where we have to process multi-line strings(separated by newline characters – ‘\\n’). In such situations, we use re.DOTALL.\n",
    "\n",
    "Ex:"
   ]
  },
  {
   "cell_type": "code",
   "execution_count": 55,
   "metadata": {},
   "outputs": [
    {
     "name": "stdout",
     "output_type": "stream",
     "text": [
      "['<p>\\nThis tutorial is provided by CodeSpeedy.\\nHope you like this.\\n</p>']\n"
     ]
    }
   ],
   "source": [
    "import re\n",
    "txt = '''<!DOCTYPE html>\n",
    "<html>\n",
    "<head>\n",
    "<title>Title of the document</title>\n",
    "</head>\n",
    "<p>\n",
    "This tutorial is provided by CodeSpeedy.\n",
    "Hope you like this.\n",
    "</p>\n",
    "</html>'''\n",
    "x = re.findall(\"<p>.*</p>\", txt,re.DOTALL)\n",
    "print(x)"
   ]
  },
  {
   "cell_type": "markdown",
   "metadata": {},
   "source": [
    "### Q18: If numReg = re.compile(r'\\d+') what will numRegex.sub('X', '11 drummers, 10 pipers, five rings, 4 hen') return?\n",
    "\n",
    "### A18:\n",
    "\n",
    "With re.compile() method, we can combine a regular expression pattern into pattern objects, which can be used for pattern matching. It also helps to search a pattern again without rewriting it.\n",
    "\n",
    " \\d matches matches any digit between 0-9. The + is called a quantifier meaning one or more."
   ]
  },
  {
   "cell_type": "code",
   "execution_count": 78,
   "metadata": {},
   "outputs": [
    {
     "name": "stdout",
     "output_type": "stream",
     "text": [
      "X drummers, X pipers, five rings and X hen\n"
     ]
    }
   ],
   "source": [
    "import re\n",
    "\n",
    "numreg = re.compile(r\"\\d+\")\n",
    "x = numreg.sub(\"X\",\"11 drummers, 10 pipers, five rings and 4 hen\") \n",
    "print(x)"
   ]
  },
  {
   "cell_type": "markdown",
   "metadata": {},
   "source": [
    "As observed above, we see that all numerical values are replaced with the string X."
   ]
  },
  {
   "cell_type": "markdown",
   "metadata": {},
   "source": [
    "### Q19: What does passing re.VERBOSE as the 2nd argument to re.compile() allow to do?\n",
    "\n",
    "### A19:\n",
    "\n",
    "re.VERBOSE allows you to write regular expressions that look nicer and are more readable by allowing them to visually separate the logical sections of the pattern and add comments, whever necessary.\n",
    "\n",
    "The whitespace within the pattern is ignored except when in a character class or when preceded by an unescaped backslash, or within tokens like *?, ?: or ?P. When a line contains a # that is not in a character class and is not preceded by an unescaped backslash, all characters from the leftmost such # through the end of the line are ignored.\n",
    "\n",
    "Ex:\n",
    "\n",
    "(adding comments wherever necessary for better understanding)"
   ]
  },
  {
   "cell_type": "code",
   "execution_count": 97,
   "metadata": {},
   "outputs": [
    {
     "name": "stdout",
     "output_type": "stream",
     "text": [
      "<re.Match object; span=(0, 22), match='\\n Item 1.0(a) foo bar\\n'>\n"
     ]
    }
   ],
   "source": [
    "import re\n",
    "verbose_item_pattern = re.compile(r\"\"\"\n",
    "    $            # end of line boundary\n",
    "    \\s{1,2}      # 1-or-2 whitespace character, including the newline\n",
    "    I            # a capital I\n",
    "    [tT][eE][mM] # one character from each of the three sets this allows for unknown case\n",
    "    \\s+          # 1-or-more whitespaces INCLUDING newline\n",
    "    \\d{1,2}      # 1-or-2 digits\n",
    "    [.]?         # 0-or-1 literal .\n",
    "    \\(?          # 0-or-1 literal open paren\n",
    "    [a-e]?       # 0-or-1 letter in the range a-e\n",
    "    \\)?          # 0-or-1 closing paren\n",
    "    .*           # any number of unknown characters so we can have words and punctuation\n",
    "    [^0-9]       # anything but [0-9]\n",
    "    $            # end of line boundary\n",
    "    \"\"\", re.VERBOSE|re.MULTILINE)\n",
    "\n",
    "x = verbose_item_pattern.search(\"\"\"\n",
    " Item 1.0(a) foo bar\n",
    "\"\"\")\n",
    "print(x)"
   ]
  },
  {
   "cell_type": "markdown",
   "metadata": {},
   "source": [
    "### 20: How would you write a regex that match a number with comma for every three digits? It must match the given following:\n",
    "\n",
    "'42',\n",
    "\n",
    "'1,234',\n",
    "\n",
    "'6,368,745'\n",
    "\n",
    "but not the following:\n",
    "\n",
    "'12,34,567' (which has only two digits between the commas),\n",
    "\n",
    "'1234' (which lacks commas)\n",
    "\n",
    "### A20:"
   ]
  },
  {
   "cell_type": "code",
   "execution_count": 25,
   "metadata": {},
   "outputs": [
    {
     "name": "stdout",
     "output_type": "stream",
     "text": [
      "Type a number with commas: 2,23\n",
      "Does not Match the Regular Expression.\n"
     ]
    }
   ],
   "source": [
    "import re\n",
    "\n",
    "sentences = input('Type a number with commas: ')\n",
    "patterns = re.compile(r'\\d{1,3}(,\\d{3})*')\n",
    "matches = patterns.match(sentences)\n",
    "if matches.group(0) != sentences:\n",
    "    print ('Does not Match the Regular Expression.')\n",
    "else:\n",
    "    print(matches.group(0)+ ' matches the pattern.')"
   ]
  },
  {
   "cell_type": "code",
   "execution_count": null,
   "metadata": {},
   "outputs": [],
   "source": [
    "21. How would you write a regex that matches the full name of someone whose last name is Watanabe? You can assume that the first name that comes before it will always be one word that begins with a capital letter. The regex must match the following:\n",
    "'Haruto Watanabe'\n",
    "'Alice Watanabe'\n",
    "'RoboCop Watanabe'\n",
    "but not the following:\n",
    "'haruto Watanabe' (where the first name is not capitalized)\n",
    "'Mr. Watanabe' (where the preceding word has a nonletter character)\n",
    "'Watanabe' (which has no first name)\n",
    "'Haruto watanabe' (where Watanabe is not capitalized)"
   ]
  },
  {
   "cell_type": "code",
   "execution_count": 20,
   "metadata": {},
   "outputs": [
    {
     "ename": "AttributeError",
     "evalue": "'list' object has no attribute 'group'",
     "output_type": "error",
     "traceback": [
      "\u001b[0;31m---------------------------------------------------------------------------\u001b[0m",
      "\u001b[0;31mAttributeError\u001b[0m                            Traceback (most recent call last)",
      "\u001b[0;32m<ipython-input-20-6ac91a719c12>\u001b[0m in \u001b[0;36m<module>\u001b[0;34m\u001b[0m\n\u001b[1;32m      9\u001b[0m \u001b[0mRobocop\u001b[0m \u001b[0mNakamoto\u001b[0m\u001b[0;34m\u001b[0m\u001b[0;34m\u001b[0m\u001b[0m\n\u001b[1;32m     10\u001b[0m \"\"\") \n\u001b[0;32m---> 11\u001b[0;31m \u001b[0mmo\u001b[0m\u001b[0;34m.\u001b[0m\u001b[0mgroup\u001b[0m\u001b[0;34m(\u001b[0m\u001b[0;34m)\u001b[0m\u001b[0;34m\u001b[0m\u001b[0;34m\u001b[0m\u001b[0m\n\u001b[0m",
      "\u001b[0;31mAttributeError\u001b[0m: 'list' object has no attribute 'group'"
     ]
    }
   ],
   "source": [
    "import re\n",
    "\n",
    "fullName = re.compile(r'[A-Z]\\w [A-Z]\\w') \n",
    "mo = fullName.findall(\"\"\"Satoshi Nakamoto, \n",
    "satoshi Nakamoto, \n",
    "Alice Nakamoto, \n",
    "Nakamoto, \n",
    "Satoshi nakamoto, \n",
    "Robocop Nakamoto\n",
    "\"\"\") \n",
    "mo.group()"
   ]
  },
  {
   "cell_type": "code",
   "execution_count": null,
   "metadata": {},
   "outputs": [],
   "source": [
    "22. How would you write a regex that matches a sentence where the first word is either Alice, Bob, or Carol; the second word is either eats, pets, or throws; the third word is apples, cats, or baseballs; and the sentence ends with a period? This regex should be case-insensitive. It must match the following:\n",
    "'Alice eats apples.'\n",
    "'Bob pets cats.'\n",
    "'Carol throws baseballs.'\n",
    "'Alice throws Apples.'\n",
    "'BOB EATS CATS.'\n",
    "but not the following:\n",
    "'RoboCop eats apples.'\n",
    "'ALICE THROWS FOOTBALLS.'\n",
    "'Carol eats 7 cats.'"
   ]
  },
  {
   "cell_type": "code",
   "execution_count": 9,
   "metadata": {},
   "outputs": [
    {
     "data": {
      "text/plain": [
       "[('Alice', 'eats', 'apples'),\n",
       " ('Bob', 'pets', 'cats'),\n",
       " ('Carol', 'throws', 'baseballs'),\n",
       " ('Alice', 'throws', 'Apples'),\n",
       " ('BOB', 'EATS', 'CATS')]"
      ]
     },
     "execution_count": 9,
     "metadata": {},
     "output_type": "execute_result"
    }
   ],
   "source": [
    "senRegex = re.compile(r'(Alice|Bob|Carol)\\s(eats|pets|throws)\\s(apples|cats|baseballs).', re.I|re.DOTALL)\n",
    "senRegex.findall('''Alice eats apples.'\n",
    "'Bob pets cats.'\n",
    "'Carol throws baseballs.'\n",
    "'Alice throws Apples.'\n",
    "'BOB EATS CATS.'\n",
    "but not the following:\n",
    "'Robocop eats apples.'\n",
    "'ALICE THROWS FOOTBALLS.'\n",
    "'Carol eats 7 cats.''')"
   ]
  }
 ],
 "metadata": {
  "kernelspec": {
   "display_name": "Python 3",
   "language": "python",
   "name": "python3"
  },
  "language_info": {
   "codemirror_mode": {
    "name": "ipython",
    "version": 3
   },
   "file_extension": ".py",
   "mimetype": "text/x-python",
   "name": "python",
   "nbconvert_exporter": "python",
   "pygments_lexer": "ipython3",
   "version": "3.8.8"
  }
 },
 "nbformat": 4,
 "nbformat_minor": 4
}
