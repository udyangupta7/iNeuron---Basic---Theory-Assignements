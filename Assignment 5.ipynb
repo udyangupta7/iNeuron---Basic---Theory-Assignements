{
 "cells": [
  {
   "cell_type": "markdown",
   "metadata": {},
   "source": [
    "### Q1: What does an empty dictionary's code look like?\n",
    "\n",
    "A1: \n",
    "\n",
    "An empty dictionary looks like:"
   ]
  },
  {
   "cell_type": "code",
   "execution_count": 1,
   "metadata": {},
   "outputs": [
    {
     "name": "stdout",
     "output_type": "stream",
     "text": [
      "<class 'dict'>\n"
     ]
    }
   ],
   "source": [
    "emp_dic = {}\n",
    "print(type(emp_dic))"
   ]
  },
  {
   "cell_type": "markdown",
   "metadata": {},
   "source": [
    "### Q2: What is the value of a dictionary value with the key 'foo' and the value 42?\n",
    "\n",
    "A2: \n",
    "\n",
    "it looks like:"
   ]
  },
  {
   "cell_type": "code",
   "execution_count": 5,
   "metadata": {},
   "outputs": [
    {
     "name": "stdout",
     "output_type": "stream",
     "text": [
      "dict_keys(['foo'])\n",
      "dict_values([42])\n",
      "\n",
      " dict_items([('foo', 42)])\n"
     ]
    }
   ],
   "source": [
    "value = {'foo':42}\n",
    "print(value.keys())\n",
    "print(value.values())\n",
    "# printing all the items of the dictionary:\n",
    "print('\\n',value.items())"
   ]
  },
  {
   "cell_type": "markdown",
   "metadata": {},
   "source": [
    "### Q3: What is the most significant distinction between a dictionary and a list?\n",
    "\n",
    "A3:\n",
    "\n",
    "Lists: They are used to store multiple items in a single variable. They are created using square brackets. \n",
    "\n",
    "Dictionaries: They are used to store data values in key:value pairs. A dictionary is a collection which is ordered, changeable and does not allow duplicates. They are written with curly brackets, and have keys and values."
   ]
  },
  {
   "cell_type": "code",
   "execution_count": 14,
   "metadata": {},
   "outputs": [
    {
     "name": "stdout",
     "output_type": "stream",
     "text": [
      "List is:-  [1, 2, 'z', 'x'] & type is:-  <class 'list'>\n",
      "\n",
      "Dictionary is:-  {1: 'abc', 2: 'def'} & type is:-  <class 'dict'> \n",
      "\n",
      "Keys in the dictionary are:-  dict_keys([1, 2])\n",
      "Values in the dictionary are:-  dict_values(['abc', 'def'])\n"
     ]
    }
   ],
   "source": [
    "# Working with lists:\n",
    "lists_1 = [1,2,'z','x']\n",
    "print(\"List is:- \",lists_1,\"& type is:- \",type(lists_1))\n",
    "# Working with dictionaries:\n",
    "dict_1 = {1:'abc',2:'def'}\n",
    "print(\"\\nDictionary is:- \",dict_1,\"& type is:- \",type(dict_1),\"\\n\")\n",
    "# printing keys and values:\n",
    "print(\"Keys in the dictionary are:- \",dict_1.keys())\n",
    "print(\"Values in the dictionary are:- \",dict_1.values())"
   ]
  },
  {
   "cell_type": "markdown",
   "metadata": {},
   "source": [
    "### Q4: What happens if you try to access spam['foo'] if spam is {'bar': 100}?\n",
    "\n",
    "A4:\n",
    "\n",
    "Printing an absent items in the dictionary gives an error:"
   ]
  },
  {
   "cell_type": "code",
   "execution_count": 22,
   "metadata": {},
   "outputs": [
    {
     "name": "stdout",
     "output_type": "stream",
     "text": [
      "Error is:-  'foo'\n"
     ]
    }
   ],
   "source": [
    "try:\n",
    "    spam = {'bar': 100}\n",
    "    print(spam['foo'])\n",
    "except (ValueError,KeyError,ArithmeticError) as e:\n",
    "    print(\"Error is:- \",e)"
   ]
  },
  {
   "cell_type": "markdown",
   "metadata": {},
   "source": [
    "### Q5: If a dictionary is stored in spam, what is the difference between the expressions 'cat' in spam and 'cat' in spam.keys()?\n",
    "\n",
    "A5:\n",
    "\n",
    "The spam.items() prints all the items in the a dictionary 'spam'.\n",
    "\n",
    "The spam.keys() prints all the keys in the dictionary 'spam'. "
   ]
  },
  {
   "cell_type": "code",
   "execution_count": 28,
   "metadata": {},
   "outputs": [
    {
     "name": "stdout",
     "output_type": "stream",
     "text": [
      "'cat' in spam and 'cat' in spam.keys() is:- \n",
      "\n",
      "Items are:- dict_items([('cat', 100)]) \n",
      "\n",
      "Keys are:- dict_keys(['cat'])\n"
     ]
    }
   ],
   "source": [
    "spam = {'cat': 100}\n",
    "print(\"'cat' in spam and 'cat' in spam.keys() is:- \\n\")\n",
    "print(\"Items are:-\",spam.items(),\"\\n\")\n",
    "print(\"Keys are:-\",spam.keys())"
   ]
  },
  {
   "cell_type": "markdown",
   "metadata": {},
   "source": [
    "### Q6: If a dictionary is stored in spam, what is the difference between the expressions 'cat' in spam and 'cat' in spam.values()?\n",
    "\n",
    "A6: \n",
    "\n",
    "The spam.items() prints all the items in the a dictionary 'spam'.\n",
    "\n",
    "The spam.values() prints all the values in the dictionary 'spam'. "
   ]
  },
  {
   "cell_type": "code",
   "execution_count": 29,
   "metadata": {},
   "outputs": [
    {
     "name": "stdout",
     "output_type": "stream",
     "text": [
      "'cat' in spam and 'cat' in spam.keys() is:- \n",
      "\n",
      "Items are:- dict_items([('cat', 100)]) \n",
      "\n",
      "Values are:- dict_values([100])\n"
     ]
    }
   ],
   "source": [
    "spam = {'cat': 100}\n",
    "print(\"'cat' in spam and 'cat' in spam.keys() is:- \\n\")\n",
    "print(\"Items are:-\",spam.items(),\"\\n\")\n",
    "print(\"Values are:-\",spam.values())"
   ]
  },
  {
   "cell_type": "markdown",
   "metadata": {},
   "source": [
    "### Q7: What is a shortcut for the following code:\n",
    "\n",
    "if 'color' not in spam, then add spam['color'] = 'black' in 'spam'.\n",
    "\n",
    "A7:\n",
    "\n",
    "The shortcut is:"
   ]
  },
  {
   "cell_type": "code",
   "execution_count": 40,
   "metadata": {},
   "outputs": [
    {
     "name": "stdout",
     "output_type": "stream",
     "text": [
      "Changed dictionary is:- {'cat': 100, 'color': 'black'}\n"
     ]
    }
   ],
   "source": [
    "spam = {'cat': 100}\n",
    "spam['color'] = 'black' # directly creating a new key-value pair in spam\n",
    "print(\"Changed dictionary is:-\",spam)"
   ]
  },
  {
   "cell_type": "markdown",
   "metadata": {},
   "source": [
    "### Q8: How do you \"pretty print\" dictionary values using which module and function?\n",
    "\n",
    "A8:\n",
    "\n",
    "pprint is a Python module that provides the capability to pretty print Python data types to be more readable. This module also supports pretty-printing dictionary.\n",
    "\n",
    "Within the pprint module there is a function with the same name pprint(), which is the function used to pretty-print the given string or object.\n",
    "\n",
    "First, declare an array of dictionaries. Afterward, pretty print it using the function pprint.pprint().\n",
    "\n",
    "Ex:"
   ]
  },
  {
   "cell_type": "code",
   "execution_count": 44,
   "metadata": {},
   "outputs": [
    {
     "name": "stdout",
     "output_type": "stream",
     "text": [
      "[{'Age': 25, 'Country': 'USA', 'First': 'Casey', 'Last': 'Affleck'},\n",
      " {'Age': 30, 'Country': 'Canada', 'First': 'Daniel', 'Last': 'Cumberbatch'},\n",
      " {'Age': 35, 'Country': 'Europe', 'First': 'Amanda', 'Last': 'Walterbridge'},\n",
      " {'Age': 29, 'Country': 'India', 'First': 'Cyrus', 'Last': 'Chakraborthy'}]\n"
     ]
    }
   ],
   "source": [
    "import pprint\n",
    "dct_array = [\n",
    "  {'First': 'Casey', 'Last': 'Affleck','Age': 25 , 'Country': 'USA'},\n",
    "  {'First': 'Daniel', 'Last': 'Cumberbatch','Age': 30 , 'Country': 'Canada'},\n",
    "  {'First': 'Amanda', 'Last': 'Walterbridge','Age': 35 , 'Country': 'Europe'},\n",
    "  {'First': 'Cyrus', 'Last': 'Chakraborthy','Age': 29 , 'Country': 'India'}\n",
    "]\n",
    "pprint.pprint(dct_array)"
   ]
  }
 ],
 "metadata": {
  "kernelspec": {
   "display_name": "Python 3",
   "language": "python",
   "name": "python3"
  },
  "language_info": {
   "codemirror_mode": {
    "name": "ipython",
    "version": 3
   },
   "file_extension": ".py",
   "mimetype": "text/x-python",
   "name": "python",
   "nbconvert_exporter": "python",
   "pygments_lexer": "ipython3",
   "version": "3.8.5"
  }
 },
 "nbformat": 4,
 "nbformat_minor": 4
}
