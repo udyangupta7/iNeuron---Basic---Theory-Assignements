{
 "cells": [
  {
   "cell_type": "markdown",
   "id": "5fdae232",
   "metadata": {},
   "source": [
    "# Assignment 11\n",
    "\n",
    "#### Q1: Create an assert statement that throws an AssertionError if the variable spam is a negative integer.\n",
    "\n",
    "#### A1:"
   ]
  },
  {
   "cell_type": "code",
   "execution_count": 1,
   "id": "9fa81a1d",
   "metadata": {},
   "outputs": [
    {
     "name": "stdout",
     "output_type": "stream",
     "text": [
      "Enter a number: 12\n",
      "The spam variable is less than 0.\n"
     ]
    }
   ],
   "source": [
    "spam = int(input(\"Enter a number: \"))\n",
    "assert(spam >= 0)\n",
    "print('The spam variable is less than 0.')"
   ]
  },
  {
   "cell_type": "markdown",
   "id": "741a1ff3",
   "metadata": {},
   "source": [
    "#### Q2: Write an assert statement that triggers an AssertionError if the variables eggs and bacon contain strings that are the same as each other, even if their cases are different (that is, 'hello' and 'hello' are considered the same, and 'goodbye' and 'GOODbye' are also considered the same).\n",
    "\n",
    "#### A2:"
   ]
  },
  {
   "cell_type": "code",
   "execution_count": 2,
   "id": "4d99c74a",
   "metadata": {},
   "outputs": [
    {
     "name": "stdout",
     "output_type": "stream",
     "text": [
      "Enter a string: we\n",
      "Enter another string: we\n",
      "The eggs and bacon variables are the same!\n"
     ]
    }
   ],
   "source": [
    "eggs = str(input(\"Enter a string: \"))\n",
    "bacon = str(input(\"Enter another string: \"))\n",
    "assert(eggs.lower() == bacon.lower())\n",
    "print('The eggs and bacon variables are the same!')"
   ]
  },
  {
   "cell_type": "markdown",
   "id": "17902aed",
   "metadata": {},
   "source": [
    "#### Q3: Create an assert statement that throws an AssertionError every time.\n",
    "\n",
    "#### A3:"
   ]
  },
  {
   "cell_type": "code",
   "execution_count": 3,
   "id": "35f4e67f",
   "metadata": {},
   "outputs": [],
   "source": [
    "assert(False, 'This assertion always triggers.')"
   ]
  },
  {
   "cell_type": "markdown",
   "id": "1415470e",
   "metadata": {},
   "source": [
    "#### Q4: What are the two lines that must be present in your software in order to call logging.debug()?\n",
    "\n",
    "#### A4:"
   ]
  },
  {
   "cell_type": "markdown",
   "id": "1bfaece6",
   "metadata": {},
   "source": [
    "To be able to call logging.debug(), you must have these two lines at the start of your program: "
   ]
  },
  {
   "cell_type": "code",
   "execution_count": 4,
   "id": "aa33de34",
   "metadata": {},
   "outputs": [],
   "source": [
    "import logging \n",
    "logging.basicConfig(level=logging.DEBUG, format=' %(asctime)s - %(levelname)s - %(message)s')"
   ]
  },
  {
   "cell_type": "markdown",
   "id": "a072383b",
   "metadata": {},
   "source": [
    "#### Q5: What are the two lines that your program must have in order to have logging.debug() send a logging message to a file named programLog.txt?\n",
    "\n",
    "#### A5:"
   ]
  },
  {
   "cell_type": "code",
   "execution_count": 5,
   "id": "e8505b2a",
   "metadata": {},
   "outputs": [],
   "source": [
    "import logging \n",
    "logging.basicConfig(filename='programLog.txt', level=logging.DEBUG, format=' %(asctime)s - %(levelname)s - %(message)s')"
   ]
  },
  {
   "cell_type": "markdown",
   "id": "8e70c27e",
   "metadata": {},
   "source": [
    "#### Q6: What are the five levels of logging?\n",
    "\n",
    "#### A6:\n",
    "\n",
    "A log level or log severity is a piece of information telling how important a given log message is. It is a simple, yet very powerful way of distinguishing log events from each other. If the log levels are used properly in your application all you need is to look at the severity first. The 5 levels are:\n",
    "\n",
    "1. DEBUG – less granular compared to the TRACE level, but it is more than you will need in everyday use. The DEBUG log level should be used for information that may be needed for diagnosing issues and troubleshooting or when running application in the test environment for the purpose of making sure everything is running correctly.\n",
    "\n",
    "\n",
    "2. INFO – the standard log level indicating that something happened, the application entered a certain state, etc. For example, a controller of your authorization API may include an INFO log level with information on which user requested authorization if the authorization was successful or not. The information logged using the INFO log level should be purely informative and not looking into them on a regular basis shouldn’t result in missing any important information.\n",
    "\n",
    "\n",
    "3. WARN – the log level that indicates that something unexpected happened in the application, a problem, or a situation that might disturb one of the processes. But that doesn’t mean that the application failed. The WARN level should be used in situations that are unexpected, but the code can continue the work. For example, a parsing error occurred that resulted in a certain document not being processed.\n",
    "\n",
    "\n",
    "4. ERROR – the log level that should be used when the application hits an issue preventing one or more functionalities from properly functioning. The ERROR log level can be used when one of the payment systems is not available, but there is still the option to check out the basket in the e-commerce application or when your social media logging option is not working for some reason.\n",
    "\n",
    "\n",
    "5. FATAL – the log level that tells that the application encountered an event or entered a state in which one of the crucial business functionality is no longer working. A FATAL log level may be used when the application is not able to connect to a crucial data store like a database or all the payment systems are not available and users can’t checkout their baskets in your e-commerce."
   ]
  },
  {
   "cell_type": "markdown",
   "id": "f0f96a5c",
   "metadata": {},
   "source": [
    "#### Q7: What line of code would you add to your software to disable all logging messages?\n",
    "\n",
    "#### A7:\n",
    "\n",
    "Disabling logging of a message level:\n",
    "\n",
    "It provides an overriding logging level for all loggers which takes precedence over the logger's own level. When the need arises to temporarily throttle logging output down across the whole application, this function can be useful. Its effect is to disable all logging calls of severity level and below, so that if you call it with a value of INFO, then all INFO and DEBUG events would be discarded, whereas those of severity WARNING and above would be processed according to the logger's effective level. If logging.disable(logging.NOTSET) is called, it effectively removes this overriding level, so that logging output again depends on the effective levels of individual loggers."
   ]
  },
  {
   "cell_type": "code",
   "execution_count": 6,
   "id": "5a4380d3",
   "metadata": {},
   "outputs": [
    {
     "name": "stderr",
     "output_type": "stream",
     "text": [
      " 2021-09-23 15:57:01,801 - DEBUG - This is debug\n",
      " 2021-09-23 15:57:01,802 - INFO - This is info\n",
      " 2021-09-23 15:57:01,803 - WARNING - This is warning\n",
      " 2021-09-23 15:57:01,805 - ERROR - This is error\n",
      " 2021-09-23 15:57:01,805 - CRITICAL - This is critical\n",
      " 2021-09-23 15:57:01,806 - WARNING - This is warning\n",
      " 2021-09-23 15:57:01,807 - ERROR - This is error\n",
      " 2021-09-23 15:57:01,808 - CRITICAL - This is critical\n"
     ]
    },
    {
     "name": "stdout",
     "output_type": "stream",
     "text": [
      "\n",
      "\n"
     ]
    }
   ],
   "source": [
    "import logging\n",
    "from logging import DEBUG, INFO, WARNING, ERROR, CRITICAL, NOTSET\n",
    "\n",
    "logging.basicConfig(level=logging.DEBUG)\n",
    "\n",
    "def logging_levels():\n",
    "    logging.debug(\"This is debug\")\n",
    "    logging.info(\"This is info\")\n",
    "    logging.warning(\"This is warning\")\n",
    "    logging.error(\"This is error\")\n",
    "    logging.critical(\"This is critical\")\n",
    "\n",
    "def logging_levels_above_than(LevelValue=NOTSET):\n",
    "    logging.disable(level=LevelValue)\n",
    "\n",
    "    logging.debug(\"This is debug\")\n",
    "    logging.info(\"This is info\")\n",
    "    logging.warning(\"This is warning\")\n",
    "    logging.error(\"This is error\")\n",
    "    logging.critical(\"This is critical\")\n",
    "\n",
    "if __name__ == \"__main__\":\n",
    "    logging_levels()\n",
    "    print(\"\\n\")\n",
    "    logging_levels_above_than(INFO)"
   ]
  },
  {
   "cell_type": "markdown",
   "id": "9f8ad13a",
   "metadata": {},
   "source": [
    "Explanation: In this code, we are using two function. In one function we use all the logging levels. We set Log level value to DEBUG in basicConfig function. When function logging_levels executed, all the level of logging message will printed on console. In another function we used disable function to escape or we can say disable up to that logging level messages and also we use levelValue keyword argument and set its value to NOTSET. If we don't pass any value to this function then it will take NOTSET by default. In this function we pass INFO value as an argument, disable function will ignore that level and below that level of messages. We passed INFO as an argument so we can't see INFO, DEBUG level of messages. We can see only above that level of messages like WARNING, ERROR, CRITICAL."
   ]
  },
  {
   "cell_type": "code",
   "execution_count": 7,
   "id": "1de7adb9",
   "metadata": {},
   "outputs": [
    {
     "name": "stderr",
     "output_type": "stream",
     "text": [
      " 2021-09-23 15:58:22,108 - WARNING - This is warning\n",
      " 2021-09-23 15:58:22,110 - ERROR - This is error\n",
      " 2021-09-23 15:58:22,110 - CRITICAL - This is critical\n",
      " 2021-09-23 15:58:22,111 - ERROR - This is error\n",
      " 2021-09-23 15:58:22,112 - CRITICAL - This is critical\n"
     ]
    },
    {
     "name": "stdout",
     "output_type": "stream",
     "text": [
      "\n",
      "\n"
     ]
    }
   ],
   "source": [
    "import logging\n",
    "from logging import DEBUG, INFO, WARNING, ERROR, CRITICAL, NOTSET\n",
    "\n",
    "logging.basicConfig(level=logging.DEBUG)\n",
    "\n",
    "def logging_levels():\n",
    "    logging.debug(\"This is debug\")\n",
    "    logging.info(\"This is info\")\n",
    "    logging.warning(\"This is warning\")\n",
    "    logging.error(\"This is error\")\n",
    "    logging.critical(\"This is critical\")\n",
    "\n",
    "def logging_levels_above_than(LevelValue=NOTSET):\n",
    "    logging.disable(level=LevelValue)\n",
    "\n",
    "    logging.debug(\"This is debug\")\n",
    "    logging.info(\"This is info\")\n",
    "    logging.warning(\"This is warning\")\n",
    "    logging.error(\"This is error\")\n",
    "    logging.critical(\"This is critical\")\n",
    "\n",
    "if __name__ == \"__main__\":\n",
    "    logging_levels()\n",
    "    print(\"\\n\")\n",
    "    logging_levels_above_than(WARNING)"
   ]
  },
  {
   "cell_type": "markdown",
   "id": "a56f3db4",
   "metadata": {},
   "source": [
    "Explanation: We take one more example to clarify disable function. In this code we passed WARNING as a logging level then disable function will ignore all logging messages which is having WARNING, INFO and DEBUG level. It will show only ERROR and CRITICAL logging messages."
   ]
  },
  {
   "cell_type": "markdown",
   "id": "5c5e2d85",
   "metadata": {},
   "source": [
    "#### Q8: Why is using logging messages better than using print() to display the same message?\n",
    "\n",
    "#### A8:\n",
    "\n",
    "The logging package has a lot of useful features:\n",
    "\n",
    "1. Easy to see where and when (even what line no.) a logging call is being made from.\n",
    "\n",
    "\n",
    "2. You can log to files, sockets, pretty much anything, all at the same time.\n",
    "\n",
    "\n",
    "3. You can differentiate your logging based on severity. \n",
    "\n",
    "print() function doesn't have any of these.\n",
    "\n",
    "If your project is meant to be imported by other python tools, it's bad practice for your package to print things to stdout, since the user likely won't know where the print messages are coming from. With logging, users of your package can choose whether or not they want to propogate logging messages from your tool or not.\n",
    "\n",
    "One of the biggest advantages of proper logging is that you can categorize messages and turn them on or off depending on what you need. For example, it might be useful to turn on debugging level messages for a certain part of the project, but tone it down for other parts, so as not to be taken over by information overload and to easily concentrate on the task for which you need logging."
   ]
  },
  {
   "cell_type": "markdown",
   "id": "48dd6c7e",
   "metadata": {},
   "source": [
    "#### Q9: What are the differences between the Step Over, Step In, and Step Out buttons in the debugger?\n",
    "\n",
    "#### A9: \n",
    "\n",
    "1. Step over – An action to take in the debugger that will step over a given line. If the line contains a function the function will be executed and the result returned without debugging each line.\n",
    "\n",
    "2. Step into – An action to take in the debugger. If the line does not contain a function it behaves the same as “step over” but if it does the debugger will enter the called function and continue line-by-line debugging there.\n",
    "\n",
    "3. Step out – An action to take in the debugger that returns to the line where the current function was called."
   ]
  },
  {
   "cell_type": "markdown",
   "id": "0de89545",
   "metadata": {},
   "source": [
    "#### Q10: After you click Continue, when will the debugger stop ?\n",
    "\n",
    "#### A10: \n",
    "\n",
    "After we click continue, it only stops when a breakpoint is encountered."
   ]
  },
  {
   "cell_type": "markdown",
   "id": "40c69a04",
   "metadata": {},
   "source": [
    "#### Q11: What is the concept of a breakpoint?\n",
    "\n",
    "#### A11: \n",
    "\n",
    "Add import pdb; pdb.set_trace() at the corresponding line in the Python code and execute it. The execution will stop at the breakpoint. \n",
    "\n",
    "An interactive shell (the pdb shell) will appear and allows you to run regular Python code, i.e. to print the current contents of variables and data structures.\n",
    "\n",
    "There are several commands to continue or abort the further execution, here are some:\n",
    "1. c continue execution.\n",
    "\n",
    "2. n step to the next line within the same function.\n",
    "\n",
    "3. s step to the next line in this function or a called function.\n",
    "\n",
    "4. q quit the debugger/execution."
   ]
  }
 ],
 "metadata": {
  "kernelspec": {
   "display_name": "Python 3",
   "language": "python",
   "name": "python3"
  },
  "language_info": {
   "codemirror_mode": {
    "name": "ipython",
    "version": 3
   },
   "file_extension": ".py",
   "mimetype": "text/x-python",
   "name": "python",
   "nbconvert_exporter": "python",
   "pygments_lexer": "ipython3",
   "version": "3.8.8"
  }
 },
 "nbformat": 4,
 "nbformat_minor": 5
}
