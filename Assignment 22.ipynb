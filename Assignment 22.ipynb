{
 "cells": [
  {
   "cell_type": "markdown",
   "id": "cf1e8e17",
   "metadata": {},
   "source": [
    "# Assignment 22\n",
    "#### Q1: What is the result of the code, and explain?\n",
    "\n",
    "#### A1:"
   ]
  },
  {
   "cell_type": "code",
   "execution_count": 2,
   "id": "461313df",
   "metadata": {},
   "outputs": [
    {
     "name": "stdout",
     "output_type": "stream",
     "text": [
      "iNeuron\n"
     ]
    }
   ],
   "source": [
    "X = 'iNeuron'\n",
    "def func():\n",
    "    print(X)\n",
    "func()"
   ]
  },
  {
   "cell_type": "markdown",
   "id": "d5c295b2",
   "metadata": {},
   "source": [
    "The code is a function named 'func' will be printing the global variable 'X' with the output being 'iNeuron'."
   ]
  },
  {
   "cell_type": "markdown",
   "id": "394a4f2c",
   "metadata": {},
   "source": [
    "#### Q2: What is the result of the code, and explain?\n",
    "\n",
    "#### A2:"
   ]
  },
  {
   "cell_type": "code",
   "execution_count": 9,
   "id": "a5d86a97",
   "metadata": {},
   "outputs": [
    {
     "name": "stdout",
     "output_type": "stream",
     "text": [
      "iNeuron\n"
     ]
    }
   ],
   "source": [
    "X = 'iNeuron'\n",
    "def func():\n",
    "    X = 'NI!'\n",
    "func()\n",
    "print(X)"
   ]
  },
  {
   "cell_type": "markdown",
   "id": "fd6e796b",
   "metadata": {},
   "source": [
    "The variable 'X' has 'iNeuron' assigned outside the function so it may have been re-assigned inside the function but when checked outside the function 'func', it will be the initial value it was assigned with.\n",
    "\n",
    "#### Q3: What does this code print, and why?\n",
    "\n",
    "#### A3:"
   ]
  },
  {
   "cell_type": "code",
   "execution_count": 10,
   "id": "48de5f59",
   "metadata": {},
   "outputs": [
    {
     "name": "stdout",
     "output_type": "stream",
     "text": [
      "NI\n",
      "iNeuron\n"
     ]
    }
   ],
   "source": [
    "X = 'iNeuron'\n",
    "def func():\n",
    "    X = 'NI'\n",
    "    print(X)\n",
    "func()\n",
    "print(X)"
   ]
  },
  {
   "cell_type": "markdown",
   "id": "41bbb4f7",
   "metadata": {},
   "source": [
    "The variable 'X' will have two different values inside and outside the function 'func' so the outputs will give us two values of 'X':\n",
    "\n",
    "1. The first print returns 'NI' because the value of 'X' was re-assigned inside the function 'func' to 'NI'.\n",
    "\n",
    "2. The second print returns 'iNeuron' because the value of 'X' is 'iNeuron outside the function 'func' and it wont consider the change made to it inside the function. Such a variable is also known as a 'global variable'.\n",
    "\n",
    "#### Q4: What output does this code produce? Why?\n",
    "\n",
    "#### A4:"
   ]
  },
  {
   "cell_type": "code",
   "execution_count": 12,
   "id": "55a2d644",
   "metadata": {},
   "outputs": [
    {
     "name": "stdout",
     "output_type": "stream",
     "text": [
      "NI\n"
     ]
    }
   ],
   "source": [
    "X = 'iNeuron'\n",
    "def func():\n",
    "    global X\n",
    "    X = 'NI'\n",
    "func()\n",
    "print(X)"
   ]
  },
  {
   "cell_type": "markdown",
   "id": "024dbd9d",
   "metadata": {},
   "source": [
    "The variable 'X' has been declared as a global variable inside the function 'func'. Hence, the output will always be 'NI', no matter how many times it is re-assigned.\n",
    "\n",
    "#### Q5: What about this code—what’s the output, and why?\n",
    "\n",
    "#### A5:"
   ]
  },
  {
   "cell_type": "code",
   "execution_count": 14,
   "id": "664af1da",
   "metadata": {},
   "outputs": [
    {
     "name": "stdout",
     "output_type": "stream",
     "text": [
      "iNeuron\n"
     ]
    },
    {
     "data": {
      "text/plain": [
       "'iNeuron'"
      ]
     },
     "execution_count": 14,
     "metadata": {},
     "output_type": "execute_result"
    }
   ],
   "source": [
    "X = 'iNeuron'\n",
    "def func():\n",
    "    X = 'NI'\n",
    "def nested():\n",
    "    print(X)\n",
    "nested()\n",
    "func()\n",
    "X"
   ]
  },
  {
   "cell_type": "markdown",
   "id": "41e4c7ef",
   "metadata": {},
   "source": [
    "The function 'nested' will return 'iNeuron' because it has no re-assignments done for the variable 'X' inside the function. Hence, the result will be 'iNeuron' and when called outside the function, it will still be 'iNeuron' for the global variable has the said value stored in it. \n",
    "\n",
    "#### Q6: How about this code: what is its output in Python 3, and explain?\n",
    "\n",
    "#### A6:"
   ]
  },
  {
   "cell_type": "code",
   "execution_count": 18,
   "id": "3c989a21",
   "metadata": {},
   "outputs": [
    {
     "ename": "SyntaxError",
     "evalue": "no binding for nonlocal 'X' found (<ipython-input-18-5a585f48d40f>, line 2)",
     "output_type": "error",
     "traceback": [
      "\u001b[0;36m  File \u001b[0;32m\"<ipython-input-18-5a585f48d40f>\"\u001b[0;36m, line \u001b[0;32m2\u001b[0m\n\u001b[0;31m    def nested(): nonlocal X\u001b[0m\n\u001b[0m                  ^\u001b[0m\n\u001b[0;31mSyntaxError\u001b[0m\u001b[0;31m:\u001b[0m no binding for nonlocal 'X' found\n"
     ]
    }
   ],
   "source": [
    "def func(): X = 'NI'\n",
    "def nested(): nonlocal X\n",
    "X = 'Spam'\n",
    "nested()\n",
    "print(X)"
   ]
  },
  {
   "cell_type": "markdown",
   "id": "b5a0fd72",
   "metadata": {},
   "source": [
    "If you use nonlocal, that means that Python will, at the start of the function, look for a variable with the same name from one scope above (and beyond). But here you did not define such one. We can fix it with defining one, one level higher but since that is not done here, it is returning a 'SyntaxError'."
   ]
  }
 ],
 "metadata": {
  "kernelspec": {
   "display_name": "Python 3",
   "language": "python",
   "name": "python3"
  },
  "language_info": {
   "codemirror_mode": {
    "name": "ipython",
    "version": 3
   },
   "file_extension": ".py",
   "mimetype": "text/x-python",
   "name": "python",
   "nbconvert_exporter": "python",
   "pygments_lexer": "ipython3",
   "version": "3.8.8"
  }
 },
 "nbformat": 4,
 "nbformat_minor": 5
}
