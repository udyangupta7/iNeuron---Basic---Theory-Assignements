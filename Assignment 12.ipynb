{
 "cells": [
  {
   "cell_type": "markdown",
   "id": "d2b55327",
   "metadata": {},
   "source": [
    "# Assignment 12:"
   ]
  },
  {
   "cell_type": "markdown",
   "id": "7d989424",
   "metadata": {},
   "source": [
    "#### Q1: In what modes should the PdfFileReader() and PdfFileWriter() File objects will be opened?\n",
    "\n",
    "#### A1:\n",
    "\n",
    "1. PdfFileReader(stream, strict=True, warndest=None, overwriteWarnings=True): It initializes a PdfFileReader object. This operation can take some time, as the PDF stream’s cross-reference tables are read into memory.\n",
    "\n",
    "2. PdfFileWriter(): This class supports writing PDF files out, given pages produced by another class. "
   ]
  },
  {
   "cell_type": "markdown",
   "id": "fd951636",
   "metadata": {},
   "source": [
    "#### Q2: From a PdfFileReader object, how do you get a Page object for page 5?\n",
    "\n",
    "#### A2:\n",
    "\n",
    "To extract text from a page, you need to get a Page object, which represents a single page of a pdf file, from a PdfFileReader object. You can get a page object by calling the getPage() method on a PdfFileReader object and passing it the page number of the page you're interested in. "
   ]
  },
  {
   "cell_type": "markdown",
   "id": "0431f833",
   "metadata": {},
   "source": [
    "#### Q3: What PdfFileReader variable stores the number of pages in the PDF document?\n",
    "\n",
    "#### A3: \n",
    "\n",
    "The total number of pages in the document is stored in the numPages attribute of a PdfFileReader object. "
   ]
  },
  {
   "cell_type": "markdown",
   "id": "5b049b78",
   "metadata": {},
   "source": [
    "#### Q4: If a PdfFileReader object’s PDF is encrypted with the password swordfish, what must you do before you can obtain Page objects from it?\n",
    "\n",
    "#### A4:\n",
    "\n",
    "DECRYPTING PDFs:\n",
    "\n",
    "Some PDF documents have an encryption feature that will keep them from being read until whoever is opening the document provides a password. Enter the following into the interactive shell with the PDF you downloaded, which has been encrypted with the password swordfish using pdfReader.decrypt('swordfish')"
   ]
  },
  {
   "cell_type": "markdown",
   "id": "06d573bb",
   "metadata": {},
   "source": [
    "#### Q5: What methods do you use to rotate a page?\n",
    "\n",
    "#### A5:\n",
    "\n",
    "The pages of a PDF can also be rotated in 90-degree increments with the rotateClockwise() and rotateCounterClockwise() methods. \n",
    "\n",
    "NOTE: Pass one of the integers 90, 180, or 270 to these methods to rotate the pages accordingly."
   ]
  },
  {
   "cell_type": "markdown",
   "id": "5e4a9e47",
   "metadata": {},
   "source": [
    "#### Q6: What is the difference between a Run object and a Paragraph object?\n",
    "\n",
    "#### A6:\n",
    "\n",
    "1. Run Object: Several of the properties on Run take a tri-state value, True, False, or None. True and False correspond to on and off respectively. None indicates the property is not specified directly on the run and its effective value is taken from the style hierarchy.\n",
    "\n",
    "2. Paragraph Object: Compared to plaintexts, .docx files have a lot of structure. This structure is represented by three different data types in Python-Docx. At the highest level, a Document object represents the entire document. The Document object contains a list of Paragraph objects for the paragraphs in the document. (A new paragraph begins whenever the user presses ENTER or RETURN while typing in a Word document.) Each of these Paragraph objects contains a list of one or more Run objects. "
   ]
  },
  {
   "cell_type": "markdown",
   "id": "c265b99b",
   "metadata": {},
   "source": [
    "#### Q7: What type of object has bold, underline, italic, strike, and outline variables?\n",
    "\n",
    "#### A7:\n",
    "\n",
    "Run Attributes:\n",
    "\n",
    "Runs can be further styled using text attributes. Each attribute can be set to one of three values: \n",
    "\n",
    "1. True (the attribute is always enabled, no matter what other styles are applied to the run)\n",
    "2. False (the attribute is always disabled)\n",
    "3. None (defaults to whatever the run’s style is set to).\n",
    "\n",
    "All the run objects can be visually changed to look bold, italic, strike or outlined."
   ]
  },
  {
   "cell_type": "markdown",
   "id": "dfe3f783",
   "metadata": {},
   "source": [
    "#### Q9: What is the difference between False, True, and None for the bold variable?\n",
    "\n",
    "#### A9:\n",
    "\n",
    "For the bold variables, the differences are: \n",
    "\n",
    "1. True - It is enabled automatically.\n",
    "\n",
    "2. False - This attribute is always disabled.\n",
    "\n",
    "3. None - Defaults to whatever the run’s style is set to."
   ]
  },
  {
   "cell_type": "markdown",
   "id": "810944e1",
   "metadata": {},
   "source": [
    "#### Q10: How do you create a Document object for a new Word document?\n",
    "\n",
    "#### A10:\n",
    "\n",
    "use the import docx library.Then we open a .docx file in Python, call docx.Document(), and pass the filename docs.docx (where docs is the name of the file). This will return a Document object, which has a paragraphs attribute that is a list of Paragraph objects."
   ]
  },
  {
   "cell_type": "markdown",
   "id": "e76db3b5",
   "metadata": {},
   "source": [
    "#### Q11: How do you add a paragraph with the text 'Hello, there!' to a Document object stored in a variable named doc?\n",
    "\n",
    "#### A11:\n",
    "\n",
    "You can add paragraphs by calling the add_paragraph()method again with the new paragraph’s text. Or to add text to the end of an existing para-graph, you can call the paragraph’s add_run()method and pass it a string or a set of strings."
   ]
  },
  {
   "cell_type": "markdown",
   "id": "c1def418",
   "metadata": {},
   "source": [
    "#### Q12: What integers represent the levels of headings available in Word documents?\n",
    "\n",
    "#### A12:\n",
    "\n",
    "We can apply a numbering scheme to the headings in our document by using multilevel-list templates and built-in heading styles in Word like Heading 1, Heading 2, and more.\n",
    "\n",
    "We can number headings so that top-level headings (like Heading 1) are numbered 1, 2, 3. \n",
    "\n",
    "For example, and second-level headings (like Heading 2) are numbered 1.1, 1.2, 1.3."
   ]
  }
 ],
 "metadata": {
  "kernelspec": {
   "display_name": "Python 3",
   "language": "python",
   "name": "python3"
  },
  "language_info": {
   "codemirror_mode": {
    "name": "ipython",
    "version": 3
   },
   "file_extension": ".py",
   "mimetype": "text/x-python",
   "name": "python",
   "nbconvert_exporter": "python",
   "pygments_lexer": "ipython3",
   "version": "3.8.8"
  }
 },
 "nbformat": 4,
 "nbformat_minor": 5
}
