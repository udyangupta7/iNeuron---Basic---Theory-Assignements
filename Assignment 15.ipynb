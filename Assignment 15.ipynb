{
 "cells": [
  {
   "cell_type": "markdown",
   "id": "3ee29cee",
   "metadata": {},
   "source": [
    "# Assignment 15:\n",
    "\n",
    "#### Q1: How many seconds are in an hour? Use the interactive interpreter as a calculator and multiply the number of seconds in a minute (60) by the number of minutes in an hour (also 60)."
   ]
  },
  {
   "cell_type": "code",
   "execution_count": 26,
   "id": "31dfbd51",
   "metadata": {},
   "outputs": [
    {
     "name": "stdout",
     "output_type": "stream",
     "text": [
      "total seconds in one hour are 3600 seconds\n"
     ]
    }
   ],
   "source": [
    "seconds_per_minute = 60\n",
    "seconds_in_an_hour = seconds_per_minute*60\n",
    "print(\"total seconds in one hour are\",seconds_in_an_hour,'seconds')"
   ]
  },
  {
   "cell_type": "markdown",
   "id": "5ef28abe",
   "metadata": {},
   "source": [
    "#### Q2: Assign the result from the previous task (seconds in an hour) to a variable called seconds_per_hour."
   ]
  },
  {
   "cell_type": "code",
   "execution_count": 27,
   "id": "b67c80aa",
   "metadata": {},
   "outputs": [],
   "source": [
    "seconds_per_hour = seconds_in_an_hour"
   ]
  },
  {
   "cell_type": "markdown",
   "id": "4a12bde5",
   "metadata": {},
   "source": [
    "#### Q3: How many seconds do you think there are in a day? Make use of the variables seconds per hour and minutes per hour."
   ]
  },
  {
   "cell_type": "code",
   "execution_count": 28,
   "id": "ea89efa6",
   "metadata": {},
   "outputs": [
    {
     "name": "stdout",
     "output_type": "stream",
     "text": [
      "Total seconds in a day: 86400\n"
     ]
    }
   ],
   "source": [
    "minutes_per_hour = 60\n",
    "seconds_in_a_day = 24*minutes_per_hour*seconds_per_minute\n",
    "print(\"Total seconds in a day:\",seconds_in_a_day)"
   ]
  },
  {
   "cell_type": "markdown",
   "id": "b22cc32e",
   "metadata": {},
   "source": [
    "#### Q4: Calculate seconds per day again, but this time save the result in a variable called seconds_per_day"
   ]
  },
  {
   "cell_type": "code",
   "execution_count": 29,
   "id": "8256e424",
   "metadata": {},
   "outputs": [],
   "source": [
    "seconds_per_day = seconds_in_a_day"
   ]
  },
  {
   "cell_type": "markdown",
   "id": "8b03329e",
   "metadata": {},
   "source": [
    "#### Q5: Divide seconds_per_day by seconds_per_hour. Use floating-point (/) division."
   ]
  },
  {
   "cell_type": "code",
   "execution_count": 31,
   "id": "27756cb5",
   "metadata": {},
   "outputs": [
    {
     "name": "stdout",
     "output_type": "stream",
     "text": [
      "24.0\n"
     ]
    }
   ],
   "source": [
    "floating_point_division = (seconds_per_day/seconds_per_hour)\n",
    "print(floating_point_division)"
   ]
  },
  {
   "cell_type": "markdown",
   "id": "cd42fd48",
   "metadata": {},
   "source": [
    "#### Q6: Divide seconds_per_day by seconds_per_hour, using integer (//) division. Did this number agree with the floating-point value from the previous question, aside from the final .0?"
   ]
  },
  {
   "cell_type": "code",
   "execution_count": 32,
   "id": "4e95f959",
   "metadata": {},
   "outputs": [
    {
     "name": "stdout",
     "output_type": "stream",
     "text": [
      "24\n"
     ]
    }
   ],
   "source": [
    "integer_point_division = (seconds_per_day//seconds_per_hour)\n",
    "print(integer_point_division)"
   ]
  },
  {
   "cell_type": "markdown",
   "id": "ae8224f2",
   "metadata": {},
   "source": [
    "#### Q7: Write a generator, genPrimes, that returns the sequence of prime numbers on successive calls to its next() method: 2, 3, 5, 7, 11, ..."
   ]
  },
  {
   "cell_type": "code",
   "execution_count": 39,
   "id": "04e9f864",
   "metadata": {},
   "outputs": [
    {
     "name": "stdout",
     "output_type": "stream",
     "text": [
      "<generator object genPrimes at 0x7fde0d5e8ba0>\n"
     ]
    }
   ],
   "source": [
    "def genPrimes():\n",
    "    primes = []   # primes generated so far\n",
    "    last = 1      # last number tried\n",
    "    while True:\n",
    "        last += 1\n",
    "        for p in primes:\n",
    "            if last % p == 0:\n",
    "                break\n",
    "        else:\n",
    "            primes.append(last)\n",
    "            yield last\n",
    "p =genPrimes()\n",
    "print(p)"
   ]
  }
 ],
 "metadata": {
  "kernelspec": {
   "display_name": "Python 3",
   "language": "python",
   "name": "python3"
  },
  "language_info": {
   "codemirror_mode": {
    "name": "ipython",
    "version": 3
   },
   "file_extension": ".py",
   "mimetype": "text/x-python",
   "name": "python",
   "nbconvert_exporter": "python",
   "pygments_lexer": "ipython3",
   "version": "3.8.8"
  }
 },
 "nbformat": 4,
 "nbformat_minor": 5
}
