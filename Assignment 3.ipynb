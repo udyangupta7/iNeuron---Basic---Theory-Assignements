{
 "cells": [
  {
   "cell_type": "markdown",
   "metadata": {},
   "source": [
    "# Assignment 3:"
   ]
  },
  {
   "cell_type": "markdown",
   "metadata": {},
   "source": [
    "### Q1: Why are functions advantageous to have in your programs?\n",
    "\n",
    "A1:"
   ]
  },
  {
   "cell_type": "markdown",
   "metadata": {},
   "source": [
    "A major purpose of functions is to group code that gets executed multiple times. Without a defined function, you would have to copy and paste the same code multiple times. In general, you always want to avoid duplicating code because if you ever decide to update the code y0ou’ll have to remember to change the code everywhere you copied it. As you get more programming experience, you’ll often find yourself deduplicating code, which means getting rid of duplicated or copy-and-pasted code. Deduplication makes your programs shorter, easier to read, and easier to update.\n",
    "\n",
    "Ex: Finding one bug in a code of 15 blocks would mean editing all 15 blocks whereas in functions, it will be done only once.  "
   ]
  },
  {
   "cell_type": "code",
   "execution_count": 28,
   "metadata": {},
   "outputs": [],
   "source": [
    "#  printing hello using a function:\n",
    "def hello():\n",
    "    print(\"It's Sunday\")\n",
    "    print(\"It's Sunday!\")\n",
    "    return(\"It's Sundaaaaay!!\")"
   ]
  },
  {
   "cell_type": "code",
   "execution_count": 29,
   "metadata": {},
   "outputs": [
    {
     "name": "stdout",
     "output_type": "stream",
     "text": [
      "It's Sunday\n",
      "It's Sunday!\n",
      "It's Sundaaaaay!!\n",
      "It's Sunday\n",
      "It's Sunday!\n",
      "It's Sundaaaaay!!\n",
      "It's Sunday\n",
      "It's Sunday!\n",
      "It's Sundaaaaay!!\n"
     ]
    }
   ],
   "source": [
    "for i in range(3): # calling the function\n",
    "    print(hello())"
   ]
  },
  {
   "cell_type": "code",
   "execution_count": 30,
   "metadata": {},
   "outputs": [
    {
     "name": "stdout",
     "output_type": "stream",
     "text": [
      "It's Sunday\n",
      "It's Sunday!\n",
      "It's Sundaaaaay!!\n",
      "It's Sunday\n",
      "It's Sunday!\n",
      "It's Sundaaaaay!!\n",
      "It's Sunday\n",
      "It's Sunday!\n",
      "It's Sundaaaaay!!\n"
     ]
    }
   ],
   "source": [
    "# printing the same code without a function: \n",
    "print(\"It's Sunday\")\n",
    "print(\"It's Sunday!\")\n",
    "print(\"It's Sundaaaaay!!\")\n",
    "print(\"It's Sunday\")\n",
    "print(\"It's Sunday!\")\n",
    "print(\"It's Sundaaaaay!!\")\n",
    "print(\"It's Sunday\")\n",
    "print(\"It's Sunday!\")\n",
    "print(\"It's Sundaaaaay!!\")"
   ]
  },
  {
   "cell_type": "markdown",
   "metadata": {},
   "source": [
    "### Q2: When does the code in a function run: when it's specified or when it's called?\n",
    "\n",
    "A2:"
   ]
  },
  {
   "cell_type": "markdown",
   "metadata": {},
   "source": [
    "Functions encapsulates any task (meaning that they combine many instructions into a single line of code). Most programming languages provide many built in functions that would otherwise require many steps to accomplish, for example, computing the square root of a number. In general, we don't care how a function does what it does, only that it performs the task in lesser lines of codes and prevents repetition, as observed in the example for the first question.\n",
    "\n",
    "When a function is called, the program leaves the current section of code and begins to execute the first line inside the function. The flow of control for the  function  is:\n",
    "\n",
    "1. The program comes to a line of code containing a function call.\n",
    "2. The program enters the function (starts at the first line in the function code).\n",
    "3. All instructions inside of the function are executed from top to bottom.\n",
    "4. The program leaves the function and goes back to where it started from.\n",
    "5. Any data computed and returned by the function is used in place of the function in the original line of code."
   ]
  },
  {
   "cell_type": "markdown",
   "metadata": {},
   "source": [
    "### Q3. What statement creates a function?\n",
    "\n",
    "A3:"
   ]
  },
  {
   "cell_type": "markdown",
   "metadata": {},
   "source": [
    "A function can be created by using the keyword 'def' followed by the name of the function, parenthesis and ending with a colon. Then, it is all brought alltogether with the return keyword inside the body of the function.\n",
    "\n",
    "Ex:"
   ]
  },
  {
   "cell_type": "code",
   "execution_count": 57,
   "metadata": {},
   "outputs": [],
   "source": [
    "def greeting(name): # defining a function\n",
    "    \"\"\"\n",
    "    This function greets to\n",
    "    the person passed in as\n",
    "    a parameter\n",
    "    \"\"\"\n",
    "    print(\"Hello, \"+name+\". Good morning!\")"
   ]
  },
  {
   "cell_type": "code",
   "execution_count": 58,
   "metadata": {},
   "outputs": [
    {
     "name": "stdout",
     "output_type": "stream",
     "text": [
      "Hello, Udyan. Good morning!\n"
     ]
    }
   ],
   "source": [
    "# calling the function 'greet':\n",
    "greeting(\"Udyan\") # The string 'udyan' is being passed via function's parameter 'name'"
   ]
  },
  {
   "cell_type": "markdown",
   "metadata": {},
   "source": [
    "### Q4. What is the difference between a function and a function call?\n",
    "\n",
    "A4:"
   ]
  },
  {
   "cell_type": "markdown",
   "metadata": {},
   "source": [
    "A function is nothing but just a set of statements which is written as a block to perform a specific type of job. Usually, code repetition is a huge issue while writing a large program. For instance, if you want to store the names of 100 employees into a database, then don't you think that you have to repeat the same procedure again and again for each employee. This will make working with their data/information very tedious as for 100 employees you will write the same thing for 100 times. This will make the program lengthy as well as debugging will become difficult.\n",
    "In order to make the things simpler in these situations we have come up with the concept of functions. With this concept we can just write the function once and can use it for 100 times without writing it anymore. Thus the above mentioned problems will be sorted out when we use functions.\n",
    "\n",
    "In the above paragraph it is mentioned that you have to write the function once and can use it for 100 times (in case of employee entries). The method via which this function can be used 100 times is termed as calling a function. It means invoking a function so that it performs the required task. When we call a function then the control passes to the function and the statements written therein are executed one by one there by carrying out the required task.\n",
    "\n",
    "Ex: \n",
    "\n",
    "Upon considering the same program as above:"
   ]
  },
  {
   "cell_type": "code",
   "execution_count": 55,
   "metadata": {},
   "outputs": [],
   "source": [
    "def greeting(name): # defining a function\n",
    "    print(\"Hello, \"+name+\". How are you?\")"
   ]
  },
  {
   "cell_type": "code",
   "execution_count": 56,
   "metadata": {},
   "outputs": [
    {
     "name": "stdout",
     "output_type": "stream",
     "text": [
      "Hello, Udyan. How are you?\n"
     ]
    }
   ],
   "source": [
    "# calling the function 'greet':\n",
    "greeting(\"Udyan\") "
   ]
  },
  {
   "cell_type": "markdown",
   "metadata": {},
   "source": [
    "### Q5. How many global scopes are there in a Python program? How many local scopes?\n",
    "\n",
    "A5:"
   ]
  },
  {
   "cell_type": "markdown",
   "metadata": {},
   "source": [
    "Global Scope:\n",
    "\n",
    "There’s only one global Python scope for each program execution. This scope remains active until the program terminates and then all its names and declarations are forgotten. If this were not the case, then the next time you were to run the program, the names would remember their values from the previous run. You can access or reference the value of any global name from any place in your code. This includes functions and classes. \n",
    "\n",
    "Ex:"
   ]
  },
  {
   "cell_type": "code",
   "execution_count": 4,
   "metadata": {},
   "outputs": [],
   "source": [
    "var = 100 # a global variable declaration\n",
    "def func():\n",
    "    return var  # You can access var from inside func()"
   ]
  },
  {
   "cell_type": "code",
   "execution_count": 5,
   "metadata": {},
   "outputs": [
    {
     "data": {
      "text/plain": [
       "100"
      ]
     },
     "execution_count": 5,
     "metadata": {},
     "output_type": "execute_result"
    }
   ],
   "source": [
    "func()"
   ]
  },
  {
   "cell_type": "code",
   "execution_count": 6,
   "metadata": {},
   "outputs": [
    {
     "data": {
      "text/plain": [
       "100"
      ]
     },
     "execution_count": 6,
     "metadata": {},
     "output_type": "execute_result"
    }
   ],
   "source": [
    "var  # The value of the variable remains unchanged"
   ]
  },
  {
   "cell_type": "markdown",
   "metadata": {},
   "source": [
    "Local Scopes:\n",
    "Local variables can only be used and reached within their scope.The variables declared under local scope will only work/used inside the function they are defined inside of and they don’t exist outside of the function. So trying to use local variable outside their scope will be an error, specifically the NameError.\n",
    "\n",
    "Ex:"
   ]
  },
  {
   "cell_type": "code",
   "execution_count": 14,
   "metadata": {},
   "outputs": [],
   "source": [
    "def sum(x,y):\n",
    "    sum = x + y\n",
    "    return sum"
   ]
  },
  {
   "cell_type": "code",
   "execution_count": 16,
   "metadata": {},
   "outputs": [
    {
     "data": {
      "text/plain": [
       "1001"
      ]
     },
     "execution_count": 16,
     "metadata": {},
     "output_type": "execute_result"
    }
   ],
   "source": [
    "sum(1,1000)"
   ]
  },
  {
   "cell_type": "markdown",
   "metadata": {},
   "source": [
    "### Q6: What happens to variables in a local scope when the function call returns?\n",
    "\n",
    "A6:\n",
    "\n",
    "1. A local variable retains its value until the next time the function is called\n",
    "2. A local variable becomes undefined after the function call completes\n",
    "\n",
    "and hence, the local variable(s) can be used outside the function any time after each function call cycle is completed."
   ]
  },
  {
   "cell_type": "markdown",
   "metadata": {},
   "source": [
    "### Q7: What is the concept of a return value? Is it possible to have a return value in an expression?\n",
    "\n",
    "A7:\n",
    "\n",
    "A return statement is used to end the execution of the function call and “returns” the result (value of the expression following the return keyword) to the caller. The statements after the return statements are not executed. If the return statement is without any expression, then the special value None is returned."
   ]
  },
  {
   "cell_type": "markdown",
   "metadata": {},
   "source": [
    "### Q8: If a function does not have a return statement, what is the return value of a call to that function?\n",
    "\n",
    "A8:\n",
    "\n",
    "If there is no return statement appearing in a function definition, the control automatically returns to the calling function after the last statement of the called function will be executed. In this case, the return value of the called function is undefined."
   ]
  },
  {
   "cell_type": "markdown",
   "metadata": {},
   "source": [
    "### Q9: How do you make a function variable refer to the global variable?\n",
    "\n",
    "A9:\n",
    "\n",
    "If you want to refer to a global variable in a function, you can use the global keyword to declare which variables are global. You don't have to use it in all cases. If the name referenced in an expression cannot be found in the local scope or scopes of the functions in which the said function is defined, it is looked up among global variables. \n",
    "However, if you assign to a new variable not declared as global in the function, it is implicitly declared as local, and it can overshadow any existing global variable with the same name. global variables are useful especially for smaller scripts.\n",
    "\n",
    "Ex:"
   ]
  },
  {
   "cell_type": "code",
   "execution_count": 14,
   "metadata": {},
   "outputs": [
    {
     "name": "stdout",
     "output_type": "stream",
     "text": [
      "Python is the easiest to learn amongst all the programming languages.\n"
     ]
    }
   ],
   "source": [
    "def myfunc():\n",
    "    global x # declaring x as a global variable. \n",
    "    x = \"the easiest to learn amongst all the programming languages.\"\n",
    "myfunc()\n",
    "print(\"Python is \" + x)"
   ]
  },
  {
   "cell_type": "markdown",
   "metadata": {},
   "source": [
    "### Q10: What is the data type of None?\n",
    "\n",
    "A10:\n",
    "\n",
    "The None keyword is used to define a null value, or no value at all. None is not the same as 0, False, or an empty string. None is a data type of its own *(NoneType)* and only None can be None."
   ]
  },
  {
   "cell_type": "code",
   "execution_count": 24,
   "metadata": {},
   "outputs": [
    {
     "name": "stdout",
     "output_type": "stream",
     "text": [
      "None is just None, neither True nor False.\n"
     ]
    }
   ],
   "source": [
    "x = None # creating a variable with NoneType datatype.\n",
    "if x is True:\n",
    "    print(\"None datatype is True.\")\n",
    "elif x is False:\n",
    "    print (\"None datatype is False.\")\n",
    "else:\n",
    "    print(\"None is just None, neither True nor False.\")"
   ]
  },
  {
   "cell_type": "markdown",
   "metadata": {},
   "source": [
    "### Q11: What does the sentence import areallyourpetsnamederic do?\n",
    "\n",
    "A11:\n",
    "\n",
    "That import statement will import a module named areallyourpetsnamederic (which isn’t a real Python module). "
   ]
  },
  {
   "cell_type": "markdown",
   "metadata": {},
   "source": [
    "### Q12: If you had a bacon() feature in a spam module, what would you call it after importing spam?\n",
    "\n",
    "A12:\n",
    "\n",
    "This function can be called using spam.bacon()"
   ]
  },
  {
   "cell_type": "markdown",
   "metadata": {},
   "source": [
    "### Q13: What can you do to save a programme from crashing if it encounters an error?\n",
    "\n",
    "A13:\n",
    "\n",
    "If an error occurs in a program, we don’t want the program to unexpectedly crash whilst the user is still on it. Instead, error handling can be used to notify the user of why the error has occurred whilst he was running the program and then exit the process that caused the error.\n",
    "\n",
    "Ex:"
   ]
  },
  {
   "cell_type": "code",
   "execution_count": 5,
   "metadata": {},
   "outputs": [
    {
     "name": "stdout",
     "output_type": "stream",
     "text": [
      "1bc\n"
     ]
    }
   ],
   "source": [
    "print(\"1\"+\"b\"+'c') # will print the output for the string concatination."
   ]
  },
  {
   "cell_type": "code",
   "execution_count": 6,
   "metadata": {},
   "outputs": [
    {
     "ename": "NameError",
     "evalue": "name 'b' is not defined",
     "output_type": "error",
     "traceback": [
      "\u001b[1;31m---------------------------------------------------------------------------\u001b[0m",
      "\u001b[1;31mNameError\u001b[0m                                 Traceback (most recent call last)",
      "\u001b[1;32m<ipython-input-6-dfcd6f189f0f>\u001b[0m in \u001b[0;36m<module>\u001b[1;34m\u001b[0m\n\u001b[0;32m      1\u001b[0m \u001b[1;31m# However, missing out on declaring a string while running an output will let usa know the error before exiting the process:\u001b[0m\u001b[1;33m\u001b[0m\u001b[1;33m\u001b[0m\u001b[1;33m\u001b[0m\u001b[0m\n\u001b[1;32m----> 2\u001b[1;33m \u001b[0mprint\u001b[0m\u001b[1;33m(\u001b[0m\u001b[1;34m'1'\u001b[0m\u001b[1;33m+\u001b[0m\u001b[0mb\u001b[0m\u001b[1;33m+\u001b[0m\u001b[1;34m'c'\u001b[0m\u001b[1;33m)\u001b[0m\u001b[1;33m\u001b[0m\u001b[1;33m\u001b[0m\u001b[0m\n\u001b[0m",
      "\u001b[1;31mNameError\u001b[0m: name 'b' is not defined"
     ]
    }
   ],
   "source": [
    "# However, missing out on declaring a string while running an output will notify the error before exiting the process:\n",
    "print('1'+b+'c')"
   ]
  },
  {
   "cell_type": "markdown",
   "metadata": {},
   "source": [
    "### Q14: What is the purpose of the try clause? What is the purpose of the except clause?\n",
    "\n",
    "A14:\n",
    "\n",
    "try and except are used for catching and handling exceptions and hence, a coder can perform certain tasks to navigate through the said errors. \n",
    "\n",
    "try: Python executes the try statement as a “normal” part of the program. \n",
    "\n",
    "except: The code that follows the except statement is the program’s response to any exceptions in the preceding try clause. When syntactically correct code runs into an error, Python will throw an exception error. This exception error will crash the program if it is left unhandled. In other words, the except clause determines how your program responds to exceptions.\n",
    "\n",
    "Ex:"
   ]
  },
  {
   "cell_type": "code",
   "execution_count": 8,
   "metadata": {},
   "outputs": [
    {
     "name": "stdout",
     "output_type": "stream",
     "text": [
      "Enter the first number:- 2\n",
      "Enter the first number:-1\n",
      "Vlaue after division is:-  2.0\n"
     ]
    }
   ],
   "source": [
    "# Prog to divide two numbers (user based input)  \n",
    "a = int(input(\"Enter the first number:- \"))\n",
    "b = int(input('Enter the first number:-'))\n",
    "c = a/b\n",
    "print(\"Vlaue after division is:- \",c) "
   ]
  },
  {
   "cell_type": "markdown",
   "metadata": {},
   "source": [
    "Now if we enter 0 as the second input, it will naturally return the ZeroDivisionError error."
   ]
  },
  {
   "cell_type": "code",
   "execution_count": 20,
   "metadata": {},
   "outputs": [
    {
     "name": "stdout",
     "output_type": "stream",
     "text": [
      "Enter the first number:- 32\n",
      "Enter the first number:-0\n"
     ]
    },
    {
     "ename": "ZeroDivisionError",
     "evalue": "division by zero",
     "output_type": "error",
     "traceback": [
      "\u001b[1;31m---------------------------------------------------------------------------\u001b[0m",
      "\u001b[1;31mZeroDivisionError\u001b[0m                         Traceback (most recent call last)",
      "\u001b[1;32m<ipython-input-20-9ae14b396992>\u001b[0m in \u001b[0;36m<module>\u001b[1;34m\u001b[0m\n\u001b[0;32m      2\u001b[0m \u001b[0ma\u001b[0m \u001b[1;33m=\u001b[0m \u001b[0mint\u001b[0m\u001b[1;33m(\u001b[0m\u001b[0minput\u001b[0m\u001b[1;33m(\u001b[0m\u001b[1;34m\"Enter the first number:- \"\u001b[0m\u001b[1;33m)\u001b[0m\u001b[1;33m)\u001b[0m\u001b[1;33m\u001b[0m\u001b[1;33m\u001b[0m\u001b[0m\n\u001b[0;32m      3\u001b[0m \u001b[0mb\u001b[0m \u001b[1;33m=\u001b[0m \u001b[0mint\u001b[0m\u001b[1;33m(\u001b[0m\u001b[0minput\u001b[0m\u001b[1;33m(\u001b[0m\u001b[1;34m'Enter the first number:-'\u001b[0m\u001b[1;33m)\u001b[0m\u001b[1;33m)\u001b[0m\u001b[1;33m\u001b[0m\u001b[1;33m\u001b[0m\u001b[0m\n\u001b[1;32m----> 4\u001b[1;33m \u001b[0mc\u001b[0m \u001b[1;33m=\u001b[0m \u001b[0ma\u001b[0m\u001b[1;33m/\u001b[0m\u001b[0mb\u001b[0m\u001b[1;33m\u001b[0m\u001b[1;33m\u001b[0m\u001b[0m\n\u001b[0m\u001b[0;32m      5\u001b[0m \u001b[0mprint\u001b[0m\u001b[1;33m(\u001b[0m\u001b[1;34m\"Value after division is:- \"\u001b[0m\u001b[1;33m,\u001b[0m\u001b[0mc\u001b[0m\u001b[1;33m)\u001b[0m\u001b[1;33m\u001b[0m\u001b[1;33m\u001b[0m\u001b[0m\n",
      "\u001b[1;31mZeroDivisionError\u001b[0m: division by zero"
     ]
    }
   ],
   "source": [
    "# Prog to divide two numbers (user based input)  \n",
    "a = int(input(\"Enter the first number:- \"))\n",
    "b = int(input('Enter the first number:-'))\n",
    "c = a/b\n",
    "print(\"Value after division is:- \",c) "
   ]
  },
  {
   "cell_type": "markdown",
   "metadata": {},
   "source": [
    "Thus, to handle the said error, we can use try and except:"
   ]
  },
  {
   "cell_type": "code",
   "execution_count": 21,
   "metadata": {},
   "outputs": [
    {
     "name": "stdout",
     "output_type": "stream",
     "text": [
      "Enter the first number:- 2\n",
      "Enter the first number:-0\n",
      "Error is:-  division by zero . Please correct it.\n"
     ]
    }
   ],
   "source": [
    "try:  \n",
    "    a = int(input(\"Enter the first number:- \"))\n",
    "    b = int(input('Enter the first number:-'))\n",
    "    c = a/b\n",
    "    print(\"Value after division is:- \",c) \n",
    "except (ZeroDivisionError, ArithmeticError, ValueError,) as e:\n",
    "    print(\"Error is:- \",e,\". Please correct it.\")"
   ]
  }
 ],
 "metadata": {
  "kernelspec": {
   "display_name": "Python 3",
   "language": "python",
   "name": "python3"
  },
  "language_info": {
   "codemirror_mode": {
    "name": "ipython",
    "version": 3
   },
   "file_extension": ".py",
   "mimetype": "text/x-python",
   "name": "python",
   "nbconvert_exporter": "python",
   "pygments_lexer": "ipython3",
   "version": "3.8.5"
  }
 },
 "nbformat": 4,
 "nbformat_minor": 4
}
