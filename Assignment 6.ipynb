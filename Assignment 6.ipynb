{
 "cells": [
  {
   "cell_type": "markdown",
   "metadata": {},
   "source": [
    "### Q1: What are escape characters, and how do you use them?\n",
    "\n",
    "#### A1:\n",
    "\n",
    "To insert characters that are illegal in a string, use an escape character.\n",
    "\n",
    "An escape character is a backslash \\ followed by the character you want to insert.\n",
    "\n",
    "Ex:"
   ]
  },
  {
   "cell_type": "code",
   "execution_count": 4,
   "metadata": {},
   "outputs": [
    {
     "ename": "SyntaxError",
     "evalue": "invalid syntax (<ipython-input-4-485014d8dfdf>, line 1)",
     "output_type": "error",
     "traceback": [
      "\u001b[1;36m  File \u001b[1;32m\"<ipython-input-4-485014d8dfdf>\"\u001b[1;36m, line \u001b[1;32m1\u001b[0m\n\u001b[1;33m    txt = \"We are the so-called \"Vikings\" from the north.\"\u001b[0m\n\u001b[1;37m                                 ^\u001b[0m\n\u001b[1;31mSyntaxError\u001b[0m\u001b[1;31m:\u001b[0m invalid syntax\n"
     ]
    }
   ],
   "source": [
    "txt = \"We are the so-called \"Vikings\" from the north.\"\n",
    "print(txt)"
   ]
  },
  {
   "cell_type": "code",
   "execution_count": 7,
   "metadata": {},
   "outputs": [
    {
     "name": "stdout",
     "output_type": "stream",
     "text": [
      "The \"Taj Mahal\" is a great example of human endurance and patience.\n"
     ]
    }
   ],
   "source": [
    "# we correct the SyntaxError by:\n",
    "txt = \"The \\\"Taj Mahal\\\" is a great example of human endurance and patience.\"\n",
    "print(txt)"
   ]
  },
  {
   "cell_type": "markdown",
   "metadata": {},
   "source": [
    "Similarly, there are numerous other codes to perform different tasks:"
   ]
  },
  {
   "cell_type": "code",
   "execution_count": 10,
   "metadata": {},
   "outputs": [
    {
     "name": "stdout",
     "output_type": "stream",
     "text": [
      "It's alright.\n",
      "This will insert one \\ (backslash).\n",
      "Hello\n",
      "World!\n",
      "\n",
      "Hello\tWorld!\n",
      "Hello \bWorld!\n",
      "Hello\n",
      "Hello\n"
     ]
    }
   ],
   "source": [
    "txt = 'It\\'s alright.'\n",
    "print(txt) \n",
    "txt = \"This will insert one \\\\ (backslash).\"\n",
    "print(txt) \n",
    "txt = \"Hello\\nWorld!\\n\"\n",
    "print(txt) \n",
    "txt = \"Hello\\tWorld!\"\n",
    "print(txt) \n",
    "#This example erases one character (backspace):\n",
    "txt = \"Hello \\bWorld!\"\n",
    "print(txt) \n",
    "#A backslash followed by three integers will result in a octal value:\n",
    "txt = \"\\110\\145\\154\\154\\157\"\n",
    "print(txt) \n",
    "#A backslash followed by an 'x' and a hex number represents a hex value:\n",
    "txt = \"\\x48\\x65\\x6c\\x6c\\x6f\"\n",
    "print(txt) "
   ]
  },
  {
   "cell_type": "markdown",
   "metadata": {},
   "source": [
    "### Q2: What do the escape characters n and t stand for?\n",
    "\n",
    "#### A2:\n",
    "\n",
    "1. \\n will naviagte the cursor to the next line.\n",
    "\n",
    "2. \\t is used to provide a space between two words in the same line.\n",
    "\n",
    "Ex:"
   ]
  },
  {
   "cell_type": "code",
   "execution_count": 13,
   "metadata": {},
   "outputs": [
    {
     "name": "stdout",
     "output_type": "stream",
     "text": [
      "Hello World.\n",
      "Changed the line.\n",
      "\n",
      "Hello World.\tProvided the space using tab.\n"
     ]
    }
   ],
   "source": [
    "print(\"Hello World.\\nChanged the line.\")\n",
    "print(\"\\nHello World.\\tProvided the space using tab.\")"
   ]
  },
  {
   "cell_type": "markdown",
   "metadata": {},
   "source": [
    "### Q3: What is the way to include backslash characters in a string?\n",
    "\n",
    "#### A3:\n",
    "\n",
    "We can do so by using \\b (an escape character).\n",
    "\n",
    "Ex:"
   ]
  },
  {
   "cell_type": "code",
   "execution_count": 16,
   "metadata": {},
   "outputs": [
    {
     "name": "stdout",
     "output_type": "stream",
     "text": [
      "Hello \b World!\n"
     ]
    }
   ],
   "source": [
    "txt = \"Hello \\b World!\"\n",
    "print(txt) "
   ]
  },
  {
   "cell_type": "markdown",
   "metadata": {},
   "source": [
    "### Q4: The string \"Howl's Moving Castle\" is a correct value. Why isn't the single quote character in the word Howl's not escaped a problem?\n",
    "\n",
    "#### A4:\n",
    "\n",
    "A string as a sequence of characters not intended to have numeric value. In Python, such sequence of characters is included inside single or double quotes. \n",
    "\n",
    "As far as language syntax is concerned, there is no difference in single or double quoted string. Both representations can be used interchangeably. \n",
    "\n",
    "However, if either single or double quote is a part of the string itself, then the string must be placed in double or single quotes respectively. If this rule is not followed, it gives back an error.\n",
    "\n",
    "Ex:"
   ]
  },
  {
   "cell_type": "code",
   "execution_count": 18,
   "metadata": {},
   "outputs": [
    {
     "name": "stdout",
     "output_type": "stream",
     "text": [
      "Howl's Packers and Movers.\n"
     ]
    }
   ],
   "source": [
    "string = \"Howl's Packers and Movers.\"\n",
    "print(string)"
   ]
  },
  {
   "cell_type": "markdown",
   "metadata": {},
   "source": [
    "### Q5: How do you write a string of newlines if you don't want to use the n character?\n",
    "\n",
    "#### A5:\n",
    "\n",
    "In Python, print() will add a \\n on it's own.\n",
    "\n",
    "Ex:"
   ]
  },
  {
   "cell_type": "code",
   "execution_count": 23,
   "metadata": {},
   "outputs": [
    {
     "name": "stdout",
     "output_type": "stream",
     "text": [
      "Cursor changed to the next line.\n",
      "Cursor changed to the next line.\n",
      "Cursor changed to the next line.\n",
      "Cursor changed to the next line.\n",
      "Cursor changed to the next line.\n"
     ]
    }
   ],
   "source": [
    "for i in range(5): print('Cursor changed to the next line.')"
   ]
  },
  {
   "cell_type": "markdown",
   "metadata": {},
   "source": [
    "### Q6: What are the values of the given expressions?\n",
    "\n",
    "#### A6:\n",
    "\n",
    "a. 'Hello, world!'[1]"
   ]
  },
  {
   "cell_type": "code",
   "execution_count": 9,
   "metadata": {},
   "outputs": [
    {
     "name": "stdout",
     "output_type": "stream",
     "text": [
      "e\n"
     ]
    }
   ],
   "source": [
    "# prints the second element in the string \n",
    "a = 'Hello, world!'[1]\n",
    "print(a)"
   ]
  },
  {
   "cell_type": "markdown",
   "metadata": {},
   "source": [
    "b. 'Hello, world!'[0:5]"
   ]
  },
  {
   "cell_type": "code",
   "execution_count": 14,
   "metadata": {},
   "outputs": [
    {
     "name": "stdout",
     "output_type": "stream",
     "text": [
      "Hello\n"
     ]
    }
   ],
   "source": [
    "# prints the range (1st and the 5th) element in the string:\n",
    "b = 'Hello, world!'[0:5]\n",
    "print(b)"
   ]
  },
  {
   "cell_type": "markdown",
   "metadata": {},
   "source": [
    "c. 'Hello, world!'[:5]"
   ]
  },
  {
   "cell_type": "code",
   "execution_count": 13,
   "metadata": {},
   "outputs": [
    {
     "name": "stdout",
     "output_type": "stream",
     "text": [
      "Hello\n"
     ]
    }
   ],
   "source": [
    "# prints upto the 5th element in the string:\n",
    "c = 'Hello, world!'[:5]\n",
    "print(c)"
   ]
  },
  {
   "cell_type": "markdown",
   "metadata": {},
   "source": [
    "d. 'Hello, world!'[3:]"
   ]
  },
  {
   "cell_type": "code",
   "execution_count": 12,
   "metadata": {},
   "outputs": [
    {
     "name": "stdout",
     "output_type": "stream",
     "text": [
      "lo, world!\n"
     ]
    }
   ],
   "source": [
    "# prints from the 4rth element in the string:\n",
    "d = 'Hello, world!'[3:]\n",
    "print(d)"
   ]
  },
  {
   "cell_type": "markdown",
   "metadata": {},
   "source": [
    "### Q7: What are the values of the following expressions?\n",
    "\n",
    "#### A7:\n",
    "\n",
    "a. 'Hello'.upper()"
   ]
  },
  {
   "cell_type": "code",
   "execution_count": 17,
   "metadata": {},
   "outputs": [
    {
     "name": "stdout",
     "output_type": "stream",
     "text": [
      "HELLO\n"
     ]
    }
   ],
   "source": [
    "print('Hello'.upper()) # coverts the string into an upper case string."
   ]
  },
  {
   "cell_type": "markdown",
   "metadata": {},
   "source": [
    "b. 'Hello'.upper().isupper()"
   ]
  },
  {
   "cell_type": "code",
   "execution_count": 21,
   "metadata": {},
   "outputs": [
    {
     "name": "stdout",
     "output_type": "stream",
     "text": [
      "True\n"
     ]
    }
   ],
   "source": [
    "print('Hello'.upper().isupper()) # first the string is converted into an uppercase string and then checked if it is in uppercase"
   ]
  },
  {
   "cell_type": "markdown",
   "metadata": {},
   "source": [
    "c. 'Hello'.upper().lower()"
   ]
  },
  {
   "cell_type": "code",
   "execution_count": 20,
   "metadata": {},
   "outputs": [
    {
     "name": "stdout",
     "output_type": "stream",
     "text": [
      "hello\n"
     ]
    }
   ],
   "source": [
    "print('Hello'.upper().lower())# first the string is converted into an uppercase string and then into a lowercase string."
   ]
  },
  {
   "cell_type": "markdown",
   "metadata": {},
   "source": [
    "### Q8: What are the values of the following expressions?\n",
    "\n",
    "#### A8:\n",
    "\n",
    "a. 'Remember, remember, the fifth of July.'.split()"
   ]
  },
  {
   "cell_type": "code",
   "execution_count": 30,
   "metadata": {},
   "outputs": [
    {
     "name": "stdout",
     "output_type": "stream",
     "text": [
      "['Remember,', 'remember,', 'the', 'fifth', 'of', 'July.']\n"
     ]
    }
   ],
   "source": [
    "print('Remember, remember, the fifth of July.'.split()) # splits a sentence and saves it as the elements in a list"
   ]
  },
  {
   "cell_type": "code",
   "execution_count": 32,
   "metadata": {},
   "outputs": [
    {
     "name": "stdout",
     "output_type": "stream",
     "text": [
      "There-can-only-one.\n"
     ]
    }
   ],
   "source": [
    "print('-'.join('There can only one.'.split())) #The string is joined by '-' character."
   ]
  },
  {
   "cell_type": "markdown",
   "metadata": {},
   "source": [
    "### Q9: What are the methods for right-justifying, left-justifying, and centering a string?\n",
    "\n",
    "#### A9:\n",
    "\n",
    "a. center(): This function center aligns the string according to the width specified and fills remaining space of line with blank space if the 'fillchr' argument is not passed.\n",
    "\n",
    "b. ljust(): This function left aligns the string according to the width specified and fills remaining space of line with blank space if the 'fillchr' argument is not passed.\n",
    "\n",
    "c. rjust()\n",
    "This function right aligns the string according to the width specified and fills remaining space of line with blank space if the 'fillchr' argument is not passed.\n",
    "\n",
    "Ex:\n",
    "\n",
    "with no fillchr argument passed:"
   ]
  },
  {
   "cell_type": "code",
   "execution_count": 60,
   "metadata": {},
   "outputs": [
    {
     "name": "stdout",
     "output_type": "stream",
     "text": [
      "***Hello               ***\n",
      "***       Hello        ***\n",
      "***               Hello***\n"
     ]
    }
   ],
   "source": [
    "s = 'Hello'\n",
    "s1 = s.ljust(20)\n",
    "print(f'***{s1}***')\n",
    "s1 = s.center(20) \n",
    "print(f'***{s1}***')\n",
    "s1 = s.rjust(20) \n",
    "print(f'***{s1}***')"
   ]
  },
  {
   "cell_type": "markdown",
   "metadata": {},
   "source": [
    "upon passing the fillchr argument:"
   ]
  },
  {
   "cell_type": "code",
   "execution_count": 59,
   "metadata": {},
   "outputs": [
    {
     "name": "stdout",
     "output_type": "stream",
     "text": [
      "***Hello^^^^^^^^^^^^^^^***\n",
      "***^^^^^^^Hello^^^^^^^^***\n",
      "***^^^^^^^^^^^^^^^Hello***\n"
     ]
    }
   ],
   "source": [
    "s = 'Hello'\n",
    "s1 = s.ljust(20,\"^\") \n",
    "print(f'***{s1}***')\n",
    "s1 = s.center(20,\"^\") # fillchr argument is passed\n",
    "print(f'***{s1}***')\n",
    "s1 = s.rjust(20,\"^\") # fillchr argument is passed\n",
    "print(f'***{s1}***')"
   ]
  },
  {
   "cell_type": "markdown",
   "metadata": {},
   "source": [
    "### Q10: What is the best way to remove whitespace characters from the start or end?\n",
    "\n",
    "#### A10:\n",
    "\n",
    "You can call the strip() method on the string to remove whitespace from the beginning and the end.\n",
    "\n",
    "Ex:"
   ]
  },
  {
   "cell_type": "code",
   "execution_count": 70,
   "metadata": {},
   "outputs": [
    {
     "name": "stdout",
     "output_type": "stream",
     "text": [
      "String without removing the whitespace:      Hello there!     \n",
      "\n",
      "String without removing the whitespace: Hello there!\n"
     ]
    }
   ],
   "source": [
    "hello = '     Hello there!    '\n",
    "print(\"String without removing the whitespace:\",hello,\"\\n\")\n",
    "print(\"String without removing the whitespace:\",hello.strip())"
   ]
  }
 ],
 "metadata": {
  "kernelspec": {
   "display_name": "Python 3",
   "language": "python",
   "name": "python3"
  },
  "language_info": {
   "codemirror_mode": {
    "name": "ipython",
    "version": 3
   },
   "file_extension": ".py",
   "mimetype": "text/x-python",
   "name": "python",
   "nbconvert_exporter": "python",
   "pygments_lexer": "ipython3",
   "version": "3.8.5"
  }
 },
 "nbformat": 4,
 "nbformat_minor": 4
}
