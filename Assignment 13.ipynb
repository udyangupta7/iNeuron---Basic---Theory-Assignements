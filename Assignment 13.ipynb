{
 "cells": [
  {
   "cell_type": "markdown",
   "id": "b34608b0",
   "metadata": {},
   "source": [
    "# Assignment 13:\n",
    "\n",
    "#### Q1: What advantages do Excel spreadsheets have over CSV spreadsheets?\n",
    "\n",
    "#### A1:\n",
    "\n",
    "Excel is a binary file that holds information about all the worksheets in a workbook while CSV stands for Comma Separated Values. It is a plain text format with a series of values separated by commas.\n",
    "\n",
    "The major differences are:\n",
    "\n",
    "1. CSV is a format for saving tabular information into a delimited text file with extension .csv whereas Excel is a spreadsheet that keeps files into its own proprietary format viz xls or xlsx, implying it is easier and more versatile to work with.\n",
    "\n",
    "\n",
    "2. CSV is a plain text format with a series of values separated by commas whereas Excel is a binary file that holds information about all the worksheets in a workbook.\n",
    "\n",
    "\n",
    "3. CSV file can’t perform operations on data while Excel can perform operations on the data.\n",
    "\n",
    "\n",
    "4. CSV files are faster and also consumes less memory whereas Excel consumes more memory while importing data.\n",
    "\n",
    "\n",
    "5. CSV files can be opened with any text editor in windows while Excel files can’t be opened with text editors."
   ]
  },
  {
   "cell_type": "markdown",
   "id": "6c8f176d",
   "metadata": {},
   "source": [
    "#### Q2: What do you pass to csv.reader() and csv.writer() to create reader and writer objects?\n",
    "\n",
    "#### A2:\n",
    "\n",
    "1. csv.reader(): Reading from a CSV file is done using the reader object function. \n",
    "\n",
    "Ex:"
   ]
  },
  {
   "cell_type": "code",
   "execution_count": 23,
   "id": "28af2b76",
   "metadata": {
    "scrolled": false
   },
   "outputs": [
    {
     "name": "stdout",
     "output_type": "stream",
     "text": [
      "['person_ID', 'name', 'first', 'last', 'middle', 'email', 'phone', 'fax', 'title'] \n",
      "\n",
      "['3130', 'Burks, Rosella ', 'Rosella', 'Burks', '', 'BurksR@univ.edu', '963.555.1253', '963.777.4065', 'Professor '] \n",
      "\n",
      "['3297', 'Avila, Damien ', 'Damien', 'Avila', '', 'AvilaD@univ.edu', '963.555.1352', '963.777.7914', 'Professor '] \n",
      "\n",
      "['3547', 'Olsen, Robin ', 'Robin', 'Olsen', '', 'OlsenR@univ.edu', '963.555.1378', '963.777.9262', 'Assistant Professor'] \n",
      "\n",
      "['1538', 'Moises, Edgar Estes', 'Edgar', 'Moises', 'Estes', 'MoisesE@univ.edu', '963.555.2731x3565', '963.777.8264', 'Professor'] \n",
      "\n"
     ]
    }
   ],
   "source": [
    "x = 0\n",
    "import csv\n",
    "with open('people.csv', 'r') as file:\n",
    "    reader = csv.reader(file)\n",
    "    for row in reader:\n",
    "        print(row,\"\\n\")\n",
    "        x+=1\n",
    "        if x == 5:break\n",
    "        else: continue"
   ]
  },
  {
   "cell_type": "markdown",
   "id": "749c2fe4",
   "metadata": {},
   "source": [
    "2. csv.writer(): The csv.writer() function returns a writer object that converts the user's data into a delimited string. \n",
    "\n",
    "Ex:"
   ]
  },
  {
   "cell_type": "code",
   "execution_count": 26,
   "id": "d6a4e001",
   "metadata": {},
   "outputs": [
    {
     "data": {
      "text/html": [
       "<div>\n",
       "<style scoped>\n",
       "    .dataframe tbody tr th:only-of-type {\n",
       "        vertical-align: middle;\n",
       "    }\n",
       "\n",
       "    .dataframe tbody tr th {\n",
       "        vertical-align: top;\n",
       "    }\n",
       "\n",
       "    .dataframe thead th {\n",
       "        text-align: right;\n",
       "    }\n",
       "</style>\n",
       "<table border=\"1\" class=\"dataframe\">\n",
       "  <thead>\n",
       "    <tr style=\"text-align: right;\">\n",
       "      <th></th>\n",
       "      <th>SN</th>\n",
       "      <th>Movie</th>\n",
       "      <th>Protagonist</th>\n",
       "    </tr>\n",
       "  </thead>\n",
       "  <tbody>\n",
       "    <tr>\n",
       "      <th>0</th>\n",
       "      <td>1</td>\n",
       "      <td>Lord of the Rings</td>\n",
       "      <td>Frodo Baggins</td>\n",
       "    </tr>\n",
       "    <tr>\n",
       "      <th>1</th>\n",
       "      <td>2</td>\n",
       "      <td>Harry Potter</td>\n",
       "      <td>Harry Potter</td>\n",
       "    </tr>\n",
       "  </tbody>\n",
       "</table>\n",
       "</div>"
      ],
      "text/plain": [
       "   SN              Movie    Protagonist\n",
       "0   1  Lord of the Rings  Frodo Baggins\n",
       "1   2       Harry Potter   Harry Potter"
      ]
     },
     "execution_count": 26,
     "metadata": {},
     "output_type": "execute_result"
    }
   ],
   "source": [
    "import csv\n",
    "with open('people.csv', 'w', newline='') as file: # replaces the entire content of the file with the 2 datasets\n",
    "    writer = csv.writer(file)\n",
    "    writer.writerow([\"SN\", \"Movie\", \"Protagonist\"])\n",
    "    writer.writerow([1, \"Lord of the Rings\", \"Frodo Baggins\"])\n",
    "    writer.writerow([2, \"Harry Potter\", \"Harry Potter\"])\n",
    "df = pd.read_csv('people.csv') # printing the file to see the changes\n",
    "df"
   ]
  },
  {
   "cell_type": "markdown",
   "id": "28a83416",
   "metadata": {},
   "source": [
    "#### Q3: What modes do File objects for reader and writer objects need to be opened in?\n",
    "\n",
    "#### A4:\n",
    "\n",
    "Giving second argument to the open() function is optional which is the mode. \n",
    "\n",
    "##### We can specify the mode while opening a file, i.e. whether we want to read ‘r’, write ‘w’ or append ‘a’ to the file. \n",
    "\n",
    "We can also specify if we want to open the file in text mode or binary mode. The default mode is text mode where we get strings when reading from the file."
   ]
  },
  {
   "cell_type": "markdown",
   "id": "f1f1ccb0",
   "metadata": {},
   "source": [
    "#### Q4: What method takes a list argument and writes it to a CSV file?\n",
    "\n",
    "#### A4: \n",
    "\n",
    "Here, lets suppose that the student.csv is the name of the file and the “w” mode is used to write the file. To write the list to the CSV file write = csv.writer(f), to write each row of the list to csv file writer.writerow() is used.\n",
    "\n",
    "Ex:"
   ]
  },
  {
   "cell_type": "code",
   "execution_count": 34,
   "id": "c3f7ebe7",
   "metadata": {},
   "outputs": [
    {
     "data": {
      "text/html": [
       "<div>\n",
       "<style scoped>\n",
       "    .dataframe tbody tr th:only-of-type {\n",
       "        vertical-align: middle;\n",
       "    }\n",
       "\n",
       "    .dataframe tbody tr th {\n",
       "        vertical-align: top;\n",
       "    }\n",
       "\n",
       "    .dataframe thead th {\n",
       "        text-align: right;\n",
       "    }\n",
       "</style>\n",
       "<table border=\"1\" class=\"dataframe\">\n",
       "  <thead>\n",
       "    <tr style=\"text-align: right;\">\n",
       "      <th></th>\n",
       "      <th>Name</th>\n",
       "      <th>College Year</th>\n",
       "      <th>Year of Graduation</th>\n",
       "      <th>Subjects</th>\n",
       "    </tr>\n",
       "  </thead>\n",
       "  <tbody>\n",
       "    <tr>\n",
       "      <th>0</th>\n",
       "      <td>Aaron</td>\n",
       "      <td>2nd</td>\n",
       "      <td>2023</td>\n",
       "      <td>Astrological Physics</td>\n",
       "    </tr>\n",
       "    <tr>\n",
       "      <th>1</th>\n",
       "      <td>Johnny</td>\n",
       "      <td>3rd</td>\n",
       "      <td>2022</td>\n",
       "      <td>Stats &amp; Mathematics</td>\n",
       "    </tr>\n",
       "    <tr>\n",
       "      <th>2</th>\n",
       "      <td>Alan</td>\n",
       "      <td>4th</td>\n",
       "      <td>2021</td>\n",
       "      <td>Rocket Engineering</td>\n",
       "    </tr>\n",
       "  </tbody>\n",
       "</table>\n",
       "</div>"
      ],
      "text/plain": [
       "     Name College Year  Year of Graduation              Subjects\n",
       "0   Aaron          2nd                2023  Astrological Physics\n",
       "1  Johnny          3rd                2022   Stats & Mathematics\n",
       "2    Alan          4th                2021    Rocket Engineering"
      ]
     },
     "execution_count": 34,
     "metadata": {},
     "output_type": "execute_result"
    }
   ],
   "source": [
    "import csv \n",
    "Details = ['Name', 'College Year', 'Year of Graduation', 'Subjects']  \n",
    "rows = [ ['Aaron', '2nd', '2023', 'Astrological Physics'],  ['Johnny', '3rd', '2022', 'Stats & Mathematics'],  ['Alan', '4th', '2021', 'Rocket Engineering']] \n",
    "with open('student.csv', 'w') as f: \n",
    "    write = csv.writer(f) \n",
    "    write.writerow(Details) \n",
    "    write.writerows(rows) \n",
    "    \n",
    "l = pd.read_csv('student.csv')\n",
    "l"
   ]
  },
  {
   "cell_type": "markdown",
   "id": "239e9e96",
   "metadata": {},
   "source": [
    "#### Q5: What do the keyword arguments delimiter and line terminator do?\n",
    "\n",
    "#### A5:\n",
    "\n",
    "The line terminator is the character that comes at the end of a row. By default, the line terminator is a newline. You can change characters to different values by using the delimiter and lineterminator keyword arguments with csv. writer()."
   ]
  },
  {
   "cell_type": "markdown",
   "id": "c65ad19e",
   "metadata": {},
   "source": [
    "#### Q6: What function takes a string of JSON data and returns a Python data structure?\n",
    "\n",
    "#### A6:\n",
    "\n",
    "JSON is written as key and value pair. JSON is very similar to Python dictionary. Python supports JSON, and it has an inbuilt library, called JSON.\n",
    "\n",
    "Ex:\n",
    "\n",
    "{\"Key\":\"Value\", \"Key\":\"Value\",} \n",
    "\n",
    "The encode() function is same as JSON dumping the Python method returning a JSON string of Python data structure."
   ]
  },
  {
   "cell_type": "markdown",
   "id": "bc673540",
   "metadata": {},
   "source": [
    "#### Q7: What function takes a Python data structure and returns a string of JSON data?\n",
    "\n",
    "#### A7:\n",
    "\n",
    "the loads() function returns the Python data structure of JSON string or data."
   ]
  }
 ],
 "metadata": {
  "kernelspec": {
   "display_name": "Python 3",
   "language": "python",
   "name": "python3"
  },
  "language_info": {
   "codemirror_mode": {
    "name": "ipython",
    "version": 3
   },
   "file_extension": ".py",
   "mimetype": "text/x-python",
   "name": "python",
   "nbconvert_exporter": "python",
   "pygments_lexer": "ipython3",
   "version": "3.8.8"
  }
 },
 "nbformat": 4,
 "nbformat_minor": 5
}
