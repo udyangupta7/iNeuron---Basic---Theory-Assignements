{
 "cells": [
  {
   "cell_type": "markdown",
   "id": "73c7f58c",
   "metadata": {},
   "source": [
    "#### Q1: 1. Set the variable test1 to the string 'This is a test of the emergency text system,' and save test1 to a file named test.txt.\n",
    "\n",
    "#### A1:"
   ]
  },
  {
   "cell_type": "code",
   "execution_count": 1,
   "id": "c592c639",
   "metadata": {},
   "outputs": [],
   "source": [
    "import os\n",
    "test1 = 'This is a test of the emergency text system'\n",
    "file = open('test.txt', 'w')\n",
    "file.write(test1)\n",
    "file.close()"
   ]
  },
  {
   "cell_type": "markdown",
   "id": "92b0f79f",
   "metadata": {},
   "source": [
    "#### Q2: 2. Read the contents of the file test.txt into the variable test2. Is there a difference between test 1 and test 2?\n",
    "\n",
    "#### A2:"
   ]
  },
  {
   "cell_type": "code",
   "execution_count": 2,
   "id": "125d4e1d",
   "metadata": {},
   "outputs": [
    {
     "name": "stdout",
     "output_type": "stream",
     "text": [
      "This is a test of the emergency text system\n",
      "This is a test of the emergency text system\n"
     ]
    }
   ],
   "source": [
    "test2 = open('test.txt','r')\n",
    "for i in test2: print(i)\n",
    "print(test1)"
   ]
  },
  {
   "cell_type": "markdown",
   "id": "d3ebb159",
   "metadata": {},
   "source": [
    "There is no change between 'test1' and 'test2'."
   ]
  },
  {
   "cell_type": "markdown",
   "id": "78bea449",
   "metadata": {},
   "source": [
    "#### Q3: Create a CSV file called books.csv by using these lines:\n",
    "title,author,year\n",
    "The Weirdstone of Brisingamen,Alan Garner,1960\n",
    "Perdido Street Station,China Miéville,2000\n",
    "Thud!,Terry Pratchett,2005\n",
    "The Spellman Files,Lisa Lutz,2007\n",
    "Small Gods,Terry Pratchett,1992\n",
    "\n",
    "#### A3:"
   ]
  },
  {
   "cell_type": "code",
   "execution_count": 3,
   "id": "1d8d69d4",
   "metadata": {},
   "outputs": [
    {
     "name": "stdout",
     "output_type": "stream",
     "text": [
      "\n",
      "\n",
      "title,author,year\n",
      "\n",
      "\n",
      "\n",
      "The Weirdstone of Brisingamen,Alan Garner,1960\n",
      "\n",
      "\n",
      "\n",
      "Perdido Street Station,China Miéville,2000\n",
      "\n",
      "\n",
      "\n",
      "Thud!,Terry Pratchett,2005\n",
      "\n",
      "\n",
      "\n",
      "The Spellman Files,Lisa Lutz,2007\n",
      "\n",
      "\n",
      "\n",
      "Small Gods,Terry Pratchett,1992\n",
      "\n"
     ]
    }
   ],
   "source": [
    "string=\"\"\"\n",
    "title,author,year\\n\n",
    "The Weirdstone of Brisingamen,Alan Garner,1960\\n\n",
    "Perdido Street Station,China Miéville,2000\\n\n",
    "Thud!,Terry Pratchett,2005\\n\n",
    "The Spellman Files,Lisa Lutz,2007\\n\n",
    "Small Gods,Terry Pratchett,1992\n",
    "\"\"\"\n",
    "import os\n",
    "file = open('book.csv', 'w')\n",
    "file.write(string)\n",
    "file.close()\n",
    "file = open(\"book.csv\",'r')\n",
    "for i in file: print(i)"
   ]
  },
  {
   "cell_type": "markdown",
   "id": "ebc07bd4",
   "metadata": {},
   "source": [
    "#### Q4: Use the sqlite3 module to create a SQLite database called books.db, and a table called books with these fields: title (text), author (text), and year (integer).\n",
    "\n",
    "#### A4:"
   ]
  },
  {
   "cell_type": "code",
   "execution_count": 4,
   "id": "d7505006",
   "metadata": {},
   "outputs": [
    {
     "ename": "OperationalError",
     "evalue": "table books already exists",
     "output_type": "error",
     "traceback": [
      "\u001b[0;31m---------------------------------------------------------------------------\u001b[0m",
      "\u001b[0;31mOperationalError\u001b[0m                          Traceback (most recent call last)",
      "\u001b[0;32m<ipython-input-4-4e783e5df49e>\u001b[0m in \u001b[0;36m<module>\u001b[0;34m\u001b[0m\n\u001b[1;32m      2\u001b[0m \u001b[0mcon\u001b[0m \u001b[0;34m=\u001b[0m \u001b[0msqlite3\u001b[0m\u001b[0;34m.\u001b[0m\u001b[0mconnect\u001b[0m\u001b[0;34m(\u001b[0m\u001b[0;34m'example.db'\u001b[0m\u001b[0;34m)\u001b[0m\u001b[0;34m\u001b[0m\u001b[0;34m\u001b[0m\u001b[0m\n\u001b[1;32m      3\u001b[0m \u001b[0mcur\u001b[0m \u001b[0;34m=\u001b[0m \u001b[0mcon\u001b[0m\u001b[0;34m.\u001b[0m\u001b[0mcursor\u001b[0m\u001b[0;34m(\u001b[0m\u001b[0;34m)\u001b[0m\u001b[0;34m\u001b[0m\u001b[0;34m\u001b[0m\u001b[0m\n\u001b[0;32m----> 4\u001b[0;31m \u001b[0mcur\u001b[0m\u001b[0;34m.\u001b[0m\u001b[0mexecute\u001b[0m\u001b[0;34m(\u001b[0m\u001b[0;34m'CREATE TABLE books (title text, author text, year int)'\u001b[0m\u001b[0;34m)\u001b[0m\u001b[0;34m\u001b[0m\u001b[0;34m\u001b[0m\u001b[0m\n\u001b[0m\u001b[1;32m      5\u001b[0m \u001b[0mcur\u001b[0m\u001b[0;34m.\u001b[0m\u001b[0mcommit\u001b[0m\u001b[0;34m(\u001b[0m\u001b[0;34m)\u001b[0m\u001b[0;34m\u001b[0m\u001b[0;34m\u001b[0m\u001b[0m\n",
      "\u001b[0;31mOperationalError\u001b[0m: table books already exists"
     ]
    }
   ],
   "source": [
    "import sqlite3\n",
    "con = sqlite3.connect('example.db')\n",
    "cur = con.cursor()\n",
    "cur.execute('CREATE TABLE books (title text, author text, year int)')\n",
    "cur.commit()"
   ]
  },
  {
   "cell_type": "markdown",
   "id": "14451cd0",
   "metadata": {},
   "source": [
    "#### Q5: Read books.csv and insert its data into the book table.\n",
    "\n",
    "#### A5:"
   ]
  },
  {
   "cell_type": "code",
   "execution_count": 5,
   "id": "871f8883",
   "metadata": {},
   "outputs": [
    {
     "data": {
      "text/plain": [
       "<sqlite3.Cursor at 0x7fb356f837a0>"
      ]
     },
     "execution_count": 5,
     "metadata": {},
     "output_type": "execute_result"
    }
   ],
   "source": [
    "cur.execute(\"INSERT INTO books VALUES ('50 Shades Of Grey','EL James',2008)\")\n",
    "cur.execute(\"INSERT INTO books VALUES ('Hello Girl','Emily Dickinson',1783)\")\n",
    "cur.execute(\"INSERT INTO books VALUES ('Into The Darkness','R Stien',2000)\")\n",
    "cur.execute(\"INSERT INTO books VALUES ('Poision Ivy and the adeventures of one Harleene Quinnzel','James Ballerina',2015)\")"
   ]
  },
  {
   "cell_type": "markdown",
   "id": "aafd98b0",
   "metadata": {},
   "source": [
    "#### Q6: Select and print the title column from the book table in alphabetical order.\n",
    "\n",
    "#### A6:"
   ]
  },
  {
   "cell_type": "code",
   "execution_count": 6,
   "id": "08b6e8ce",
   "metadata": {},
   "outputs": [
    {
     "name": "stdout",
     "output_type": "stream",
     "text": [
      "('50 Shades Of Grey', 'EL James', 2008)\n",
      "('Hello Girl', 'Emily Dickinson', 1783)\n",
      "('Into The Darkness', 'R Stien', 2000)\n",
      "('Poision Ivy and the adeventures of one Harleene Quinnzel', 'James Ballerina', 2015)\n"
     ]
    }
   ],
   "source": [
    "for row in cur.execute('SELECT * FROM books ORDER BY title'):print(row)"
   ]
  },
  {
   "cell_type": "markdown",
   "id": "9b361b71",
   "metadata": {},
   "source": [
    "#### Q7: From the book table, select and print all columns in the order of publication.\n",
    "\n",
    "#### A7:"
   ]
  },
  {
   "cell_type": "code",
   "execution_count": 7,
   "id": "1243a8cf",
   "metadata": {},
   "outputs": [
    {
     "name": "stdout",
     "output_type": "stream",
     "text": [
      "('Hello Girl', 'Emily Dickinson', 1783)\n",
      "('Into The Darkness', 'R Stien', 2000)\n",
      "('50 Shades Of Grey', 'EL James', 2008)\n",
      "('Poision Ivy and the adeventures of one Harleene Quinnzel', 'James Ballerina', 2015)\n"
     ]
    }
   ],
   "source": [
    "for row in cur.execute('SELECT * FROM books ORDER BY year'):print(row)"
   ]
  },
  {
   "cell_type": "markdown",
   "id": "bedf0e14",
   "metadata": {},
   "source": [
    "#### Q8: Use the sqlalchemy module to connect to the sqlite3 database books.db that you just made in exercise 6.\n",
    "\n",
    "#### A8:"
   ]
  },
  {
   "cell_type": "code",
   "execution_count": 8,
   "id": "e702a552",
   "metadata": {},
   "outputs": [
    {
     "name": "stdout",
     "output_type": "stream",
     "text": [
      "Opened database successfully\n"
     ]
    }
   ],
   "source": [
    "import sqlite3\n",
    "conn = sqlite3.connect('my_database.sqlite')\n",
    "cursor = conn.cursor()\n",
    "print(\"Opened database successfully\")\n"
   ]
  },
  {
   "cell_type": "markdown",
   "id": "0383d202",
   "metadata": {},
   "source": [
    "#### Q9: Install the Redis server and the Python redis library (pip install redis) on your computer. Create a Redis hash called test with the fields count (1) and name ('Fester Bestertester'). Print all the fields for test.\n",
    "\n",
    "#### A9:"
   ]
  },
  {
   "cell_type": "code",
   "execution_count": 14,
   "id": "6bbc5201",
   "metadata": {},
   "outputs": [
    {
     "ename": "ModuleNotFoundError",
     "evalue": "No module named 'redis'",
     "output_type": "error",
     "traceback": [
      "\u001b[0;31m---------------------------------------------------------------------------\u001b[0m",
      "\u001b[0;31mModuleNotFoundError\u001b[0m                       Traceback (most recent call last)",
      "\u001b[0;32m<ipython-input-14-74a92cbd7822>\u001b[0m in \u001b[0;36m<module>\u001b[0;34m\u001b[0m\n\u001b[0;32m----> 1\u001b[0;31m \u001b[0;32mimport\u001b[0m \u001b[0mredis\u001b[0m\u001b[0;34m\u001b[0m\u001b[0;34m\u001b[0m\u001b[0m\n\u001b[0m\u001b[1;32m      2\u001b[0m \u001b[0;32mimport\u001b[0m \u001b[0mpyodbc\u001b[0m\u001b[0;34m\u001b[0m\u001b[0;34m\u001b[0m\u001b[0m\n\u001b[1;32m      3\u001b[0m \u001b[0;32mimport\u001b[0m \u001b[0msqlalchemy\u001b[0m \u001b[0;32mas\u001b[0m \u001b[0msal\u001b[0m\u001b[0;34m\u001b[0m\u001b[0;34m\u001b[0m\u001b[0m\n\u001b[1;32m      4\u001b[0m \u001b[0;32mfrom\u001b[0m \u001b[0msqlalchemy\u001b[0m \u001b[0;32mimport\u001b[0m \u001b[0mcreate_engine\u001b[0m\u001b[0;34m\u001b[0m\u001b[0;34m\u001b[0m\u001b[0m\n\u001b[1;32m      5\u001b[0m \u001b[0;32mimport\u001b[0m \u001b[0mpandas\u001b[0m \u001b[0;32mas\u001b[0m \u001b[0mpd\u001b[0m\u001b[0;34m\u001b[0m\u001b[0;34m\u001b[0m\u001b[0m\n",
      "\u001b[0;31mModuleNotFoundError\u001b[0m: No module named 'redis'"
     ]
    }
   ],
   "source": [
    "import redis\n",
    "import pyodbc\n",
    "import sqlalchemy as sal\n",
    "from sqlalchemy import create_engine\n",
    "import pandas as pd\n",
    "r_conn = redis.Redis( host='localhost', port=6379)\n",
    "r_conn.set('name', 'amalgjose')\n",
    "value = r_conn.get('name')\n",
    "print(\"Value from Redis -->\", value)"
   ]
  },
  {
   "cell_type": "markdown",
   "id": "b93be890",
   "metadata": {},
   "source": [
    "#### Q10: Increment the count field of test and print it.\n",
    "\n",
    "#### A10:"
   ]
  },
  {
   "cell_type": "code",
   "execution_count": null,
   "id": "af51f300",
   "metadata": {},
   "outputs": [],
   "source": []
  }
 ],
 "metadata": {
  "kernelspec": {
   "display_name": "Python 3",
   "language": "python",
   "name": "python3"
  },
  "language_info": {
   "codemirror_mode": {
    "name": "ipython",
    "version": 3
   },
   "file_extension": ".py",
   "mimetype": "text/x-python",
   "name": "python",
   "nbconvert_exporter": "python",
   "pygments_lexer": "ipython3",
   "version": "3.8.8"
  }
 },
 "nbformat": 4,
 "nbformat_minor": 5
}
