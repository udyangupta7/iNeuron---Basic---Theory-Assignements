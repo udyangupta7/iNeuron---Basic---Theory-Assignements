{
 "cells": [
  {
   "cell_type": "markdown",
   "metadata": {},
   "source": [
    "# Q1: What are the two values of the Boolean data type? How do you write them?\n",
    "A1:"
   ]
  },
  {
   "cell_type": "markdown",
   "metadata": {},
   "source": [
    "A boolean expression is a logical statement that returns either TRUE or FALSE, the two values of boolean data type. Boolean expressions can compare data of any type as long as both parts of the expression have the same basic data type.\n",
    "The two values of Boolean data types are:\n",
    "    a. True: \n",
    "            If any expression is True, it returns a one (1).\n",
    "    b. False:\n",
    "            If any expression is False, it returns a zero (0).\n",
    "\n",
    "You can test data to see if it is equal to, greater than, or less than other data.\n",
    "\n",
    "Ex:"
   ]
  },
  {
   "cell_type": "code",
   "execution_count": 4,
   "metadata": {},
   "outputs": [
    {
     "name": "stdout",
     "output_type": "stream",
     "text": [
      "False\n",
      "True\n",
      "True\n"
     ]
    }
   ],
   "source": [
    "print(1 > 2)\n",
    "print(2 == 2)\n",
    "print(2 < 3)"
   ]
  },
  {
   "cell_type": "markdown",
   "metadata": {},
   "source": [
    "# Q2. What are the three different types of Boolean operators?\n",
    "\n",
    "A2:"
   ]
  },
  {
   "cell_type": "markdown",
   "metadata": {},
   "source": [
    "The three different boolean operators are:\n",
    "\n",
    "    a. AND:\n",
    "           It searches find all of the search terms.  For example, searching on dengue AND malaria AND zika  returns only results that contain all three search terms. Returns very limited results.\n",
    "    \n",
    "   \n",
    "   Ex:"
   ]
  },
  {
   "cell_type": "code",
   "execution_count": 6,
   "metadata": {},
   "outputs": [
    {
     "name": "stdout",
     "output_type": "stream",
     "text": [
      "Enter the first number: 1\n",
      "Enter the second number: 2\n",
      "Enter the third number: 3\n",
      "The third number is the biggest between 1 , 2 and 3\n"
     ]
    }
   ],
   "source": [
    "a = int(input(\"Enter the first number: \"))\n",
    "b = int(input(\"Enter the second number: \"))\n",
    "c = int(input(\"Enter the third number: \"))\n",
    "\n",
    "if a>b and a>c:\n",
    "    print(\"The first number is the biggest between\",a,\",\",b,\"and\",c)\n",
    "elif b>c and b>a:\n",
    "    print(\"The second number is the biggest between\",a,\",\",b,\"and\",c)\n",
    "else:\n",
    "    print(\"The third number is the biggest between\",a,\",\",b,\"and\",c)"
   ]
  },
  {
   "cell_type": "markdown",
   "metadata": {},
   "source": [
    "     b. OR: It searches find one term or the other.  Searching on dengue OR malaria OR zika returns all items that contain any of the three search terms. Returns a large number of results.\n",
    "    \n",
    " \n",
    " Ex:"
   ]
  },
  {
   "cell_type": "code",
   "execution_count": 7,
   "metadata": {},
   "outputs": [
    {
     "name": "stdout",
     "output_type": "stream",
     "text": [
      "Enter the your salary: 4500\n",
      "Enter the your credit score (below 900): 800\n",
      "You can apply for a new Credit Card.\n"
     ]
    }
   ],
   "source": [
    "a = float(input(\"Enter the your salary: \"))\n",
    "b = int(input(\"Enter the your credit score (below 900): \"))\n",
    "\n",
    "if a > 5000 or b > 650:\n",
    "    print(\"You can apply for a new Credit Card.\")\n",
    "else:\n",
    "    print(\"You donot qualify for a new Credit Card.\")"
   ]
  },
  {
   "cell_type": "markdown",
   "metadata": {},
   "source": [
    "     c. NOT: It eliminates items that contain the specified term. This is a way to re-fine search results. \n",
    "       \n",
    "     Note: sometimes AND NOT is used. (It serves the same function as NOT)\n",
    "\n",
    "Ex:"
   ]
  },
  {
   "cell_type": "code",
   "execution_count": 27,
   "metadata": {},
   "outputs": [
    {
     "name": "stdout",
     "output_type": "stream",
     "text": [
      "Enter a number: 10\n",
      "Enter another number: 2\n",
      "The list is:  [10, 20, 30, 40, 50] \n",
      "\n",
      "10 is present in given list\n",
      "2 is not present in given list\n"
     ]
    }
   ],
   "source": [
    "x = int(input(\"Enter a number: \"))\n",
    "y = int(input(\"Enter another number: \"))\n",
    "l = [10, 20, 30, 40, 50 ];\n",
    "print(\"The list is: \",l,\"\\n\")\n",
    "if x not in l:\n",
    "    print(x,\"is not present in given list\")\n",
    "else:\n",
    "    print(x,\"is present in given list\")\n",
    "if y in l:\n",
    "    print(y,\"is present in given list\")\n",
    "else:\n",
    "    print(y,\"is not present in given list\")"
   ]
  },
  {
   "cell_type": "markdown",
   "metadata": {},
   "source": [
    "## Q3: Make a list of each Boolean operator's truth tables (i.e. every possible combination of Boolean values for the operator and what it evaluate ).\n",
    "\n",
    "A3:"
   ]
  },
  {
   "cell_type": "markdown",
   "metadata": {},
   "source": [
    "In case of True-False conditions, we have to remember that:\n",
    "\n",
    "Input 1:\tInput 2:\t= 1 AND 2: \n",
    "\n",
    "\n",
    "  0       AND  \t0\t =     0\n",
    "  \n",
    "  \n",
    "  0\t      AND     1    =    0\n",
    "  \n",
    "  \n",
    "  1\t      AND     0\t =     0\n",
    "\n",
    "\n",
    "  1       AND  \t1\t =    1\n",
    "  \n",
    "    \n",
    "\n",
    "Input 1:\tInput 2:  =\t1 OR 2: \n",
    "\n",
    "\n",
    "  0       OR  \t0\t =     0\n",
    "  \n",
    "  \n",
    "  0\t      OR     1    =    1\n",
    "  \n",
    "  \n",
    "  1\t      OR     0\t =     1\n",
    "\n",
    "\n",
    "  1       OR  \t1\t =     1\n",
    "\n",
    "\n",
    "\n",
    "Input 1:   = NOT 1: \n",
    "\n",
    "\n",
    "  0   =     1\n",
    "\n",
    "\n",
    "  1  =     0\n",
    "\n",
    "\n",
    "  \n",
    "Where 0 is False and 1 is True.\n",
    "\n",
    "Ex:\n"
   ]
  },
  {
   "cell_type": "code",
   "execution_count": 28,
   "metadata": {},
   "outputs": [
    {
     "name": "stdout",
     "output_type": "stream",
     "text": [
      "False\n",
      "False\n",
      "True\n",
      "False\n",
      "\n",
      "\n",
      "True\n",
      "True\n",
      "True\n",
      "False\n",
      "\n",
      "\n",
      "False\n",
      "True\n"
     ]
    }
   ],
   "source": [
    "# AND:\n",
    "print(True and False)\n",
    "print(False and True)\n",
    "print(True and True)\n",
    "print(False and False)\n",
    "print(\"\\n\")\n",
    "# OR:\n",
    "print(True or False)\n",
    "print(False or True)\n",
    "print(True or True)\n",
    "print(False or False)\n",
    "print(\"\\n\")\n",
    "# Not:\n",
    "print(not(True))\n",
    "print(not(False))"
   ]
  },
  {
   "cell_type": "markdown",
   "metadata": {},
   "source": [
    "# Q4: What are the values of the following expressions?\n",
    "\n",
    "i. (5 > 4) and (3 == 5) \n",
    "\n",
    "ii. not (5 > 4)\n",
    "\n",
    "iii. (5 > 4) or (3 == 5) \n",
    "\n",
    "iv. not ((5 > 4) or (3 == 5))\n",
    "\n",
    "v. (True and True) and (True == False)\n",
    "\n",
    "vi. (not False) or (not True)\n",
    "\n",
    "A4:"
   ]
  },
  {
   "cell_type": "markdown",
   "metadata": {},
   "source": [
    "i. (5 > 4) and (3 == 5) :"
   ]
  },
  {
   "cell_type": "code",
   "execution_count": 29,
   "metadata": {},
   "outputs": [
    {
     "name": "stdout",
     "output_type": "stream",
     "text": [
      "False\n"
     ]
    }
   ],
   "source": [
    "print((5 > 4) and (3 == 5)) \n",
    "# 5>4 returns a 1 and 3==5 returns a 0. Also, 1 AND 0 is 0. Hence, the output is False."
   ]
  },
  {
   "cell_type": "markdown",
   "metadata": {},
   "source": [
    "ii. not (5 > 4) :"
   ]
  },
  {
   "cell_type": "code",
   "execution_count": 30,
   "metadata": {},
   "outputs": [
    {
     "name": "stdout",
     "output_type": "stream",
     "text": [
      "False\n"
     ]
    }
   ],
   "source": [
    "print(not (5 > 4))\n",
    "# 5>4 returns a 1 and not(1) will return a 0. Hence, the output is False."
   ]
  },
  {
   "cell_type": "markdown",
   "metadata": {},
   "source": [
    "iii. (5 > 4) or (3 == 5) :"
   ]
  },
  {
   "cell_type": "code",
   "execution_count": 31,
   "metadata": {},
   "outputs": [
    {
     "name": "stdout",
     "output_type": "stream",
     "text": [
      "True\n"
     ]
    }
   ],
   "source": [
    "print((5 > 4) or (3 == 5)) \n",
    "# 5>4 returns a 1 and 3==5 returns a 0 but since there is an OR, it will return 1. Hence, the output is True."
   ]
  },
  {
   "cell_type": "markdown",
   "metadata": {},
   "source": [
    "iv. not ((5 > 4) or (3 == 5)) :"
   ]
  },
  {
   "cell_type": "code",
   "execution_count": 32,
   "metadata": {},
   "outputs": [
    {
     "name": "stdout",
     "output_type": "stream",
     "text": [
      "False\n"
     ]
    }
   ],
   "source": [
    "print(not ((5 > 4) or (3 == 5)))\n",
    "# 5>4 returns a 1 and 3==5 returns a 0. 1 OR 0 is 1 but since there is a not(), it will turn 1 into 0. Hence, the output is False."
   ]
  },
  {
   "cell_type": "markdown",
   "metadata": {},
   "source": [
    "v. (True and True) and (True == False) :"
   ]
  },
  {
   "cell_type": "code",
   "execution_count": 33,
   "metadata": {},
   "outputs": [
    {
     "name": "stdout",
     "output_type": "stream",
     "text": [
      "False\n"
     ]
    }
   ],
   "source": [
    "print((True and True) and (True == False))\n",
    "# True and True will return a 1 whilst True == False will return a 0. 1 AND 0 is 0. Hence, the output will be False."
   ]
  },
  {
   "cell_type": "markdown",
   "metadata": {},
   "source": [
    "vi. (not False) or (not True) :"
   ]
  },
  {
   "cell_type": "code",
   "execution_count": 34,
   "metadata": {},
   "outputs": [
    {
     "name": "stdout",
     "output_type": "stream",
     "text": [
      "True\n"
     ]
    }
   ],
   "source": [
    "print((not False) or (not True))\n",
    "# Not(0) will give 1 and not (1) will give a 0. Then, 1 OR 0 is 1 which means the answer will be True (1)."
   ]
  },
  {
   "cell_type": "markdown",
   "metadata": {},
   "source": [
    "# Q5: What are the six comparison operators?\n",
    "A5:"
   ]
  },
  {
   "cell_type": "markdown",
   "metadata": {},
   "source": [
    "Operators are used to perform operations on variables and values.\n",
    "Python divides the operators in the following groups:\n",
    "\n",
    "i. Arithmetic operators\n",
    "\n",
    "ii. Assignment operators\n",
    "\n",
    "iii. Comparison operators\n",
    "\n",
    "iv. Logical operators\n",
    "\n",
    "v. Identity operators\n",
    "\n",
    "vi. Membership operators\n",
    "\n",
    "vii. Bitwise operators"
   ]
  },
  {
   "cell_type": "markdown",
   "metadata": {},
   "source": [
    "Comparison Operators are used for value comparisons between two values (or more). It returns a True or a False, according to the conditions. The six operators are:"
   ]
  },
  {
   "cell_type": "markdown",
   "metadata": {},
   "source": [
    "1. Less Than (<) Operator:\n",
    "The first comparison operator in python we’ll see here is the less than operator. Denoted by <, it checks if the left value is lesser than that on the right.\n",
    "\n",
    "Ex:"
   ]
  },
  {
   "cell_type": "code",
   "execution_count": 35,
   "metadata": {},
   "outputs": [
    {
     "data": {
      "text/plain": [
       "True"
      ]
     },
     "execution_count": 35,
     "metadata": {},
     "output_type": "execute_result"
    }
   ],
   "source": [
    "3<6"
   ]
  },
  {
   "cell_type": "markdown",
   "metadata": {},
   "source": [
    "2. Greater Than (>) Operator: The greater than an operator, denoted by >, checks whether the left value is greater than the one on the right.\n",
    "\n",
    "Ex:"
   ]
  },
  {
   "cell_type": "code",
   "execution_count": 36,
   "metadata": {},
   "outputs": [
    {
     "data": {
      "text/plain": [
       "True"
      ]
     },
     "execution_count": 36,
     "metadata": {},
     "output_type": "execute_result"
    }
   ],
   "source": [
    "30>5"
   ]
  },
  {
   "cell_type": "markdown",
   "metadata": {},
   "source": [
    "3. Less Than or Equal To (<=) Operator: The less than or equal to operator, denoted by <=, returns True only if the value on the left is either less than or equal to that on the right of the operator.\n",
    "\n",
    "Ex:"
   ]
  },
  {
   "cell_type": "code",
   "execution_count": 38,
   "metadata": {},
   "outputs": [
    {
     "name": "stdout",
     "output_type": "stream",
     "text": [
      "Enter a number A: 2\n",
      "A is greater than its multiplicative factor\n"
     ]
    }
   ],
   "source": [
    "a=int(input(\"Enter a number A: \"))\n",
    "if a<=a*1.1:\n",
    "    print(\"A is greater than its multiplicative factor\")\n",
    "else:\n",
    "    print(\"A is lesser than its multiplicative factor\")"
   ]
  },
  {
   "cell_type": "markdown",
   "metadata": {},
   "source": [
    "4. Greater Than or Equal To (>=) Operator: This operator returns True only if the value on the left is greater than or equal to that on the right.\n",
    "\n",
    "Ex:"
   ]
  },
  {
   "cell_type": "code",
   "execution_count": 39,
   "metadata": {},
   "outputs": [
    {
     "name": "stdout",
     "output_type": "stream",
     "text": [
      "Enter a number A: 2\n",
      "A is lesser than its multiplicative factor\n"
     ]
    }
   ],
   "source": [
    "a=int(input(\"Enter a number A: \"))\n",
    "if a>=a*1.1:\n",
    "    print(\"A is greater than its multiplicative factor\")\n",
    "else:\n",
    "    print(\"A is lesser than its multiplicative factor\")"
   ]
  },
  {
   "cell_type": "markdown",
   "metadata": {},
   "source": [
    "5. Equal To (==) Operator: The equal to operator returns True if the values on either side of the operator are equal.\n",
    "    \n",
    "    Ex:"
   ]
  },
  {
   "cell_type": "code",
   "execution_count": 40,
   "metadata": {},
   "outputs": [
    {
     "name": "stdout",
     "output_type": "stream",
     "text": [
      "Enter the first number: 1\n",
      "Enter the second number: 2\n",
      "Enter the third number: 1\n",
      "Two of the three numbers entered are same.\n"
     ]
    }
   ],
   "source": [
    "a = int(input(\"Enter the first number: \"))\n",
    "b = int(input(\"Enter the second number: \"))\n",
    "c = int(input(\"Enter the third number: \"))\n",
    "\n",
    "if a==b and a==c:\n",
    "    print(\"All three numbers are same.\")\n",
    "elif a==b or a==c or b==c:\n",
    "    print (\"Two of the three numbers entered are same.\")\n",
    "else:\n",
    "    print(\"None of the numbers are same.\")"
   ]
  },
  {
   "cell_type": "markdown",
   "metadata": {},
   "source": [
    "6. Not Equal Operator (!=) Operator: Finally, we will discuss the not equal to operator which is Denoted by !=. This operator does the exact opposite of the equal to operator. It returns True if the values on either side of the operator are unequal.\n",
    "\n",
    "Ex:"
   ]
  },
  {
   "cell_type": "code",
   "execution_count": 42,
   "metadata": {},
   "outputs": [
    {
     "name": "stdout",
     "output_type": "stream",
     "text": [
      "Enter the first number: 2\n",
      "Enter the second number: 1\n",
      "Two numbers aren't same.\n"
     ]
    }
   ],
   "source": [
    "a = int(input(\"Enter the first number: \"))\n",
    "b = int(input(\"Enter the second number: \"))\n",
    "\n",
    "if a!=b:\n",
    "    print(\"Two numbers aren't same.\")\n",
    "else:\n",
    "    print(\"Both the numbers are same.\")"
   ]
  },
  {
   "cell_type": "markdown",
   "metadata": {},
   "source": [
    "# Q6: How do you tell the difference between the equal to and assignment operators?Describe a condition and when you would use one.\n",
    "\n",
    "A6:"
   ]
  },
  {
   "cell_type": "markdown",
   "metadata": {},
   "source": [
    "i. = : The = operator assigns a value to a variable. \n",
    "\n",
    "ii. == : The == operator evaluates 2 values."
   ]
  },
  {
   "cell_type": "code",
   "execution_count": 34,
   "metadata": {},
   "outputs": [
    {
     "name": "stdout",
     "output_type": "stream",
     "text": [
      "Enter a name: Hello\n",
      "\n",
      "Strings didnot match\n"
     ]
    }
   ],
   "source": [
    "x = str(input(\"Enter a name: \")) # = operator is letting the variable 'x' save the user input.\n",
    "if x.lower() == \"ineuron\":# == operator is checking if the user's input (saved in the variable x) is equal to the string or not.\n",
    "    print(\"\\n String are a perfect match.\")\n",
    "else:\n",
    "    print(\"\\nStrings didnot match\")"
   ]
  },
  {
   "cell_type": "markdown",
   "metadata": {},
   "source": [
    "# Q7. Identify the three blocks in this code:\n",
    "\n",
    "spam = 0\n",
    "\n",
    "if spam == 10:\n",
    "\n",
    "print('eggs')\n",
    "\n",
    "if spam > 5:\n",
    "\n",
    "print('bacon')\n",
    "\n",
    "else:\n",
    "\n",
    "print('ham')\n",
    "\n",
    "print('spam')\n",
    "\n",
    "print('spam')\n",
    "\n",
    "A7:\n",
    "A block of code is comprised of several statements that are intended to execute when a certain condition is met. \n",
    "\n",
    "In Python, a block of code is implemented using indentation. The three block of codes in the above code are:"
   ]
  },
  {
   "cell_type": "code",
   "execution_count": 48,
   "metadata": {},
   "outputs": [
    {
     "name": "stdout",
     "output_type": "stream",
     "text": [
      "ham\n",
      "spam\n",
      "spam\n"
     ]
    }
   ],
   "source": [
    "spam = 0\n",
    "\n",
    "if spam == 10:        # Block of code 1 start\n",
    "    print('eggs')     # Block of code 1 end\n",
    "if spam > 5:          # Block of code 2 start\n",
    "    print('bacon')    # Block of code 2 end\n",
    "else:                 # Block of code 3 start\n",
    "        print('ham')  # Block of code 3 continued\n",
    "        print('spam') # Block of code 3 continued\n",
    "        print('spam') # Block of code 3 end"
   ]
  },
  {
   "cell_type": "markdown",
   "metadata": {},
   "source": [
    "# Q8: Write code that prints Hello if 1 is stored in spam, prints Howdy if 2 is stored in spam, and prints Greetings! if anything else is stored in spam.\n",
    "A8:\n",
    "The following code is running and executing all the said conditions:"
   ]
  },
  {
   "cell_type": "code",
   "execution_count": 28,
   "metadata": {},
   "outputs": [
    {
     "name": "stdout",
     "output_type": "stream",
     "text": [
      "Enter a whole number: 2\n",
      "\n",
      "The number is 2 \n",
      "\n",
      "HOWDY\n"
     ]
    }
   ],
   "source": [
    "spam = int(input(\"Enter a whole number: \"))\n",
    "print(\"\\nThe number is\",spam,\"\\n\")\n",
    "if spam == 1:\n",
    "    print(\"HELLO\")\n",
    "elif spam == 2:\n",
    "    print(\"HOWDY\")\n",
    "else:\n",
    "    print(\"GREETINGS\")"
   ]
  },
  {
   "cell_type": "markdown",
   "metadata": {},
   "source": [
    "# Q9: If your programme is stuck in an endless loop, what keys you’ll press?\n",
    "A9:\n",
    "\n",
    "We can use Ctrl + C to terminate the program."
   ]
  },
  {
   "cell_type": "markdown",
   "metadata": {},
   "source": [
    "# Q10: How can you tell the difference between break and continue?\n",
    "A10:"
   ]
  },
  {
   "cell_type": "markdown",
   "metadata": {},
   "source": [
    "a. Break: The break statement terminates the loop where it is being used. The control of the program is re-directed to the statement immediately after the body of the loop. If the break statement is inside a nested loop (loop inside another loop), the break statement will terminate the innermost loop.\n",
    "\n",
    "b. Continue: The continue statement is used to skip the code within a loop for certain iterations of the loop. After the code is skipped, the loop continues where it left off."
   ]
  },
  {
   "cell_type": "code",
   "execution_count": 23,
   "metadata": {},
   "outputs": [
    {
     "name": "stdout",
     "output_type": "stream",
     "text": [
      "s\n",
      "t\n",
      "r\n",
      "i\n",
      "n\n",
      "g\n"
     ]
    }
   ],
   "source": [
    "# The break statement:\n",
    "\n",
    "for i in \"string concatination\":\n",
    "    if i == \" \":\n",
    "        break\n",
    "    print(i)"
   ]
  },
  {
   "cell_type": "code",
   "execution_count": 38,
   "metadata": {},
   "outputs": [
    {
     "name": "stdout",
     "output_type": "stream",
     "text": [
      "0\n",
      "1\n",
      "2\n",
      "3\n",
      "5\n",
      "6\n",
      "8\n",
      "9\n"
     ]
    }
   ],
   "source": [
    "\"\"\"\n",
    "The continue statement:\n",
    "(The code runs for values 0 - 9 but will skip printing 4 and 7 because of the conditions in the code)\n",
    "\"\"\"\n",
    "for i in range(10):\n",
    "    if i == 4:\n",
    "        continue \n",
    "    if i == 7:\n",
    "        continue\n",
    "    print(i)"
   ]
  },
  {
   "cell_type": "markdown",
   "metadata": {},
   "source": [
    "# Q11: In a for loop, what is the difference between range(10), range(0, 10), and range(0, 10, 1)?\n",
    "A11:"
   ]
  },
  {
   "cell_type": "markdown",
   "metadata": {},
   "source": [
    "a. range(10) will run a for loop with initial i = 0 (1st index) until the 10th index (which will be number 9).\n",
    "\n",
    "b. range(0,10) will run a for loop with i = 0 (1st index) until the 10th index (which will be number 9).\n",
    "\n",
    "c. range(0,10,1) will run a for loop with initial i = 0 (1st index) until the 10th index (which will be number 9) with an increment of 1 variable with every loop iteration."
   ]
  },
  {
   "cell_type": "code",
   "execution_count": 17,
   "metadata": {},
   "outputs": [
    {
     "name": "stdout",
     "output_type": "stream",
     "text": [
      "0\n",
      "1\n",
      "2\n",
      "3\n",
      "4\n",
      "5\n",
      "6\n",
      "7\n",
      "8\n",
      "9\n",
      "\n",
      "\n",
      "0\n",
      "1\n",
      "2\n",
      "3\n",
      "4\n",
      "5\n",
      "6\n",
      "7\n",
      "8\n",
      "9\n",
      "\n",
      "\n",
      "0\n",
      "1\n",
      "2\n",
      "3\n",
      "4\n",
      "5\n",
      "6\n",
      "7\n",
      "8\n",
      "9\n"
     ]
    }
   ],
   "source": [
    "for i in range(10): \n",
    "    print(i)\n",
    "print(\"\\n\")    \n",
    "for i in range(0,10): \n",
    "    print(i)\n",
    "print(\"\\n\")    \n",
    "for i in range(0,10,1): \n",
    "    print(i)"
   ]
  },
  {
   "cell_type": "markdown",
   "metadata": {},
   "source": [
    "# Q12: Write a short program that prints the numbers 1 to 10 using a for loop. Then write an equivalent program that prints the numbers 1 to 10 using a while loop.\n",
    "A12:\n",
    "\n",
    "a. Using for loop:"
   ]
  },
  {
   "cell_type": "code",
   "execution_count": 5,
   "metadata": {},
   "outputs": [
    {
     "name": "stdout",
     "output_type": "stream",
     "text": [
      "The numbers are: \n",
      "\n",
      "1\n",
      "2\n",
      "3\n",
      "4\n",
      "5\n",
      "6\n",
      "7\n",
      "8\n",
      "9\n",
      "10\n"
     ]
    }
   ],
   "source": [
    "print(\"The numbers are: \\n\")\n",
    "for i  in range (1,11):\n",
    "    print(i)"
   ]
  },
  {
   "cell_type": "markdown",
   "metadata": {},
   "source": [
    "b. Using while loop:"
   ]
  },
  {
   "cell_type": "code",
   "execution_count": 12,
   "metadata": {},
   "outputs": [
    {
     "name": "stdout",
     "output_type": "stream",
     "text": [
      "The numbers are: \n",
      "\n",
      "1\n",
      "2\n",
      "3\n",
      "4\n",
      "5\n",
      "6\n",
      "7\n",
      "8\n",
      "9\n",
      "10\n"
     ]
    }
   ],
   "source": [
    "i=1\n",
    "print(\"The numbers are: \\n\")\n",
    "while i <11:\n",
    "    print(i)\n",
    "    i+=1\n",
    "    if i ==11:\n",
    "        break"
   ]
  },
  {
   "cell_type": "markdown",
   "metadata": {},
   "source": [
    "# Q13: If you had a function named bacon() inside a module named spam, how would you call it after importing spam?\n",
    "A13:"
   ]
  },
  {
   "cell_type": "markdown",
   "metadata": {},
   "source": [
    "The function would be called spam.bacon()"
   ]
  }
 ],
 "metadata": {
  "kernelspec": {
   "display_name": "Python 3",
   "language": "python",
   "name": "python3"
  },
  "language_info": {
   "codemirror_mode": {
    "name": "ipython",
    "version": 3
   },
   "file_extension": ".py",
   "mimetype": "text/x-python",
   "name": "python",
   "nbconvert_exporter": "python",
   "pygments_lexer": "ipython3",
   "version": "3.8.5"
  }
 },
 "nbformat": 4,
 "nbformat_minor": 4
}
