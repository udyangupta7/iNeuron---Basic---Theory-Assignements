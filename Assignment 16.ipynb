{
 "cells": [
  {
   "cell_type": "markdown",
   "id": "61d9fe3b",
   "metadata": {},
   "source": [
    "# Assignment 16:\n",
    "\n",
    "#### Q1:\n",
    "\n",
    "#### I. Create a list called 'years_list', starting with the year of your birth, and each year thereafter until the year of your fifth birthday. For example, if you were born in 1980. the list would be years_list = [1980, 1981, 1982, 1983, 1984, 1985].\n",
    "\n",
    "#### II. In which year in years_list was your third birthday? Remember, you were 0 years of age for your first year.\n",
    "\n",
    "#### III. In the years list, which year were you the oldest?\n",
    "\n",
    "#### A1.I:"
   ]
  },
  {
   "cell_type": "code",
   "execution_count": 13,
   "id": "c53d4033",
   "metadata": {},
   "outputs": [
    {
     "name": "stdout",
     "output_type": "stream",
     "text": [
      "Enter your birth year:1995\n",
      "Your next five birthdays and your birth year are:  [1995, 1996, 1997, 1998, 1999, 2000]\n"
     ]
    }
   ],
   "source": [
    "years_list = []\n",
    "birth_year = int(input(\"Enter your birth year:\"))\n",
    "for i in range(6):\n",
    "    years_list.append(birth_year)\n",
    "    birth_year+=1\n",
    "print(\"Your next five birthdays and your birth year are: \",years_list)"
   ]
  },
  {
   "cell_type": "markdown",
   "id": "645f8952",
   "metadata": {},
   "source": [
    "#### A1.II:"
   ]
  },
  {
   "cell_type": "code",
   "execution_count": 14,
   "id": "c7666730",
   "metadata": {},
   "outputs": [
    {
     "name": "stdout",
     "output_type": "stream",
     "text": [
      "Your third birthday would be in 1998\n"
     ]
    }
   ],
   "source": [
    "print(\"Your third birthday would be in\",years_list[3])"
   ]
  },
  {
   "cell_type": "markdown",
   "id": "5d404967",
   "metadata": {},
   "source": [
    "#### A1.III:"
   ]
  },
  {
   "cell_type": "code",
   "execution_count": 15,
   "id": "fe0d9a95",
   "metadata": {},
   "outputs": [
    {
     "name": "stdout",
     "output_type": "stream",
     "text": [
      "You would be the oldest (of the five years in the list)in 2000\n"
     ]
    }
   ],
   "source": [
    "print(\"You would be the oldest (of the five years in the list)in\",years_list[-1])"
   ]
  },
  {
   "cell_type": "markdown",
   "id": "2d0652ec",
   "metadata": {},
   "source": [
    "#### Q2:\n",
    "\n",
    "#### I. Make a list called 'things' with these three strings as elements: \"mozzarella\", \"cinderella\", \"salmonella\".\n",
    "\n",
    "#### II. Capitalize the element in things that refers to a person and then print the list. Did it change the element in the list?\n",
    "\n",
    "#### A2.I:"
   ]
  },
  {
   "cell_type": "code",
   "execution_count": 19,
   "id": "1795701d",
   "metadata": {},
   "outputs": [
    {
     "name": "stdout",
     "output_type": "stream",
     "text": [
      "The list with the three strings is: ['mozzarella', 'cinderella', 'salmonella']\n"
     ]
    }
   ],
   "source": [
    "things = [\"mozzarella\", \"cinderella\", \"salmonella\"]\n",
    "print(\"The list with the three strings is:\",things)"
   ]
  },
  {
   "cell_type": "markdown",
   "id": "018b2fd6",
   "metadata": {},
   "source": [
    "#### A2.II:"
   ]
  },
  {
   "cell_type": "code",
   "execution_count": 22,
   "id": "86765ef8",
   "metadata": {},
   "outputs": [
    {
     "name": "stdout",
     "output_type": "stream",
     "text": [
      "The element in things that refers to a person is CINDERELLA\n"
     ]
    }
   ],
   "source": [
    "print(\"The element in things that refers to a person is\",things[1].upper())"
   ]
  },
  {
   "cell_type": "markdown",
   "id": "31a24eca",
   "metadata": {},
   "source": [
    "#### Checking if the list has changed or not:"
   ]
  },
  {
   "cell_type": "code",
   "execution_count": 24,
   "id": "8fccc180",
   "metadata": {},
   "outputs": [
    {
     "name": "stdout",
     "output_type": "stream",
     "text": [
      "['mozzarella', 'cinderella', 'salmonella']\n"
     ]
    }
   ],
   "source": [
    "print(things)"
   ]
  },
  {
   "cell_type": "markdown",
   "id": "065b7d67",
   "metadata": {},
   "source": [
    "Since the list's elements haven't altered due to the capitalization, we can say that the list hasnot been changed. "
   ]
  },
  {
   "cell_type": "markdown",
   "id": "676139e4",
   "metadata": {},
   "source": [
    "#### Q3: \n",
    "\n",
    "#### I. Make a list named 'surprise' with the elements \"Groucho,\" \"Chico,\" and \"Harpo.\"\n",
    "\n",
    "#### II. Lowercase the last element of the list 'surprise', reverse it, and then capitalize it.\n",
    "\n",
    "\n",
    "\n",
    "#### A3.I:"
   ]
  },
  {
   "cell_type": "code",
   "execution_count": 25,
   "id": "826ae18f",
   "metadata": {},
   "outputs": [
    {
     "name": "stdout",
     "output_type": "stream",
     "text": [
      "The list is: ['Groucho', 'Chico', 'Harpo']\n"
     ]
    }
   ],
   "source": [
    "surprise = [\"Groucho\",\"Chico\",\"Harpo\"]\n",
    "print(\"The list is:\",surprise)"
   ]
  },
  {
   "cell_type": "markdown",
   "id": "e1f46275",
   "metadata": {},
   "source": [
    "#### A3.II"
   ]
  },
  {
   "cell_type": "code",
   "execution_count": 30,
   "id": "71b75dc9",
   "metadata": {},
   "outputs": [
    {
     "name": "stdout",
     "output_type": "stream",
     "text": [
      "The last element after lowercasing, reversing and capitalizing it are: OPRAH\n"
     ]
    }
   ],
   "source": [
    "element = surprise[-1].lower()\n",
    "print(\"The last element after lowercasing, reversing and capitalizing it are:\",element[::-1].upper())"
   ]
  },
  {
   "cell_type": "markdown",
   "id": "d271745e",
   "metadata": {},
   "source": [
    "#### Q4.\n",
    "\n",
    "#### I. Make an English-to-French dictionary called e2f and print it. Here are your starter words: dog is chien, cat is chat, and walrus is morse.\n",
    "\n",
    "#### II. Write the French word for walrus in your three-word dictionary e2f.\n",
    "\n",
    "#### A4.I:"
   ]
  },
  {
   "cell_type": "code",
   "execution_count": 90,
   "id": "48856932",
   "metadata": {},
   "outputs": [
    {
     "name": "stdout",
     "output_type": "stream",
     "text": [
      "The English-to-French dictionary called e2f is: {'Dog': 'Chien', 'Cat': 'Chat', 'Walrus': 'Morse'}\n"
     ]
    }
   ],
   "source": [
    "e2f = {'Dog':'Chien' , 'Cat':'Chat' , 'Walrus':'Morse'}\n",
    "print(\"The English-to-French dictionary called e2f is:\",e2f)"
   ]
  },
  {
   "cell_type": "markdown",
   "id": "64985968",
   "metadata": {},
   "source": [
    "#### A4.II:"
   ]
  },
  {
   "cell_type": "code",
   "execution_count": 91,
   "id": "a7e70288",
   "metadata": {},
   "outputs": [
    {
     "name": "stdout",
     "output_type": "stream",
     "text": [
      "The French word for walrus the dictionary is - Morse\n"
     ]
    }
   ],
   "source": [
    "print(\"The French word for walrus the dictionary is -\",list(e2f.values())[-1])"
   ]
  },
  {
   "cell_type": "markdown",
   "id": "5e7f38ad",
   "metadata": {},
   "source": [
    "#### Q5: \n",
    "#### I. Make a French-to-English dictionary called f2e from e2f. Use the items method.\n",
    "\n",
    "#### II. Print the English version of the French word chien using f2e.\n",
    "\n",
    "#### III. Make and print a set of English words from the keys in e2f.\n",
    "\n",
    "#### A5.I:"
   ]
  },
  {
   "cell_type": "code",
   "execution_count": 92,
   "id": "3a02b726",
   "metadata": {},
   "outputs": [
    {
     "name": "stdout",
     "output_type": "stream",
     "text": [
      "{'Chien': 'Dog', 'Chat': 'Cat', 'Morse': 'Walrus'}\n"
     ]
    }
   ],
   "source": [
    "f2e = {}\n",
    "for val,key in e2f.items():\n",
    "    f2e[key] = val\n",
    "print(f2e)"
   ]
  },
  {
   "cell_type": "markdown",
   "id": "f122bcaf",
   "metadata": {},
   "source": [
    "#### A5.II:"
   ]
  },
  {
   "cell_type": "code",
   "execution_count": 95,
   "id": "62896908",
   "metadata": {},
   "outputs": [
    {
     "name": "stdout",
     "output_type": "stream",
     "text": [
      "1. Chien in French is Dog in English.\n",
      "2. Chat in French is Cat in English.\n",
      "3. Morse in French is Walrus in English.\n"
     ]
    }
   ],
   "source": [
    "i = 1\n",
    "for val,key in f2e.items():\n",
    "    print(str(i)+str(\".\"),val,\"in French is\",key,\"in English.\")\n",
    "    i+=1"
   ]
  },
  {
   "cell_type": "markdown",
   "id": "2e4a5940",
   "metadata": {},
   "source": [
    "#### A5.III:"
   ]
  },
  {
   "cell_type": "code",
   "execution_count": 99,
   "id": "504e5e65",
   "metadata": {},
   "outputs": [
    {
     "name": "stdout",
     "output_type": "stream",
     "text": [
      "All the English words in the dictionary are: ['Dog', 'Cat', 'Walrus']\n"
     ]
    }
   ],
   "source": [
    "print(\"All the English words in the dictionary are:\",list(f2e.values()))"
   ]
  },
  {
   "cell_type": "markdown",
   "id": "f6e37425",
   "metadata": {},
   "source": [
    "#### Q6:\n",
    "\n",
    "#### Make a multilevel dictionary called life. Use these strings for the topmost keys: 'animals', 'plants', and 'other'. Make the 'animals' key refer to another dictionary with the keys 'cats', 'octopi', and 'emus'. Make the 'cats' key refer to a list of strings with the values 'Henri', 'Grumpy', and 'Lucy'. Make all the other keys refer to empty dictionaries.\n",
    "\n",
    "#### I. Print the top-level keys of life.\n",
    "\n",
    "#### II. Print the keys for life['animals'].\n",
    "\n",
    "#### III. Print the values for life['animals']['cats']\n",
    "\n",
    "#### A6"
   ]
  },
  {
   "cell_type": "code",
   "execution_count": 113,
   "id": "2f4ebd35",
   "metadata": {},
   "outputs": [
    {
     "name": "stdout",
     "output_type": "stream",
     "text": [
      "The dictionary, 'life' is:\n",
      " {'animals': {'cats': ['Henri', 'Grumpy', 'Lucy'], 'octopi': '', 'emus': ''}, 'plants': '', 'other': ''}\n"
     ]
    }
   ],
   "source": [
    "life = {'animals': {'cats': ['Henri', 'Grumpy', 'Lucy'],'octopi': '','emus': '',},\n",
    "    'plants': '',\n",
    "    'other': ''\n",
    "    }\n",
    "print(\"The dictionary, 'life' is:\\n\",life)"
   ]
  },
  {
   "cell_type": "markdown",
   "id": "41730157",
   "metadata": {},
   "source": [
    "#### A6.I:"
   ]
  },
  {
   "cell_type": "code",
   "execution_count": 129,
   "id": "7377b5d2",
   "metadata": {},
   "outputs": [
    {
     "name": "stdout",
     "output_type": "stream",
     "text": [
      "All the top level keys in the dictionary 'life' are:\n",
      " ['animals', 'plants', 'other']\n"
     ]
    }
   ],
   "source": [
    "print(\"All the top level keys in the dictionary 'life' are:\\n\",list(life.keys()))"
   ]
  },
  {
   "cell_type": "markdown",
   "id": "42c9818a",
   "metadata": {},
   "source": [
    "#### A6.II:"
   ]
  },
  {
   "cell_type": "code",
   "execution_count": 121,
   "id": "fc0c72d1",
   "metadata": {},
   "outputs": [
    {
     "name": "stdout",
     "output_type": "stream",
     "text": [
      "The keys in 'animals' are: \n",
      "cats octopi emus "
     ]
    }
   ],
   "source": [
    "print(\"The keys in 'animals' are: \")\n",
    "for key in life[\"animals\"]:\n",
    "    print(key,end=\" \")"
   ]
  },
  {
   "cell_type": "markdown",
   "id": "2f713068",
   "metadata": {},
   "source": [
    "#### A6.III:"
   ]
  },
  {
   "cell_type": "code",
   "execution_count": 122,
   "id": "1645ea5d",
   "metadata": {
    "scrolled": true
   },
   "outputs": [
    {
     "name": "stdout",
     "output_type": "stream",
     "text": [
      "The data in 'cat's is: ['Henri', 'Grumpy', 'Lucy']\n"
     ]
    }
   ],
   "source": [
    "print(\"The data in 'cat's is:\",life['animals']['cats'])"
   ]
  }
 ],
 "metadata": {
  "kernelspec": {
   "display_name": "Python 3",
   "language": "python",
   "name": "python3"
  },
  "language_info": {
   "codemirror_mode": {
    "name": "ipython",
    "version": 3
   },
   "file_extension": ".py",
   "mimetype": "text/x-python",
   "name": "python",
   "nbconvert_exporter": "python",
   "pygments_lexer": "ipython3",
   "version": "3.8.8"
  }
 },
 "nbformat": 4,
 "nbformat_minor": 5
}
