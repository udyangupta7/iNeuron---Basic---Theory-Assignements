{
 "cells": [
  {
   "cell_type": "markdown",
   "id": "cd523b0e",
   "metadata": {},
   "source": [
    "# Assignment 14:\n",
    "\n",
    "#### Q1: What does RGBA stand for?\n",
    "\n",
    "#### A1:\n",
    "\n",
    "RGBA(Red-Green-Blue-Alpha) : The RGB color model is extended in this specification to include “alpha” to allow specification of the opacity of a color.\n",
    "\n",
    "The format of the RGBA Value: \n",
    "\n",
    "1. rgba(R,G,B,A) -integer- The format of an RGBA value in the functional notation is ‘rgba(’ followed by a comma-separated list of three numerical values (three integer values), followed by an alphavalue, followed by ‘)’.\n",
    "\n",
    "\n",
    "2. rgba(R,G,B,A) -percentage- The format of an RGBA value in the functional notation is ‘rgba(’ followed by a comma-separated list of three numerical values (three percentage values), followed by an alphavalue, followed by ‘)’."
   ]
  },
  {
   "cell_type": "markdown",
   "id": "4044f97b",
   "metadata": {},
   "source": [
    "#### Q2: From the Pillow module, how do you get the RGBA value of any images?\n",
    "\n",
    "#### A2:\n",
    "\n",
    "The pillow library has the ImageColor.getcolor() function so we don’t have to memorize the RGBA values for the colors we want to use. This function takes a color name string as its first argument, and the string 'RGBA' as its second argument, and it returns an RGBA tuple."
   ]
  },
  {
   "cell_type": "markdown",
   "id": "63ce5598",
   "metadata": {},
   "source": [
    "#### Q3: What is a box tuple, and how does it work?\n",
    "\n",
    "#### A3:\n",
    "\n",
    "The box.tuple submodule provides read-only access for the tuple userdata type. It allows, for a single tuple: selective retrieval of the field contents, retrieval of information about size, iteration over all the fields, and conversion to a Lua table."
   ]
  },
  {
   "cell_type": "markdown",
   "id": "75b3d16d",
   "metadata": {},
   "source": [
    "#### Q4: Use your image and load in notebook then, How can you find out the width and height of an Image object?\n",
    "\n",
    "#### A4:\n",
    "\n",
    "The image.size: It returns the tuple consist of height & weight of the image. (here, image is the object in which we have saved our picture.\n",
    "The output looks something like this:\n",
    "(1280, 721)"
   ]
  },
  {
   "cell_type": "markdown",
   "id": "675e4c6d",
   "metadata": {},
   "source": [
    "#### Q5:  What method would you call to get Image object for a 100×100 image, excluding the lower-left quarter of it?\n",
    "\n",
    "\n",
    "#### A5:\n",
    "\n",
    "We would use the crop function to get the image object as specified above."
   ]
  },
  {
   "cell_type": "markdown",
   "id": "680d09cd",
   "metadata": {},
   "source": [
    "#### Q6: After making changes to an Image object, how could you save it as an image file?\n",
    "\n",
    "#### A6:\n",
    "\n",
    "We can save an altered file named 'Image' is using the | Image.save() function. "
   ]
  },
  {
   "cell_type": "markdown",
   "id": "8689d0ee",
   "metadata": {},
   "source": [
    "#### Q7: What module contains Pillow’s shape-drawing code?\n",
    "\n",
    "#### A7:\n",
    "\n",
    "The ImageDraw Module:\n",
    "\n",
    "The ImageDraw module provides a simple 2D graphics for Image objects. You can use this module to create new images, annotate or retouch existing images, and to generate graphics on the fly for web use."
   ]
  },
  {
   "cell_type": "markdown",
   "id": "e377accf",
   "metadata": {},
   "source": [
    "#### Q8: Image objects do not have drawing methods. What kind of object does? How do you get this kind of object?\n",
    "\n",
    "#### A8: \n",
    "\n",
    "To draw a shape, you use a GeometryDrawing. A geometry drawing's Geometry property describes the shape to draw, its Brush property describes how the interior of the shape should be painted, and its Pen property describes how its outline should be drawn."
   ]
  }
 ],
 "metadata": {
  "kernelspec": {
   "display_name": "Python 3",
   "language": "python",
   "name": "python3"
  },
  "language_info": {
   "codemirror_mode": {
    "name": "ipython",
    "version": 3
   },
   "file_extension": ".py",
   "mimetype": "text/x-python",
   "name": "python",
   "nbconvert_exporter": "python",
   "pygments_lexer": "ipython3",
   "version": "3.8.8"
  }
 },
 "nbformat": 4,
 "nbformat_minor": 5
}
