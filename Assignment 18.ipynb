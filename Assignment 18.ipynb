{
 "cells": [
  {
   "cell_type": "markdown",
   "id": "25f6c659",
   "metadata": {},
   "source": [
    "#### Q1: Create a zoo.py file first. Define the hours() function, which prints the string 'Open 9-5 daily'. Then, use the interactive interpreter to import the zoo module and call its hours() function.\n",
    "\n",
    "#### A1:"
   ]
  },
  {
   "cell_type": "code",
   "execution_count": 16,
   "id": "6274a0e7",
   "metadata": {},
   "outputs": [
    {
     "name": "stdout",
     "output_type": "stream",
     "text": [
      "Open 9-5 daily\n"
     ]
    }
   ],
   "source": [
    "import zoo \n",
    "hours()"
   ]
  },
  {
   "cell_type": "markdown",
   "id": "188f23aa",
   "metadata": {},
   "source": [
    "#### Q2:In the interactive interpreter, import the zoo module as menagerie and call its hours() function.\n",
    "\n",
    "#### A2:"
   ]
  },
  {
   "cell_type": "code",
   "execution_count": 17,
   "id": "48e6e00f",
   "metadata": {},
   "outputs": [
    {
     "name": "stdout",
     "output_type": "stream",
     "text": [
      "Open 9-5 daily\n"
     ]
    }
   ],
   "source": [
    "import zoo as menagerie\n",
    "menagerie.hours()"
   ]
  },
  {
   "cell_type": "markdown",
   "id": "35eb9b74",
   "metadata": {},
   "source": [
    "#### Q3: Using the interpreter, explicitly import and call the hours() function from zoo.\n",
    "\n",
    "#### A3:"
   ]
  },
  {
   "cell_type": "code",
   "execution_count": 18,
   "id": "9d682bf6",
   "metadata": {},
   "outputs": [
    {
     "name": "stdout",
     "output_type": "stream",
     "text": [
      "Open 9-5 daily\n"
     ]
    }
   ],
   "source": [
    "from zoo import hours\n",
    "hours()"
   ]
  },
  {
   "cell_type": "markdown",
   "id": "08e614e3",
   "metadata": {},
   "source": [
    "#### Q4: Import the hours() function as info and call it.\n",
    "\n",
    "#### A4:"
   ]
  },
  {
   "cell_type": "code",
   "execution_count": 19,
   "id": "169bb3fc",
   "metadata": {},
   "outputs": [
    {
     "name": "stdout",
     "output_type": "stream",
     "text": [
      "Open 9-5 daily\n"
     ]
    }
   ],
   "source": [
    "from zoo import hours as info\n",
    "info()"
   ]
  },
  {
   "cell_type": "markdown",
   "id": "8ef99015",
   "metadata": {},
   "source": [
    "#### Q5: Create a dictionary named 'plain' with the key-value pairs 'a': 1, 'b': 2, and 'c': 3, and print it out.\n",
    "\n",
    "#### A5:"
   ]
  },
  {
   "cell_type": "code",
   "execution_count": 20,
   "id": "514929de",
   "metadata": {},
   "outputs": [
    {
     "name": "stdout",
     "output_type": "stream",
     "text": [
      "The dictionary is - {'a': 1, 'b': 2, 'c': 3}\n"
     ]
    }
   ],
   "source": [
    "plain = {'a': 1,'b':2,'c':3}\n",
    "print(\"The dictionary is -\",plain)"
   ]
  },
  {
   "cell_type": "markdown",
   "id": "f1abd365",
   "metadata": {},
   "source": [
    "#### Q6: Make an OrderedDict called fancy from the same pairs listed in 5 and print it. Did it print in the same order as plain?\n",
    "\n",
    "#### A6:"
   ]
  },
  {
   "cell_type": "code",
   "execution_count": 24,
   "id": "2f3e24eb",
   "metadata": {},
   "outputs": [
    {
     "name": "stdout",
     "output_type": "stream",
     "text": [
      "The dictionary is - {'a': 1, 'b': 2, 'c': 3}\n"
     ]
    }
   ],
   "source": [
    "fancy = plain\n",
    "print(\"The dictionary is -\",fancy)"
   ]
  },
  {
   "cell_type": "markdown",
   "id": "2e9ff6f4",
   "metadata": {},
   "source": [
    "Yes, dictionary 'fancy' is printing in the same order as 'plain'."
   ]
  },
  {
   "cell_type": "markdown",
   "id": "ce1c5a5c",
   "metadata": {},
   "source": [
    "#### Q7: Make a default dictionary called dict_of_lists and pass it the argument list. Make the list dict_of_lists['a'] and append the value 'something for a' to it in one assignment. Print dict_of_lists['a'].\n",
    "\n",
    "#### A7:"
   ]
  },
  {
   "cell_type": "code",
   "execution_count": 34,
   "id": "ac33b104",
   "metadata": {},
   "outputs": [
    {
     "name": "stdout",
     "output_type": "stream",
     "text": [
      "The dictionary is - \n",
      " {'a': 'Empty Value Space', 'b': 'something for b', 'c': 'something for c'}\n",
      "The altered dictionary is - \n",
      " {'a': 'something for a', 'b': 'something for b', 'c': 'something for c'}\n"
     ]
    }
   ],
   "source": [
    "dict_of_lists = {'a':'Empty Value Space','b':'something for b','c':'something for c'}\n",
    "print(\"The dictionary is - \\n\",dict_of_lists)\n",
    "dict_of_lists['a'] = 'something for a'\n",
    "print(\"The altered dictionary is - \\n\",dict_of_lists)"
   ]
  }
 ],
 "metadata": {
  "kernelspec": {
   "display_name": "Python 3",
   "language": "python",
   "name": "python3"
  },
  "language_info": {
   "codemirror_mode": {
    "name": "ipython",
    "version": 3
   },
   "file_extension": ".py",
   "mimetype": "text/x-python",
   "name": "python",
   "nbconvert_exporter": "python",
   "pygments_lexer": "ipython3",
   "version": "3.8.8"
  }
 },
 "nbformat": 4,
 "nbformat_minor": 5
}
