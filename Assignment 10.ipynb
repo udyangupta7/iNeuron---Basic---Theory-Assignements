{
 "cells": [
  {
   "cell_type": "markdown",
   "id": "7d1ba361",
   "metadata": {},
   "source": [
    "# Assignment 10:\n",
    "\n",
    "#### Q1: How do you distinguish between shutil.copy( ) and shutil.copytree( )?\n",
    "\n",
    "#### A1:\n",
    "\n",
    "The shutil Module:\n",
    "\n",
    "The shutil (or shell utilities) module has functions to let you copy, move, rename, and delete files in your Python programs. To use the shutil functions, you will first need to use import shutil.\n",
    "\n",
    "While shutil.copy( ) will copies a single file, shutil.copytree( ) copies an entire folder and every folder and file contained in it. "
   ]
  },
  {
   "cell_type": "markdown",
   "id": "0f699589",
   "metadata": {},
   "source": [
    "#### Q2: What function is used to rename files?\n",
    "\n",
    "#### A2:\n",
    "\n",
    "rename() function is used to change the name of the file or directory i.e. from old_name to new_name without changing the content present in the file. This function takes name of the file as its argument."
   ]
  },
  {
   "cell_type": "markdown",
   "id": "a83b9451",
   "metadata": {},
   "source": [
    "#### Q3: What is the difference between the delete functions in the send2trash and shutil modules?\n",
    "\n",
    "#### A3:\n",
    "\n",
    "i. send2trash : Send2Trash is a small package that sends files to the Trash (or Recycle Bin) natively and on all platforms. To install it type the below command in the terminal.\n",
    "\n",
    "ii. shutil.rmtree() is used to delete an entire directory tree, path must point to a directory (but not a symbolic link to a directory)."
   ]
  },
  {
   "cell_type": "markdown",
   "id": "dd59a073",
   "metadata": {},
   "source": [
    "#### Q4: ZipFile objects have a close( ) method just like File objects’ close( ) method. What ZipFile method is equivalent to File objects’ open( ) method?\n",
    "\n",
    "#### A4:\n",
    "\n",
    "We have to to open Zip files in write mode to write files to the archive file. It overrides all the existing files in the Zip."
   ]
  },
  {
   "cell_type": "markdown",
   "id": "a4c340c0",
   "metadata": {},
   "source": [
    "#### Q5: Create a programme that searches a folder tree for files with a certain file extension (such as .pdf or .jpg). Copy these files from whatever location they are in to a new folder.\n",
    "\n",
    "#### A5:"
   ]
  },
  {
   "cell_type": "code",
   "execution_count": 1,
   "id": "a23976e8",
   "metadata": {},
   "outputs": [
    {
     "name": "stdout",
     "output_type": "stream",
     "text": [
      "Looking in /Users/yudiudyan/randomFolder for files with extensions of .php, .py\n"
     ]
    }
   ],
   "source": [
    "import os, shutil\n",
    "\n",
    "def selectiveCopy(folder, extensions, destFolder):\n",
    "    folder = os.path.abspath(folder)\n",
    "    destFolder = os.path.abspath(destFolder)\n",
    "    print('Looking in', folder, 'for files with extensions of', ', '.join(extensions))\n",
    "    for foldername, subfolders, filenames in os.walk(folder):\n",
    "        for filename in filenames:\n",
    "            name, extension = os.path.splitext(filename)\n",
    "            if extension in extensions:\n",
    "                fileAbsPath = foldername + os.path.sep + filename\n",
    "                print('Coping', fileAbsPath, 'to', destFolder)\n",
    "                shutil.copy(fileAbsPath, destFolder)\n",
    "\n",
    "extensions = ['.php', '.py']\n",
    "folder = 'randomFolder'\n",
    "destFolder = 'selectiveFolder'\n",
    "selectiveCopy(folder, extensions, destFolder)"
   ]
  }
 ],
 "metadata": {
  "kernelspec": {
   "display_name": "Python 3",
   "language": "python",
   "name": "python3"
  },
  "language_info": {
   "codemirror_mode": {
    "name": "ipython",
    "version": 3
   },
   "file_extension": ".py",
   "mimetype": "text/x-python",
   "name": "python",
   "nbconvert_exporter": "python",
   "pygments_lexer": "ipython3",
   "version": "3.8.8"
  }
 },
 "nbformat": 4,
 "nbformat_minor": 5
}
