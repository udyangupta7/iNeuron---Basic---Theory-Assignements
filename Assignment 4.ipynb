{
 "cells": [
  {
   "cell_type": "markdown",
   "metadata": {},
   "source": [
    "### Q1: What exactly is []?\n",
    "\n",
    "A1:\n",
    "an empty list is symbolized using []."
   ]
  },
  {
   "cell_type": "code",
   "execution_count": 1,
   "metadata": {},
   "outputs": [
    {
     "name": "stdout",
     "output_type": "stream",
     "text": [
      "Variable 'list' belongs to <class 'list'> .\n",
      "The empty list is:-  []\n"
     ]
    }
   ],
   "source": [
    "list = [] # declaring a list for varibable 'l'\n",
    "print(\"Variable 'list' belongs to\",type(list),\".\") # checking the datatype for varibale listlist\n",
    "print(\"The empty list is:- \",list) # printing all the elements of the list. (its empty so [] will be printed.)"
   ]
  },
  {
   "cell_type": "markdown",
   "metadata": {},
   "source": [
    "### Q2: In a list of values stored in a variable called spam, how would you assign the value 'hello' as the third value? (Assume [2, 4, 6, 8, 10] are in spam.)\n",
    "\n",
    "\n",
    "A2:\n",
    "\n",
    "On assuming that the list is spam = [2,4,6,8,10], we can assign \"hello\" as the third value by:"
   ]
  },
  {
   "cell_type": "code",
   "execution_count": 2,
   "metadata": {},
   "outputs": [
    {
     "name": "stdout",
     "output_type": "stream",
     "text": [
      "[2, 4, 'hello', 8, 10]\n"
     ]
    }
   ],
   "source": [
    "spam = [2,4,6,8,10]\n",
    "spam[2] = 'hello' # assigning the value at the 2nd index\n",
    "print(spam) # printing the new list with 'hello' at the third place."
   ]
  },
  {
   "cell_type": "markdown",
   "metadata": {},
   "source": [
    "### Q3: Let's pretend the spam includes the list ['a', 'b', 'c', 'd'] for the next three queries:\n",
    "\n",
    "b. What is the value of spam[int(int('3' * 2) / 11)]?\n",
    "\n",
    "c. What is the value of spam[-1]?\n",
    "\n",
    "d. What is the value of spam[:2]?\n",
    "\n",
    "A3.a:"
   ]
  },
  {
   "cell_type": "code",
   "execution_count": 3,
   "metadata": {},
   "outputs": [
    {
     "name": "stdout",
     "output_type": "stream",
     "text": [
      "d\n"
     ]
    }
   ],
   "source": [
    "spam = ['a', 'b', 'c', 'd'] \n",
    "print(spam[int(int('3' * 2) / 11)])"
   ]
  },
  {
   "cell_type": "markdown",
   "metadata": {},
   "source": [
    "A3.b:\n",
    "\n",
    "[-1] will print the last element on the list (or we can say that it will imply the first element in a list from the back as a negative index count from the back.)"
   ]
  },
  {
   "cell_type": "code",
   "execution_count": 4,
   "metadata": {},
   "outputs": [
    {
     "name": "stdout",
     "output_type": "stream",
     "text": [
      "d\n"
     ]
    }
   ],
   "source": [
    "print(spam[-1])"
   ]
  },
  {
   "cell_type": "markdown",
   "metadata": {},
   "source": [
    "A3.c:\n",
    "\n",
    "[:2] means indexes 0 and 1 will be printed."
   ]
  },
  {
   "cell_type": "code",
   "execution_count": 5,
   "metadata": {},
   "outputs": [
    {
     "name": "stdout",
     "output_type": "stream",
     "text": [
      "['a', 'b']\n"
     ]
    }
   ],
   "source": [
    "print(spam[:2])"
   ]
  },
  {
   "cell_type": "markdown",
   "metadata": {},
   "source": [
    "### Q4: Let's pretend bacon has the list [3.14, 'cat,' 11, 'cat,' True] for the next three questions:\n",
    "\n",
    "\n",
    "a. What is the value of bacon.index('cat')?\n",
    "\n",
    "b. How does bacon.append(99) change the look of the list value in bacon?\n",
    "\n",
    "c. How does bacon.remove('cat') change the look of the list in bacon?\n",
    "\n",
    "A4.a:"
   ]
  },
  {
   "cell_type": "code",
   "execution_count": 6,
   "metadata": {},
   "outputs": [
    {
     "name": "stdout",
     "output_type": "stream",
     "text": [
      "1\n"
     ]
    }
   ],
   "source": [
    "bacon = [3.14, 'cat', 11, 'cat', True]\n",
    "print(bacon.index('cat')) # will print the index for the string 'cat'."
   ]
  },
  {
   "cell_type": "markdown",
   "metadata": {},
   "source": [
    "A4.b:"
   ]
  },
  {
   "cell_type": "code",
   "execution_count": 7,
   "metadata": {},
   "outputs": [
    {
     "name": "stdout",
     "output_type": "stream",
     "text": [
      "[3.14, 'cat', 11, 'cat', True, 99]\n"
     ]
    }
   ],
   "source": [
    "bacon.append(99) # will add the int value '99' in the list bacon. There are now 6 total items in bacon.\n",
    "print(bacon) "
   ]
  },
  {
   "cell_type": "markdown",
   "metadata": {},
   "source": [
    "A4.c:"
   ]
  },
  {
   "cell_type": "code",
   "execution_count": 8,
   "metadata": {},
   "outputs": [
    {
     "name": "stdout",
     "output_type": "stream",
     "text": [
      "[3.14, 11, 'cat', True, 99]\n"
     ]
    }
   ],
   "source": [
    "bacon.remove('cat') # will delete the string 'cat' from the first index. There are now 5 total items in bacon.\n",
    "print(bacon) "
   ]
  },
  {
   "cell_type": "markdown",
   "metadata": {},
   "source": [
    "### Q5: What are the list concatenation and list replication operators?\n",
    "\n",
    "A5:\n",
    "\n",
    "list concatenation / replication: joining two lists together is list concatination. It is quite similar to string concatination. We can use the following operators to concatinate two lists:\n",
    "\n",
    "    i. the '+' operator.      ii. the '+=' operator.       iii. using '*' operator."
   ]
  },
  {
   "cell_type": "code",
   "execution_count": 9,
   "metadata": {},
   "outputs": [
    {
     "name": "stdout",
     "output_type": "stream",
     "text": [
      "[1, 2, 3, 4, 5, 'a', 'b', 'c', 'd', 'e']\n"
     ]
    }
   ],
   "source": [
    "# declatring two lists:\n",
    "list_1 = [1,2,3,4,5]\n",
    "list_2 = ['a','b','c','d','e']\n",
    "list_1 = list_1+list_2 # using + operator\n",
    "print(list_1)"
   ]
  },
  {
   "cell_type": "code",
   "execution_count": 10,
   "metadata": {},
   "outputs": [
    {
     "name": "stdout",
     "output_type": "stream",
     "text": [
      "[1, 2, 3, 4, 5, 'a', 'b', 'c', 'd', 'e']\n"
     ]
    }
   ],
   "source": [
    "# declatring two lists:\n",
    "list_1 = [1,2,3,4,5]\n",
    "list_2 = ['a','b','c','d','e']\n",
    "list_1 += list_2  # using += operator\n",
    "print(list_1)"
   ]
  },
  {
   "cell_type": "code",
   "execution_count": 11,
   "metadata": {},
   "outputs": [
    {
     "name": "stdout",
     "output_type": "stream",
     "text": [
      "[1, 2, 3, 'a', 'b', 'c', 1, 2, 3, 'a', 'b', 'c']\n"
     ]
    }
   ],
   "source": [
    "# declatring two lists:\n",
    "list_1 = [1,2,3,'a','b','c']\n",
    "list_1 = list_1*2  # using * operator\n",
    "print(list_1)"
   ]
  },
  {
   "cell_type": "markdown",
   "metadata": {},
   "source": [
    "### Q6: What is difference between the list methods append() and insert()?\n",
    "\n",
    "A6:\n",
    "\n",
    "list.append: The append() method appends an element to the end of the list.\n",
    "\n",
    "list.insert: The insert() method inserts the specified value at the specified position."
   ]
  },
  {
   "cell_type": "code",
   "execution_count": 12,
   "metadata": {},
   "outputs": [
    {
     "name": "stdout",
     "output_type": "stream",
     "text": [
      "The list before updation  is:-  [1, 2, 3]\n",
      "[1, 2, 500, 3, 50]\n"
     ]
    }
   ],
   "source": [
    "lists = [1,2,3]\n",
    "print(\"The list before updation  is:- \",lists)\n",
    "lists.append(50) # will be added at the end.\n",
    "lists.insert(2,500) # will be inserted between 2 and 3 since 2nd index is currently assigned to 3.\n",
    "print(lists)"
   ]
  },
  {
   "cell_type": "markdown",
   "metadata": {},
   "source": [
    "### Q7: What are the two methods for removing items from a list?\n",
    "\n",
    "A7:\n",
    "\n",
    "list.pop: the pop() function removes the element at the specified position.\n",
    "\n",
    "list.remove(): the remove() function removes the first item with the specified value."
   ]
  },
  {
   "cell_type": "code",
   "execution_count": 13,
   "metadata": {},
   "outputs": [
    {
     "name": "stdout",
     "output_type": "stream",
     "text": [
      "The list before updation  is:-  [1, 2, 4, 5, 3, 3, 4, 5, 6]\n",
      "[1, 2, 3, 3, 4, 5, 6]\n"
     ]
    }
   ],
   "source": [
    "list_s = [1,2,4,5,3,3,4,5,6] # a list of multiple and repetitive elements.\n",
    "print(\"The list before updation  is:- \",list_s)\n",
    "list_s.pop(2) # 2nd element will be removed from the list.\n",
    "list_s.remove(5) # first element with value '5' will be deleted.\n",
    "print(list_s)"
   ]
  },
  {
   "cell_type": "markdown",
   "metadata": {},
   "source": [
    "### Q8: Describe how list values and string values are identical.\n",
    "\n",
    "A8:\n",
    "\n",
    "Strings: Strings can be defined as sequential collections of characters. This means that the individual characters that make up a string are in a particular order from left to right. \n",
    "\n",
    "The most basic string is: string = \"hello world\" \n",
    "\n",
    "Lists: A list is a sequential collection of data values, where each value is termed as an index. The values that make up a list are called its elements.\n",
    "\n",
    "The most basic list is: lists = [1,2,'a','b']\n",
    "\n",
    "Lists are similar to strings, which are ordered collections of characters, except that the elements of a list can have any type and for any one list, the items can be of different types."
   ]
  },
  {
   "cell_type": "markdown",
   "metadata": {},
   "source": [
    "### Q9: What's the difference between tuples and lists?\n",
    "\n",
    "A8:\n",
    "\n",
    "Tuples: A collection of immutable objects as the elements (meaning that the values once assigned cannot be modified). Tuples are assigned using () parethesis.  \n",
    "\n",
    "Lists: Unlike tuples, lists are mutable objects and hence, data manipulation / updation is easier. Lists  are defined using [] parethesis.\n",
    "\n",
    "Ex:"
   ]
  },
  {
   "cell_type": "code",
   "execution_count": 18,
   "metadata": {},
   "outputs": [
    {
     "name": "stdout",
     "output_type": "stream",
     "text": [
      "Datatype for list_1 is:-  <class 'list'>\n",
      "Datatype for tuple_1 is:-  <class 'tuple'>\n"
     ]
    }
   ],
   "source": [
    "# a list:\n",
    "list_1 = [1,2,'a','b']\n",
    "tuple_1 = (1,2,'a','b')\n",
    "print(\"Datatype for list_1 is:- \",type(list_1))\n",
    "print(\"Datatype for tuple_1 is:- \",type(tuple_1))"
   ]
  },
  {
   "cell_type": "markdown",
   "metadata": {},
   "source": [
    "### Q10: How do you type a tuple value that only contains the integer 42?\n",
    "\n",
    "A10:\n",
    "\n",
    "A tuple with datatype int with an element '42' is: "
   ]
  },
  {
   "cell_type": "code",
   "execution_count": 24,
   "metadata": {},
   "outputs": [
    {
     "name": "stdout",
     "output_type": "stream",
     "text": [
      "<class 'tuple'>\n"
     ]
    }
   ],
   "source": [
    "tuple_2 = (42,)\n",
    "print(type(tuple_2))"
   ]
  },
  {
   "cell_type": "markdown",
   "metadata": {},
   "source": [
    "### Q11: How do you get a list value's tuple form? How do you get a tuple value's list form?\n",
    "\n",
    "A11:\n",
    "\n",
    "Changing lists to tuples is called typecasting and it can be done using but the vice-versa is not possible.\n",
    "\n",
    "Ex:"
   ]
  },
  {
   "cell_type": "code",
   "execution_count": 52,
   "metadata": {},
   "outputs": [
    {
     "name": "stdout",
     "output_type": "stream",
     "text": [
      "Datatype for list_1 is:-  <class 'list'>\n",
      "Datatype for tuple_1 is:-  <class 'tuple'>\n",
      "\n",
      "Datatype for list_1 has been changed to:-  <class 'tuple'>\n",
      "Error while typecasting a list into a tuple is:-  'list' object is not callable\n"
     ]
    }
   ],
   "source": [
    "# Declaring a tuple and a list first:\n",
    "list_1 = [1,2,'a','b']\n",
    "tuple_1 = (1,2,'a','b')\n",
    "# Checking the datatypes:\n",
    "print(\"Datatype for list_1 is:- \",type(list_1)) \n",
    "print(\"Datatype for tuple_1 is:- \",type(tuple_1))\n",
    "# Typecasting them:\n",
    "tuple_2 = tuple(list_1)\n",
    "print(\"\\nDatatype for list_1 has been changed to:- \",type(tuple_2))\n",
    "# but changing a tuple into a list will give an error:\n",
    "try:\n",
    "    list_2 = list(tuple_1)\n",
    "    print(\"Datatype for tuple_1 has been changed to:- \",type(list_2),\"\\n\\n\")\n",
    "except (TypeError,ValueError) as e:\n",
    "    print(\"Error while typecasting a list into a tuple is:- \",e)"
   ]
  },
  {
   "cell_type": "markdown",
   "metadata": {},
   "source": [
    "### Q12: Variables that \"contain\" list values are not necessarily lists themselves. Instead, what do they contain?\n",
    "\n",
    "A12:\n",
    "\n",
    "A list can contain multiple datatypes and/or a combination of various datatypes. They can also contain dictionaries, tuples, sets and also lists inside lists.\n",
    "\n",
    "Ex:"
   ]
  },
  {
   "cell_type": "code",
   "execution_count": 63,
   "metadata": {},
   "outputs": [
    {
     "name": "stdout",
     "output_type": "stream",
     "text": [
      "Data type for 1 is:-  <class 'int'>\n",
      "Data type for 2 is:-  <class 'str'>\n",
      "Data type for True is:-  <class 'bool'>\n",
      "Data type for 3.4 is:-  <class 'float'>\n",
      "Data type for {'a': 'abc', 'b': 'cde'} is:-  <class 'dict'>\n",
      "Data type for ('e', 'f') is:-  <class 'tuple'>\n",
      "Data type for {'c', 'e', 'd', 'b', 'a'} is:-  <class 'set'>\n",
      "Data type for [1, 2, 3] is:-  <class 'list'>\n"
     ]
    }
   ],
   "source": [
    "list_dtypes = [1,'2',True,3.4,{'a':'abc','b':'cde'},('e','f'),set('abdced'),[1,2,3]]\n",
    "for i in list_dtypes:\n",
    "    print(\"Data type for\",i,\"is:- \",type(i))"
   ]
  },
  {
   "cell_type": "markdown",
   "metadata": {},
   "source": [
    "### Q13: How do you distinguish between copy.copy() and copy.deepcopy()?\n",
    "\n",
    "A13:\n",
    "\n",
    "1. A shallow copy constructs a new compound object and then (to the extent possible) inserts references into it to the objects found in the original.\n",
    "\n",
    "2. A deep copy constructs a new compound object and then, recursively, inserts copies into it of the objects found in the original."
   ]
  }
 ],
 "metadata": {
  "kernelspec": {
   "display_name": "Python 3",
   "language": "python",
   "name": "python3"
  },
  "language_info": {
   "codemirror_mode": {
    "name": "ipython",
    "version": 3
   },
   "file_extension": ".py",
   "mimetype": "text/x-python",
   "name": "python",
   "nbconvert_exporter": "python",
   "pygments_lexer": "ipython3",
   "version": "3.8.5"
  }
 },
 "nbformat": 4,
 "nbformat_minor": 4
}
